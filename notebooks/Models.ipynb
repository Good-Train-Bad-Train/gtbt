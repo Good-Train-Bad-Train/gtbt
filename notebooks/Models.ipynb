{
 "cells": [
  {
   "cell_type": "markdown",
   "metadata": {
    "tags": []
   },
   "source": [
    "# MODELS - Classification and Regression"
   ]
  },
  {
   "cell_type": "markdown",
   "metadata": {},
   "source": [
    "We tested many different models. This notebook starts with a common pipeline for data formatting, then goes through the model we ended up using (LightGBM), and at the end there are several other types of models that we could also use with our data."
   ]
  },
  {
   "cell_type": "code",
   "execution_count": 1,
   "metadata": {
    "colab": {
     "base_uri": "https://localhost:8080/"
    },
    "id": "VpvtDZVNzyqM",
    "outputId": "dccf75f8-8bbf-471b-c892-b5f9a5594f8e"
   },
   "outputs": [],
   "source": [
    "%load_ext autoreload\n",
    "%autoreload 2\n",
    "\n",
    "import pandas as pd\n",
    "pd.set_option('display.max_columns', None)\n",
    "import numpy as np\n",
    "\n",
    "import matplotlib.pyplot as plt\n",
    "import seaborn as sns\n",
    "\n",
    "from sklearn import set_config\n",
    "set_config(display='diagram')"
   ]
  },
  {
   "cell_type": "code",
   "execution_count": 2,
   "metadata": {
    "colab": {
     "base_uri": "https://localhost:8080/"
    },
    "id": "NDxVNSQGzyqk",
    "outputId": "b178bb15-2c6b-4e85-b1ab-d57b18a27d1b"
   },
   "outputs": [
    {
     "name": "stderr",
     "output_type": "stream",
     "text": [
      "2022-06-15 11:38:21.427060: W tensorflow/stream_executor/platform/default/dso_loader.cc:64] Could not load dynamic library 'libcudart.so.11.0'; dlerror: libcudart.so.11.0: cannot open shared object file: No such file or directory\n",
      "2022-06-15 11:38:21.427260: I tensorflow/stream_executor/cuda/cudart_stub.cc:29] Ignore above cudart dlerror if you do not have a GPU set up on your machine.\n"
     ]
    }
   ],
   "source": [
    "from tensorflow.keras.utils import to_categorical\n",
    "\n",
    "data = pd.read_csv('../data/data_for_model_legs.csv')\n",
    "\n",
    "data.head()\n",
    "X = data[['trip','mean_delay','weekday','sin_time','cos_time','sin_day','cos_day','public_holiday','covid_lockdown','temp_max_combined', 'temp_min_combined','prcp_max_combined', 'snow_max_combined', 'wspd_max_combined','wpgt_max_combined', 'coco_max_combined']]\n",
    "X = X[0:-1] # there is an issue with a null yas the last entry, we have to remove that one, therefore also the corresponding X\n",
    "y = data['target_good_bad'] \n",
    "y = y[0:-1]\n",
    "y=y.astype('int') # important as otherwise it gets attributed \"object\" type, which is bad for models"
   ]
  },
  {
   "cell_type": "code",
   "execution_count": 4,
   "metadata": {
    "id": "jjWBlL4Izyqv"
   },
   "outputs": [],
   "source": [
    "from sklearn.model_selection import train_test_split\n",
    "X_train, X_val, y_train, y_val = train_test_split(X, y, test_size = 0.2)\n",
    "\n",
    "train_ratio = 0.75\n",
    "validation_ratio = 0.15\n",
    "test_ratio = 0.10\n",
    "\n",
    "# train is now 75% of the entire data set\n",
    "# the _junk suffix means that we drop that variable completely\n",
    "X_train, X_test, y_train, y_test = train_test_split(X, y, test_size=1 - train_ratio)\n",
    "\n",
    "# test is now 10% of the initial data set\n",
    "# validation is now 15% of the initial data set\n",
    "X_val, X_test, y_val, y_test = train_test_split(X_test, y_test, test_size=test_ratio/(test_ratio + validation_ratio)) \n"
   ]
  },
  {
   "cell_type": "code",
   "execution_count": 5,
   "metadata": {
    "id": "uvYXDrxZzyq3"
   },
   "outputs": [],
   "source": [
    "from sklearn.pipeline import make_pipeline\n",
    "from sklearn.compose import ColumnTransformer\n",
    "from sklearn.feature_selection import SelectPercentile, mutual_info_regression\n",
    "from sklearn.preprocessing import OrdinalEncoder, MinMaxScaler, OneHotEncoder\n",
    "from sklearn.impute import SimpleImputer, KNNImputer\n",
    "\n",
    "def create_preproc_ordinal():\n",
    "    feat_ordinal_dict = {\n",
    "        # considers \"missing\" as the worse category\n",
    "        \"coco_max_combined\": [1, 2, 3, 4]\n",
    "    }\n",
    "\n",
    "    feat_ordinal = sorted(feat_ordinal_dict.keys())\n",
    "    feat_ordinal_values_sorted = [feat_ordinal_dict[i] for i in feat_ordinal]\n",
    "\n",
    "    encoder_ordinal = OrdinalEncoder(\n",
    "        categories=feat_ordinal_values_sorted,\n",
    "        handle_unknown=\"use_encoded_value\",\n",
    "        unknown_value=-1  # Considers unknown values as worse than \"missing\"\n",
    "    )\n",
    "\n",
    "    preproc_ordinal = make_pipeline(\n",
    "        SimpleImputer(strategy=\"constant\", fill_value=1),\n",
    "        encoder_ordinal,\n",
    "        MinMaxScaler()\n",
    "    )\n",
    "\n",
    "    return preproc_ordinal, feat_ordinal\n",
    "\n",
    "\n",
    "def create_preproc_numerical():\n",
    "    return make_pipeline(\n",
    "        KNNImputer(),\n",
    "        MinMaxScaler()\n",
    "    )\n",
    "\n",
    "def create_preproc_nominal():\n",
    "    return make_pipeline(\n",
    "        SimpleImputer(strategy=\"most_frequent\"),\n",
    "        OneHotEncoder(handle_unknown=\"ignore\")\n",
    "    )"
   ]
  },
  {
   "cell_type": "code",
   "execution_count": 6,
   "metadata": {
    "id": "3d2UcqGhzyq-"
   },
   "outputs": [],
   "source": [
    "def create_preproc(X, percentile = 75):\n",
    "    \"\"\"Create an (unfitted) sklearn preprocessing pipeline well suited for the Houses Kaggle Competition\n",
    "\n",
    "    Args:\n",
    "        X (pandas.DataFrame): Feature matrix\n",
    "        percentile (float): Percentage of feature to keep after one hot encoding\n",
    "\n",
    "    Returns:\n",
    "        sklearn.pipeline.Pipeline: un-fitted preprocessor\n",
    "    \"\"\"\n",
    "    preproc_ordinal, feat_ordinal = create_preproc_ordinal()\n",
    "    \n",
    "    preproc_numerical = create_preproc_numerical()\n",
    "    feat_numerical = sorted(X.select_dtypes(\n",
    "        include=[\"float64\"]).columns)\n",
    "    \n",
    "    preproc_nominal = create_preproc_nominal()\n",
    "    feat_nominal = sorted(\n",
    "        list(set(X.columns) - set(feat_numerical) - set(feat_ordinal)))\n",
    "    \n",
    "    feature_transformer = ColumnTransformer(\n",
    "        [\n",
    "        (\"numerical_encoder\", preproc_numerical, feat_numerical),\n",
    "        (\"ordinal_encoder\", preproc_ordinal, feat_ordinal),\n",
    "        (\"nominal_encoder\", preproc_nominal, feat_nominal)\n",
    "        ],\n",
    "        remainder=\"drop\")\n",
    "\n",
    "    feature_selector = SelectPercentile(\n",
    "        mutual_info_regression,\n",
    "        percentile=percentile,  # keep the xx% most important features\n",
    "    )\n",
    "\n",
    "    preproc = make_pipeline(\n",
    "        feature_transformer,\n",
    "        feature_selector\n",
    "    )\n",
    "    return preproc"
   ]
  },
  {
   "cell_type": "code",
   "execution_count": 7,
   "metadata": {
    "colab": {
     "base_uri": "https://localhost:8080/",
     "height": 262
    },
    "id": "T4kzLq8jzyrD",
    "outputId": "dbe7c49a-0c65-46d3-e41d-ec81725a3328"
   },
   "outputs": [
    {
     "data": {
      "text/html": [
       "<style>#sk-f038b301-79d8-4e05-96a7-bb1762b5ee15 {color: black;background-color: white;}#sk-f038b301-79d8-4e05-96a7-bb1762b5ee15 pre{padding: 0;}#sk-f038b301-79d8-4e05-96a7-bb1762b5ee15 div.sk-toggleable {background-color: white;}#sk-f038b301-79d8-4e05-96a7-bb1762b5ee15 label.sk-toggleable__label {cursor: pointer;display: block;width: 100%;margin-bottom: 0;padding: 0.2em 0.3em;box-sizing: border-box;text-align: center;}#sk-f038b301-79d8-4e05-96a7-bb1762b5ee15 div.sk-toggleable__content {max-height: 0;max-width: 0;overflow: hidden;text-align: left;background-color: #f0f8ff;}#sk-f038b301-79d8-4e05-96a7-bb1762b5ee15 div.sk-toggleable__content pre {margin: 0.2em;color: black;border-radius: 0.25em;background-color: #f0f8ff;}#sk-f038b301-79d8-4e05-96a7-bb1762b5ee15 input.sk-toggleable__control:checked~div.sk-toggleable__content {max-height: 200px;max-width: 100%;overflow: auto;}#sk-f038b301-79d8-4e05-96a7-bb1762b5ee15 div.sk-estimator input.sk-toggleable__control:checked~label.sk-toggleable__label {background-color: #d4ebff;}#sk-f038b301-79d8-4e05-96a7-bb1762b5ee15 div.sk-label input.sk-toggleable__control:checked~label.sk-toggleable__label {background-color: #d4ebff;}#sk-f038b301-79d8-4e05-96a7-bb1762b5ee15 input.sk-hidden--visually {border: 0;clip: rect(1px 1px 1px 1px);clip: rect(1px, 1px, 1px, 1px);height: 1px;margin: -1px;overflow: hidden;padding: 0;position: absolute;width: 1px;}#sk-f038b301-79d8-4e05-96a7-bb1762b5ee15 div.sk-estimator {font-family: monospace;background-color: #f0f8ff;margin: 0.25em 0.25em;border: 1px dotted black;border-radius: 0.25em;box-sizing: border-box;}#sk-f038b301-79d8-4e05-96a7-bb1762b5ee15 div.sk-estimator:hover {background-color: #d4ebff;}#sk-f038b301-79d8-4e05-96a7-bb1762b5ee15 div.sk-parallel-item::after {content: \"\";width: 100%;border-bottom: 1px solid gray;flex-grow: 1;}#sk-f038b301-79d8-4e05-96a7-bb1762b5ee15 div.sk-label:hover label.sk-toggleable__label {background-color: #d4ebff;}#sk-f038b301-79d8-4e05-96a7-bb1762b5ee15 div.sk-serial::before {content: \"\";position: absolute;border-left: 1px solid gray;box-sizing: border-box;top: 2em;bottom: 0;left: 50%;}#sk-f038b301-79d8-4e05-96a7-bb1762b5ee15 div.sk-serial {display: flex;flex-direction: column;align-items: center;background-color: white;}#sk-f038b301-79d8-4e05-96a7-bb1762b5ee15 div.sk-item {z-index: 1;}#sk-f038b301-79d8-4e05-96a7-bb1762b5ee15 div.sk-parallel {display: flex;align-items: stretch;justify-content: center;background-color: white;}#sk-f038b301-79d8-4e05-96a7-bb1762b5ee15 div.sk-parallel-item {display: flex;flex-direction: column;position: relative;background-color: white;}#sk-f038b301-79d8-4e05-96a7-bb1762b5ee15 div.sk-parallel-item:first-child::after {align-self: flex-end;width: 50%;}#sk-f038b301-79d8-4e05-96a7-bb1762b5ee15 div.sk-parallel-item:last-child::after {align-self: flex-start;width: 50%;}#sk-f038b301-79d8-4e05-96a7-bb1762b5ee15 div.sk-parallel-item:only-child::after {width: 0;}#sk-f038b301-79d8-4e05-96a7-bb1762b5ee15 div.sk-dashed-wrapped {border: 1px dashed gray;margin: 0.2em;box-sizing: border-box;padding-bottom: 0.1em;background-color: white;position: relative;}#sk-f038b301-79d8-4e05-96a7-bb1762b5ee15 div.sk-label label {font-family: monospace;font-weight: bold;background-color: white;display: inline-block;line-height: 1.2em;}#sk-f038b301-79d8-4e05-96a7-bb1762b5ee15 div.sk-label-container {position: relative;z-index: 2;text-align: center;}#sk-f038b301-79d8-4e05-96a7-bb1762b5ee15 div.sk-container {display: inline-block;position: relative;}</style><div id=\"sk-f038b301-79d8-4e05-96a7-bb1762b5ee15\" class\"sk-top-container\"><div class=\"sk-container\"><div class=\"sk-item sk-dashed-wrapped\"><div class=\"sk-label-container\"><div class=\"sk-label sk-toggleable\"><input class=\"sk-toggleable__control sk-hidden--visually\" id=\"f470be88-477a-440a-8589-0f2df0966f39\" type=\"checkbox\" ><label class=\"sk-toggleable__label\" for=\"f470be88-477a-440a-8589-0f2df0966f39\">Pipeline</label><div class=\"sk-toggleable__content\"><pre>Pipeline(steps=[('columntransformer',\n",
       "                 ColumnTransformer(transformers=[('numerical_encoder',\n",
       "                                                  Pipeline(steps=[('knnimputer',\n",
       "                                                                   KNNImputer()),\n",
       "                                                                  ('minmaxscaler',\n",
       "                                                                   MinMaxScaler())]),\n",
       "                                                  ['coco_max_combined',\n",
       "                                                   'cos_day', 'cos_time',\n",
       "                                                   'mean_delay',\n",
       "                                                   'prcp_max_combined',\n",
       "                                                   'sin_day', 'sin_time',\n",
       "                                                   'snow_max_combined',\n",
       "                                                   'temp_max_combined',\n",
       "                                                   'temp_min_combined',\n",
       "                                                   'wpgt_max_combined',\n",
       "                                                   'wspd_...\n",
       "                                                                   MinMaxScaler())]),\n",
       "                                                  ['coco_max_combined']),\n",
       "                                                 ('nominal_encoder',\n",
       "                                                  Pipeline(steps=[('simpleimputer',\n",
       "                                                                   SimpleImputer(strategy='most_frequent')),\n",
       "                                                                  ('onehotencoder',\n",
       "                                                                   OneHotEncoder(handle_unknown='ignore'))]),\n",
       "                                                  ['covid_lockdown',\n",
       "                                                   'public_holiday', 'trip',\n",
       "                                                   'weekday'])])),\n",
       "                ('selectpercentile',\n",
       "                 SelectPercentile(percentile=75,\n",
       "                                  score_func=<function mutual_info_regression at 0x7f88ceeeaa60>))])</pre></div></div></div><div class=\"sk-serial\"><div class=\"sk-item sk-dashed-wrapped\"><div class=\"sk-label-container\"><div class=\"sk-label sk-toggleable\"><input class=\"sk-toggleable__control sk-hidden--visually\" id=\"5bc182cf-c8b8-4760-884e-1a41109ca52e\" type=\"checkbox\" ><label class=\"sk-toggleable__label\" for=\"5bc182cf-c8b8-4760-884e-1a41109ca52e\">columntransformer: ColumnTransformer</label><div class=\"sk-toggleable__content\"><pre>ColumnTransformer(transformers=[('numerical_encoder',\n",
       "                                 Pipeline(steps=[('knnimputer', KNNImputer()),\n",
       "                                                 ('minmaxscaler',\n",
       "                                                  MinMaxScaler())]),\n",
       "                                 ['coco_max_combined', 'cos_day', 'cos_time',\n",
       "                                  'mean_delay', 'prcp_max_combined', 'sin_day',\n",
       "                                  'sin_time', 'snow_max_combined',\n",
       "                                  'temp_max_combined', 'temp_min_combined',\n",
       "                                  'wpgt_max_combined', 'wspd_max_combined']),\n",
       "                                ('ordinal_encoder',\n",
       "                                 Pi...\n",
       "                                                  OrdinalEncoder(categories=[[1,\n",
       "                                                                              2,\n",
       "                                                                              3,\n",
       "                                                                              4]],\n",
       "                                                                 handle_unknown='use_encoded_value',\n",
       "                                                                 unknown_value=-1)),\n",
       "                                                 ('minmaxscaler',\n",
       "                                                  MinMaxScaler())]),\n",
       "                                 ['coco_max_combined']),\n",
       "                                ('nominal_encoder',\n",
       "                                 Pipeline(steps=[('simpleimputer',\n",
       "                                                  SimpleImputer(strategy='most_frequent')),\n",
       "                                                 ('onehotencoder',\n",
       "                                                  OneHotEncoder(handle_unknown='ignore'))]),\n",
       "                                 ['covid_lockdown', 'public_holiday', 'trip',\n",
       "                                  'weekday'])])</pre></div></div></div><div class=\"sk-parallel\"><div class=\"sk-parallel-item\"><div class=\"sk-item\"><div class=\"sk-label-container\"><div class=\"sk-label sk-toggleable\"><input class=\"sk-toggleable__control sk-hidden--visually\" id=\"7e412643-c0a9-4479-8479-38267384159b\" type=\"checkbox\" ><label class=\"sk-toggleable__label\" for=\"7e412643-c0a9-4479-8479-38267384159b\">numerical_encoder</label><div class=\"sk-toggleable__content\"><pre>['coco_max_combined', 'cos_day', 'cos_time', 'mean_delay', 'prcp_max_combined', 'sin_day', 'sin_time', 'snow_max_combined', 'temp_max_combined', 'temp_min_combined', 'wpgt_max_combined', 'wspd_max_combined']</pre></div></div></div><div class=\"sk-serial\"><div class=\"sk-item\"><div class=\"sk-serial\"><div class=\"sk-item\"><div class=\"sk-estimator sk-toggleable\"><input class=\"sk-toggleable__control sk-hidden--visually\" id=\"dd21eb97-aa30-416f-a71b-03d2486db597\" type=\"checkbox\" ><label class=\"sk-toggleable__label\" for=\"dd21eb97-aa30-416f-a71b-03d2486db597\">KNNImputer</label><div class=\"sk-toggleable__content\"><pre>KNNImputer()</pre></div></div></div><div class=\"sk-item\"><div class=\"sk-estimator sk-toggleable\"><input class=\"sk-toggleable__control sk-hidden--visually\" id=\"6dd97478-fa93-4b13-b391-ac12cb6b64eb\" type=\"checkbox\" ><label class=\"sk-toggleable__label\" for=\"6dd97478-fa93-4b13-b391-ac12cb6b64eb\">MinMaxScaler</label><div class=\"sk-toggleable__content\"><pre>MinMaxScaler()</pre></div></div></div></div></div></div></div></div><div class=\"sk-parallel-item\"><div class=\"sk-item\"><div class=\"sk-label-container\"><div class=\"sk-label sk-toggleable\"><input class=\"sk-toggleable__control sk-hidden--visually\" id=\"0f99fd4b-9795-410a-90cc-5b6796929617\" type=\"checkbox\" ><label class=\"sk-toggleable__label\" for=\"0f99fd4b-9795-410a-90cc-5b6796929617\">ordinal_encoder</label><div class=\"sk-toggleable__content\"><pre>['coco_max_combined']</pre></div></div></div><div class=\"sk-serial\"><div class=\"sk-item\"><div class=\"sk-serial\"><div class=\"sk-item\"><div class=\"sk-estimator sk-toggleable\"><input class=\"sk-toggleable__control sk-hidden--visually\" id=\"80315926-5858-47cd-a903-5db4b330e615\" type=\"checkbox\" ><label class=\"sk-toggleable__label\" for=\"80315926-5858-47cd-a903-5db4b330e615\">SimpleImputer</label><div class=\"sk-toggleable__content\"><pre>SimpleImputer(fill_value=1, strategy='constant')</pre></div></div></div><div class=\"sk-item\"><div class=\"sk-estimator sk-toggleable\"><input class=\"sk-toggleable__control sk-hidden--visually\" id=\"da0edc5b-d356-400f-9b2a-cd961573a8a3\" type=\"checkbox\" ><label class=\"sk-toggleable__label\" for=\"da0edc5b-d356-400f-9b2a-cd961573a8a3\">OrdinalEncoder</label><div class=\"sk-toggleable__content\"><pre>OrdinalEncoder(categories=[[1, 2, 3, 4]], handle_unknown='use_encoded_value',\n",
       "               unknown_value=-1)</pre></div></div></div><div class=\"sk-item\"><div class=\"sk-estimator sk-toggleable\"><input class=\"sk-toggleable__control sk-hidden--visually\" id=\"f5d84b15-ad80-4622-9b80-0a49229c845e\" type=\"checkbox\" ><label class=\"sk-toggleable__label\" for=\"f5d84b15-ad80-4622-9b80-0a49229c845e\">MinMaxScaler</label><div class=\"sk-toggleable__content\"><pre>MinMaxScaler()</pre></div></div></div></div></div></div></div></div><div class=\"sk-parallel-item\"><div class=\"sk-item\"><div class=\"sk-label-container\"><div class=\"sk-label sk-toggleable\"><input class=\"sk-toggleable__control sk-hidden--visually\" id=\"bd46f7ab-9ee5-4cee-9f99-c8d03152ec9a\" type=\"checkbox\" ><label class=\"sk-toggleable__label\" for=\"bd46f7ab-9ee5-4cee-9f99-c8d03152ec9a\">nominal_encoder</label><div class=\"sk-toggleable__content\"><pre>['covid_lockdown', 'public_holiday', 'trip', 'weekday']</pre></div></div></div><div class=\"sk-serial\"><div class=\"sk-item\"><div class=\"sk-serial\"><div class=\"sk-item\"><div class=\"sk-estimator sk-toggleable\"><input class=\"sk-toggleable__control sk-hidden--visually\" id=\"96055271-c932-40d2-bfc1-f46694a7020e\" type=\"checkbox\" ><label class=\"sk-toggleable__label\" for=\"96055271-c932-40d2-bfc1-f46694a7020e\">SimpleImputer</label><div class=\"sk-toggleable__content\"><pre>SimpleImputer(strategy='most_frequent')</pre></div></div></div><div class=\"sk-item\"><div class=\"sk-estimator sk-toggleable\"><input class=\"sk-toggleable__control sk-hidden--visually\" id=\"17da733d-886d-49dc-9c1b-efd6e60c78dc\" type=\"checkbox\" ><label class=\"sk-toggleable__label\" for=\"17da733d-886d-49dc-9c1b-efd6e60c78dc\">OneHotEncoder</label><div class=\"sk-toggleable__content\"><pre>OneHotEncoder(handle_unknown='ignore')</pre></div></div></div></div></div></div></div></div></div></div><div class=\"sk-item\"><div class=\"sk-estimator sk-toggleable\"><input class=\"sk-toggleable__control sk-hidden--visually\" id=\"4205f3f9-cdd7-43a2-8524-7a708d500f62\" type=\"checkbox\" ><label class=\"sk-toggleable__label\" for=\"4205f3f9-cdd7-43a2-8524-7a708d500f62\">SelectPercentile</label><div class=\"sk-toggleable__content\"><pre>SelectPercentile(percentile=75,\n",
       "                 score_func=<function mutual_info_regression at 0x7f88ceeeaa60>)</pre></div></div></div></div></div></div></div>"
      ],
      "text/plain": [
       "Pipeline(steps=[('columntransformer',\n",
       "                 ColumnTransformer(transformers=[('numerical_encoder',\n",
       "                                                  Pipeline(steps=[('knnimputer',\n",
       "                                                                   KNNImputer()),\n",
       "                                                                  ('minmaxscaler',\n",
       "                                                                   MinMaxScaler())]),\n",
       "                                                  ['coco_max_combined',\n",
       "                                                   'cos_day', 'cos_time',\n",
       "                                                   'mean_delay',\n",
       "                                                   'prcp_max_combined',\n",
       "                                                   'sin_day', 'sin_time',\n",
       "                                                   'snow_max_combined',\n",
       "                                                   'temp_max_combined',\n",
       "                                                   'temp_min_combined',\n",
       "                                                   'wpgt_max_combined',\n",
       "                                                   'wspd_...\n",
       "                                                                   MinMaxScaler())]),\n",
       "                                                  ['coco_max_combined']),\n",
       "                                                 ('nominal_encoder',\n",
       "                                                  Pipeline(steps=[('simpleimputer',\n",
       "                                                                   SimpleImputer(strategy='most_frequent')),\n",
       "                                                                  ('onehotencoder',\n",
       "                                                                   OneHotEncoder(handle_unknown='ignore'))]),\n",
       "                                                  ['covid_lockdown',\n",
       "                                                   'public_holiday', 'trip',\n",
       "                                                   'weekday'])])),\n",
       "                ('selectpercentile',\n",
       "                 SelectPercentile(percentile=75,\n",
       "                                  score_func=<function mutual_info_regression at 0x7f88ceeeaa60>))])"
      ]
     },
     "execution_count": 7,
     "metadata": {},
     "output_type": "execute_result"
    }
   ],
   "source": [
    "preproc = create_preproc(X_train)\n",
    "preproc"
   ]
  },
  {
   "cell_type": "code",
   "execution_count": 8,
   "metadata": {
    "colab": {
     "base_uri": "https://localhost:8080/",
     "height": 262
    },
    "id": "CkxQZL-WzyrL",
    "outputId": "7d6def69-4d3a-4fd8-bc9e-d65e687bee18"
   },
   "outputs": [
    {
     "data": {
      "text/html": [
       "<style>#sk-e71e608b-c3a9-4fa9-88db-3b59710cc4c3 {color: black;background-color: white;}#sk-e71e608b-c3a9-4fa9-88db-3b59710cc4c3 pre{padding: 0;}#sk-e71e608b-c3a9-4fa9-88db-3b59710cc4c3 div.sk-toggleable {background-color: white;}#sk-e71e608b-c3a9-4fa9-88db-3b59710cc4c3 label.sk-toggleable__label {cursor: pointer;display: block;width: 100%;margin-bottom: 0;padding: 0.2em 0.3em;box-sizing: border-box;text-align: center;}#sk-e71e608b-c3a9-4fa9-88db-3b59710cc4c3 div.sk-toggleable__content {max-height: 0;max-width: 0;overflow: hidden;text-align: left;background-color: #f0f8ff;}#sk-e71e608b-c3a9-4fa9-88db-3b59710cc4c3 div.sk-toggleable__content pre {margin: 0.2em;color: black;border-radius: 0.25em;background-color: #f0f8ff;}#sk-e71e608b-c3a9-4fa9-88db-3b59710cc4c3 input.sk-toggleable__control:checked~div.sk-toggleable__content {max-height: 200px;max-width: 100%;overflow: auto;}#sk-e71e608b-c3a9-4fa9-88db-3b59710cc4c3 div.sk-estimator input.sk-toggleable__control:checked~label.sk-toggleable__label {background-color: #d4ebff;}#sk-e71e608b-c3a9-4fa9-88db-3b59710cc4c3 div.sk-label input.sk-toggleable__control:checked~label.sk-toggleable__label {background-color: #d4ebff;}#sk-e71e608b-c3a9-4fa9-88db-3b59710cc4c3 input.sk-hidden--visually {border: 0;clip: rect(1px 1px 1px 1px);clip: rect(1px, 1px, 1px, 1px);height: 1px;margin: -1px;overflow: hidden;padding: 0;position: absolute;width: 1px;}#sk-e71e608b-c3a9-4fa9-88db-3b59710cc4c3 div.sk-estimator {font-family: monospace;background-color: #f0f8ff;margin: 0.25em 0.25em;border: 1px dotted black;border-radius: 0.25em;box-sizing: border-box;}#sk-e71e608b-c3a9-4fa9-88db-3b59710cc4c3 div.sk-estimator:hover {background-color: #d4ebff;}#sk-e71e608b-c3a9-4fa9-88db-3b59710cc4c3 div.sk-parallel-item::after {content: \"\";width: 100%;border-bottom: 1px solid gray;flex-grow: 1;}#sk-e71e608b-c3a9-4fa9-88db-3b59710cc4c3 div.sk-label:hover label.sk-toggleable__label {background-color: #d4ebff;}#sk-e71e608b-c3a9-4fa9-88db-3b59710cc4c3 div.sk-serial::before {content: \"\";position: absolute;border-left: 1px solid gray;box-sizing: border-box;top: 2em;bottom: 0;left: 50%;}#sk-e71e608b-c3a9-4fa9-88db-3b59710cc4c3 div.sk-serial {display: flex;flex-direction: column;align-items: center;background-color: white;}#sk-e71e608b-c3a9-4fa9-88db-3b59710cc4c3 div.sk-item {z-index: 1;}#sk-e71e608b-c3a9-4fa9-88db-3b59710cc4c3 div.sk-parallel {display: flex;align-items: stretch;justify-content: center;background-color: white;}#sk-e71e608b-c3a9-4fa9-88db-3b59710cc4c3 div.sk-parallel-item {display: flex;flex-direction: column;position: relative;background-color: white;}#sk-e71e608b-c3a9-4fa9-88db-3b59710cc4c3 div.sk-parallel-item:first-child::after {align-self: flex-end;width: 50%;}#sk-e71e608b-c3a9-4fa9-88db-3b59710cc4c3 div.sk-parallel-item:last-child::after {align-self: flex-start;width: 50%;}#sk-e71e608b-c3a9-4fa9-88db-3b59710cc4c3 div.sk-parallel-item:only-child::after {width: 0;}#sk-e71e608b-c3a9-4fa9-88db-3b59710cc4c3 div.sk-dashed-wrapped {border: 1px dashed gray;margin: 0.2em;box-sizing: border-box;padding-bottom: 0.1em;background-color: white;position: relative;}#sk-e71e608b-c3a9-4fa9-88db-3b59710cc4c3 div.sk-label label {font-family: monospace;font-weight: bold;background-color: white;display: inline-block;line-height: 1.2em;}#sk-e71e608b-c3a9-4fa9-88db-3b59710cc4c3 div.sk-label-container {position: relative;z-index: 2;text-align: center;}#sk-e71e608b-c3a9-4fa9-88db-3b59710cc4c3 div.sk-container {display: inline-block;position: relative;}</style><div id=\"sk-e71e608b-c3a9-4fa9-88db-3b59710cc4c3\" class\"sk-top-container\"><div class=\"sk-container\"><div class=\"sk-item sk-dashed-wrapped\"><div class=\"sk-label-container\"><div class=\"sk-label sk-toggleable\"><input class=\"sk-toggleable__control sk-hidden--visually\" id=\"c11124da-007e-45b3-bbd0-0e663c90aa48\" type=\"checkbox\" ><label class=\"sk-toggleable__label\" for=\"c11124da-007e-45b3-bbd0-0e663c90aa48\">Pipeline</label><div class=\"sk-toggleable__content\"><pre>Pipeline(steps=[('columntransformer',\n",
       "                 ColumnTransformer(transformers=[('numerical_encoder',\n",
       "                                                  Pipeline(steps=[('knnimputer',\n",
       "                                                                   KNNImputer()),\n",
       "                                                                  ('minmaxscaler',\n",
       "                                                                   MinMaxScaler())]),\n",
       "                                                  ['coco_max_combined',\n",
       "                                                   'cos_day', 'cos_time',\n",
       "                                                   'mean_delay',\n",
       "                                                   'prcp_max_combined',\n",
       "                                                   'sin_day', 'sin_time',\n",
       "                                                   'snow_max_combined',\n",
       "                                                   'temp_max_combined',\n",
       "                                                   'temp_min_combined',\n",
       "                                                   'wpgt_max_combined',\n",
       "                                                   'wspd_...\n",
       "                                                                   MinMaxScaler())]),\n",
       "                                                  ['coco_max_combined']),\n",
       "                                                 ('nominal_encoder',\n",
       "                                                  Pipeline(steps=[('simpleimputer',\n",
       "                                                                   SimpleImputer(strategy='most_frequent')),\n",
       "                                                                  ('onehotencoder',\n",
       "                                                                   OneHotEncoder(handle_unknown='ignore'))]),\n",
       "                                                  ['covid_lockdown',\n",
       "                                                   'public_holiday', 'trip',\n",
       "                                                   'weekday'])])),\n",
       "                ('selectpercentile',\n",
       "                 SelectPercentile(percentile=75,\n",
       "                                  score_func=<function mutual_info_regression at 0x7f88ceeeaa60>))])</pre></div></div></div><div class=\"sk-serial\"><div class=\"sk-item sk-dashed-wrapped\"><div class=\"sk-label-container\"><div class=\"sk-label sk-toggleable\"><input class=\"sk-toggleable__control sk-hidden--visually\" id=\"d49c2138-eed1-4c5e-9d7e-af2dbb561889\" type=\"checkbox\" ><label class=\"sk-toggleable__label\" for=\"d49c2138-eed1-4c5e-9d7e-af2dbb561889\">columntransformer: ColumnTransformer</label><div class=\"sk-toggleable__content\"><pre>ColumnTransformer(transformers=[('numerical_encoder',\n",
       "                                 Pipeline(steps=[('knnimputer', KNNImputer()),\n",
       "                                                 ('minmaxscaler',\n",
       "                                                  MinMaxScaler())]),\n",
       "                                 ['coco_max_combined', 'cos_day', 'cos_time',\n",
       "                                  'mean_delay', 'prcp_max_combined', 'sin_day',\n",
       "                                  'sin_time', 'snow_max_combined',\n",
       "                                  'temp_max_combined', 'temp_min_combined',\n",
       "                                  'wpgt_max_combined', 'wspd_max_combined']),\n",
       "                                ('ordinal_encoder',\n",
       "                                 Pi...\n",
       "                                                  OrdinalEncoder(categories=[[1,\n",
       "                                                                              2,\n",
       "                                                                              3,\n",
       "                                                                              4]],\n",
       "                                                                 handle_unknown='use_encoded_value',\n",
       "                                                                 unknown_value=-1)),\n",
       "                                                 ('minmaxscaler',\n",
       "                                                  MinMaxScaler())]),\n",
       "                                 ['coco_max_combined']),\n",
       "                                ('nominal_encoder',\n",
       "                                 Pipeline(steps=[('simpleimputer',\n",
       "                                                  SimpleImputer(strategy='most_frequent')),\n",
       "                                                 ('onehotencoder',\n",
       "                                                  OneHotEncoder(handle_unknown='ignore'))]),\n",
       "                                 ['covid_lockdown', 'public_holiday', 'trip',\n",
       "                                  'weekday'])])</pre></div></div></div><div class=\"sk-parallel\"><div class=\"sk-parallel-item\"><div class=\"sk-item\"><div class=\"sk-label-container\"><div class=\"sk-label sk-toggleable\"><input class=\"sk-toggleable__control sk-hidden--visually\" id=\"48fa12bc-7bd9-401d-ad5e-2c813edf6375\" type=\"checkbox\" ><label class=\"sk-toggleable__label\" for=\"48fa12bc-7bd9-401d-ad5e-2c813edf6375\">numerical_encoder</label><div class=\"sk-toggleable__content\"><pre>['coco_max_combined', 'cos_day', 'cos_time', 'mean_delay', 'prcp_max_combined', 'sin_day', 'sin_time', 'snow_max_combined', 'temp_max_combined', 'temp_min_combined', 'wpgt_max_combined', 'wspd_max_combined']</pre></div></div></div><div class=\"sk-serial\"><div class=\"sk-item\"><div class=\"sk-serial\"><div class=\"sk-item\"><div class=\"sk-estimator sk-toggleable\"><input class=\"sk-toggleable__control sk-hidden--visually\" id=\"202cab49-08a4-4c14-9ce1-b820bfe4be6f\" type=\"checkbox\" ><label class=\"sk-toggleable__label\" for=\"202cab49-08a4-4c14-9ce1-b820bfe4be6f\">KNNImputer</label><div class=\"sk-toggleable__content\"><pre>KNNImputer()</pre></div></div></div><div class=\"sk-item\"><div class=\"sk-estimator sk-toggleable\"><input class=\"sk-toggleable__control sk-hidden--visually\" id=\"a8f5fdd0-8607-4d6a-bec9-e8bb98a008f4\" type=\"checkbox\" ><label class=\"sk-toggleable__label\" for=\"a8f5fdd0-8607-4d6a-bec9-e8bb98a008f4\">MinMaxScaler</label><div class=\"sk-toggleable__content\"><pre>MinMaxScaler()</pre></div></div></div></div></div></div></div></div><div class=\"sk-parallel-item\"><div class=\"sk-item\"><div class=\"sk-label-container\"><div class=\"sk-label sk-toggleable\"><input class=\"sk-toggleable__control sk-hidden--visually\" id=\"bfdca335-2702-49d9-ac3a-db7a0038947b\" type=\"checkbox\" ><label class=\"sk-toggleable__label\" for=\"bfdca335-2702-49d9-ac3a-db7a0038947b\">ordinal_encoder</label><div class=\"sk-toggleable__content\"><pre>['coco_max_combined']</pre></div></div></div><div class=\"sk-serial\"><div class=\"sk-item\"><div class=\"sk-serial\"><div class=\"sk-item\"><div class=\"sk-estimator sk-toggleable\"><input class=\"sk-toggleable__control sk-hidden--visually\" id=\"9914d7e6-8f78-43c4-b43b-83c64b3317b3\" type=\"checkbox\" ><label class=\"sk-toggleable__label\" for=\"9914d7e6-8f78-43c4-b43b-83c64b3317b3\">SimpleImputer</label><div class=\"sk-toggleable__content\"><pre>SimpleImputer(fill_value=1, strategy='constant')</pre></div></div></div><div class=\"sk-item\"><div class=\"sk-estimator sk-toggleable\"><input class=\"sk-toggleable__control sk-hidden--visually\" id=\"fa8de99f-40f2-405f-9497-71ac274a6085\" type=\"checkbox\" ><label class=\"sk-toggleable__label\" for=\"fa8de99f-40f2-405f-9497-71ac274a6085\">OrdinalEncoder</label><div class=\"sk-toggleable__content\"><pre>OrdinalEncoder(categories=[[1, 2, 3, 4]], handle_unknown='use_encoded_value',\n",
       "               unknown_value=-1)</pre></div></div></div><div class=\"sk-item\"><div class=\"sk-estimator sk-toggleable\"><input class=\"sk-toggleable__control sk-hidden--visually\" id=\"e38a139f-08a0-432a-8fa9-c0192f48dfb1\" type=\"checkbox\" ><label class=\"sk-toggleable__label\" for=\"e38a139f-08a0-432a-8fa9-c0192f48dfb1\">MinMaxScaler</label><div class=\"sk-toggleable__content\"><pre>MinMaxScaler()</pre></div></div></div></div></div></div></div></div><div class=\"sk-parallel-item\"><div class=\"sk-item\"><div class=\"sk-label-container\"><div class=\"sk-label sk-toggleable\"><input class=\"sk-toggleable__control sk-hidden--visually\" id=\"b499f9f1-d53c-45bf-86af-f364d51d0159\" type=\"checkbox\" ><label class=\"sk-toggleable__label\" for=\"b499f9f1-d53c-45bf-86af-f364d51d0159\">nominal_encoder</label><div class=\"sk-toggleable__content\"><pre>['covid_lockdown', 'public_holiday', 'trip', 'weekday']</pre></div></div></div><div class=\"sk-serial\"><div class=\"sk-item\"><div class=\"sk-serial\"><div class=\"sk-item\"><div class=\"sk-estimator sk-toggleable\"><input class=\"sk-toggleable__control sk-hidden--visually\" id=\"4f35ee46-dbeb-4fca-835b-6ef0d6d35f24\" type=\"checkbox\" ><label class=\"sk-toggleable__label\" for=\"4f35ee46-dbeb-4fca-835b-6ef0d6d35f24\">SimpleImputer</label><div class=\"sk-toggleable__content\"><pre>SimpleImputer(strategy='most_frequent')</pre></div></div></div><div class=\"sk-item\"><div class=\"sk-estimator sk-toggleable\"><input class=\"sk-toggleable__control sk-hidden--visually\" id=\"1f4d2b96-0ba4-490e-bf8b-c3659cf0a5d0\" type=\"checkbox\" ><label class=\"sk-toggleable__label\" for=\"1f4d2b96-0ba4-490e-bf8b-c3659cf0a5d0\">OneHotEncoder</label><div class=\"sk-toggleable__content\"><pre>OneHotEncoder(handle_unknown='ignore')</pre></div></div></div></div></div></div></div></div></div></div><div class=\"sk-item\"><div class=\"sk-estimator sk-toggleable\"><input class=\"sk-toggleable__control sk-hidden--visually\" id=\"9d709c77-4d7e-4c4a-8960-122115cf8c16\" type=\"checkbox\" ><label class=\"sk-toggleable__label\" for=\"9d709c77-4d7e-4c4a-8960-122115cf8c16\">SelectPercentile</label><div class=\"sk-toggleable__content\"><pre>SelectPercentile(percentile=75,\n",
       "                 score_func=<function mutual_info_regression at 0x7f88ceeeaa60>)</pre></div></div></div></div></div></div></div>"
      ],
      "text/plain": [
       "Pipeline(steps=[('columntransformer',\n",
       "                 ColumnTransformer(transformers=[('numerical_encoder',\n",
       "                                                  Pipeline(steps=[('knnimputer',\n",
       "                                                                   KNNImputer()),\n",
       "                                                                  ('minmaxscaler',\n",
       "                                                                   MinMaxScaler())]),\n",
       "                                                  ['coco_max_combined',\n",
       "                                                   'cos_day', 'cos_time',\n",
       "                                                   'mean_delay',\n",
       "                                                   'prcp_max_combined',\n",
       "                                                   'sin_day', 'sin_time',\n",
       "                                                   'snow_max_combined',\n",
       "                                                   'temp_max_combined',\n",
       "                                                   'temp_min_combined',\n",
       "                                                   'wpgt_max_combined',\n",
       "                                                   'wspd_...\n",
       "                                                                   MinMaxScaler())]),\n",
       "                                                  ['coco_max_combined']),\n",
       "                                                 ('nominal_encoder',\n",
       "                                                  Pipeline(steps=[('simpleimputer',\n",
       "                                                                   SimpleImputer(strategy='most_frequent')),\n",
       "                                                                  ('onehotencoder',\n",
       "                                                                   OneHotEncoder(handle_unknown='ignore'))]),\n",
       "                                                  ['covid_lockdown',\n",
       "                                                   'public_holiday', 'trip',\n",
       "                                                   'weekday'])])),\n",
       "                ('selectpercentile',\n",
       "                 SelectPercentile(percentile=75,\n",
       "                                  score_func=<function mutual_info_regression at 0x7f88ceeeaa60>))])"
      ]
     },
     "execution_count": 8,
     "metadata": {},
     "output_type": "execute_result"
    }
   ],
   "source": [
    "# Fit the preprocessor on the train set\n",
    "preproc.fit(X_train, y_train)\n"
   ]
  },
  {
   "cell_type": "code",
   "execution_count": 9,
   "metadata": {
    "id": "_ATjBaPhzyrO"
   },
   "outputs": [],
   "source": [
    "# Create the preprocessed versions of X_train and X_val\n",
    "X_train_preproc = preproc.transform(X_train)\n",
    "X_val_preproc = preproc.transform(X_val)\n",
    "\n",
    "# Let's also already create the preprocessed version of X_test for our future predictions\n",
    "X_test_preproc = preproc.transform(X_test)"
   ]
  },
  {
   "cell_type": "code",
   "execution_count": 10,
   "metadata": {
    "colab": {
     "base_uri": "https://localhost:8080/"
    },
    "id": "vnRYthJuzyrP",
    "outputId": "f314fcd0-cc4c-444e-dd17-7bba96988fb2"
   },
   "outputs": [
    {
     "data": {
      "text/plain": [
       "((150030, 16), (30006, 16))"
      ]
     },
     "execution_count": 10,
     "metadata": {},
     "output_type": "execute_result"
    }
   ],
   "source": [
    "# Shapes before preprocessing\n",
    "X_train.shape, X_val.shape #X_test.shape"
   ]
  },
  {
   "cell_type": "code",
   "execution_count": 11,
   "metadata": {
    "colab": {
     "base_uri": "https://localhost:8080/"
    },
    "id": "6DMkOq1CzyrS",
    "outputId": "f1e09168-a7bb-4854-84d0-cdd433fb0fe3"
   },
   "outputs": [
    {
     "data": {
      "text/plain": [
       "((150030, 46), (30006, 46))"
      ]
     },
     "execution_count": 11,
     "metadata": {},
     "output_type": "execute_result"
    }
   ],
   "source": [
    "# Shapes after preprocessing\n",
    "X_train_preproc.shape, X_val_preproc.shape #,X_test_preproc.shape"
   ]
  },
  {
   "cell_type": "markdown",
   "metadata": {
    "id": "C4zGU2Ov_O7p",
    "tags": []
   },
   "source": [
    "# LightGBM - Our model of choice"
   ]
  },
  {
   "cell_type": "code",
   "execution_count": 30,
   "metadata": {},
   "outputs": [],
   "source": [
    "# Final model with all the best parameters - please see cells below for tests where we found out the optimal parameters\n",
    "\n",
    "from sklearn.datasets import make_classification\n",
    "from lightgbm import LGBMClassifier\n",
    "\n",
    "# define the model\n",
    "model = LGBMClassifier(n_estimators=10000,boosting_type='dart',learning_rate=0.1,max_depth=7, num_leaves=2**7)\n",
    "# fit the model on the whole dataset\n",
    "model.fit(X_train_preproc, y_train)\n",
    "# make a prediction\n",
    "y_pred = model.predict(X_test_preproc)\n"
   ]
  },
  {
   "cell_type": "code",
   "execution_count": null,
   "metadata": {},
   "outputs": [],
   "source": [
    "# Evaluate performance\n",
    "from sklearn.metrics import accuracy_score\n",
    "from sklearn.metrics import precision_score\n",
    "from sklearn.metrics import recall_score\n",
    "from sklearn.metrics import f1_score\n",
    "\n",
    "y_pred = model.predict(X_test)\n",
    "y_true = y_test\n",
    "accuracy = round(accuracy_score(y_true, y_pred), 2)\n",
    "precision = round(precision_score(y_true, y_pred), 2)\n",
    "recall = round(recall_score(y_true, y_pred), 2)\n",
    "f1_score = round(f1_score(y_true, y_pred), 2)\n",
    "\n",
    "print(accuracy)\n",
    "print(precision)\n",
    "print(recall)\n",
    "print(f1_score)"
   ]
  },
  {
   "cell_type": "code",
   "execution_count": null,
   "metadata": {},
   "outputs": [],
   "source": [
    "# Save the model into a .joblib that can be used for API\n",
    "\n",
    "from sklearn.pipeline import Pipeline\n",
    "import joblib\n",
    "\n",
    "model_name = model\n",
    "\n",
    "pipeline = Pipeline([\n",
    "      ('pipeline', create_preproc(X_train)),\n",
    "      ('model', model_name)\n",
    "    ])\n",
    "pipeline.fit(X_train, y_train)\n",
    "\n",
    "joblib.dump(pipeline, 'model.joblib')"
   ]
  },
  {
   "cell_type": "markdown",
   "metadata": {},
   "source": [
    "## Exploration of other parameters"
   ]
  },
  {
   "cell_type": "markdown",
   "metadata": {},
   "source": [
    "Lots of repeated functions and imports here. The idea was that you could run each cell autonomously, as the models were tested in several computers in parallel, and it's hard to keep track of where you are inside the notebook."
   ]
  },
  {
   "cell_type": "code",
   "execution_count": 15,
   "metadata": {
    "colab": {
     "base_uri": "https://localhost:8080/",
     "height": 661
    },
    "id": "TCq6gkmtyoeP",
    "outputId": "9d99db6b-b4a7-43ae-f162-9aa54e095031"
   },
   "outputs": [
    {
     "name": "stdout",
     "output_type": "stream",
     "text": [
      ">10 0.662 (0.001)\n",
      ">50 0.672 (0.002)\n",
      ">100 0.674 (0.002)\n",
      ">500 0.676 (0.002)\n",
      ">1000 0.675 (0.002)\n",
      ">5000 0.671 (0.002)\n",
      ">10000 0.669 (0.002)\n"
     ]
    },
    {
     "data": {
      "image/png": "[encoded data removed]",
      "text/plain": [
       "<Figure size 432x288 with 1 Axes>"
      ]
     },
     "metadata": {
      "needs_background": "light"
     },
     "output_type": "display_data"
    }
   ],
   "source": [
    "# number of trees\n",
    "from numpy import mean\n",
    "from numpy import std\n",
    "from sklearn.datasets import make_classification\n",
    "from sklearn.model_selection import cross_val_score\n",
    "from sklearn.model_selection import RepeatedStratifiedKFold\n",
    "from lightgbm import LGBMClassifier\n",
    "from matplotlib import pyplot\n",
    " \n",
    "# get a list of models to evaluate\n",
    "def get_models():\n",
    "\tmodels = dict()\n",
    "\ttrees = [10, 50, 100, 500, 1000, 5000,10000]\n",
    "\tfor n in trees:\n",
    "\t\tmodels[str(n)] = LGBMClassifier(n_estimators=n)\n",
    "\treturn models\n",
    " \n",
    "# evaluate a give model using cross-validation\n",
    "def evaluate_model(model):\n",
    "\tcv = RepeatedStratifiedKFold(n_splits=10, n_repeats=3, random_state=1)\n",
    "\tscores = cross_val_score(model, X_train_preproc, y_train, scoring='accuracy', cv=cv, n_jobs=-1)\n",
    "\treturn scores\n",
    " \n",
    "# get the models to evaluate\n",
    "models = get_models()\n",
    "# evaluate the models and store results\n",
    "results, names = list(), list()\n",
    "for name, model in models.items():\n",
    "\tscores = evaluate_model(model)\n",
    "\tresults.append(scores)\n",
    "\tnames.append(name)\n",
    "\tprint('>%s %.3f (%.3f)' % (name, mean(scores), std(scores)))\n",
    "# plot model performance for comparison\n",
    "pyplot.boxplot(results, labels=names, showmeans=True)\n",
    "pyplot.show()"
   ]
  },
  {
   "cell_type": "code",
   "execution_count": 14,
   "metadata": {
    "colab": {
     "base_uri": "https://localhost:8080/",
     "height": 447
    },
    "id": "uPfwv8hRGLSq",
    "outputId": "17f7802b-6686-4072-f26a-102b5f74a2ca"
   },
   "outputs": [
    {
     "name": "stdout",
     "output_type": "stream",
     "text": [
      ">1 0.618 (0.018)\n",
      ">2 0.629 (0.018)\n",
      ">3 0.639 (0.016)\n",
      ">4 0.643 (0.016)\n",
      ">5 0.648 (0.017)\n",
      ">6 0.647 (0.015)\n",
      ">7 0.649 (0.011)\n",
      ">8 0.648 (0.017)\n",
      ">9 0.648 (0.018)\n",
      ">10 0.644 (0.017)\n"
     ]
    },
    {
     "data": {
      "image/png": "[encoded data removed]",
      "text/plain": [
       "<Figure size 432x288 with 1 Axes>"
      ]
     },
     "metadata": {
      "needs_background": "light"
     },
     "output_type": "display_data"
    }
   ],
   "source": [
    "# tree depth\n",
    "from numpy import mean\n",
    "from numpy import std\n",
    "from sklearn.datasets import make_classification\n",
    "from sklearn.model_selection import cross_val_score\n",
    "from sklearn.model_selection import RepeatedStratifiedKFold\n",
    "from lightgbm import LGBMClassifier\n",
    "from matplotlib import pyplot\n",
    " \n",
    "# get a list of models to evaluate\n",
    "def get_models():\n",
    "\tmodels = dict()\n",
    "\tfor i in range(1,11):\n",
    "\t\tmodels[str(i)] = LGBMClassifier(max_depth=i, num_leaves=2**i)\n",
    "\treturn models\n",
    " \n",
    "# evaluate a give model using cross-validation\n",
    "def evaluate_model(model):\n",
    "\tcv = RepeatedStratifiedKFold(n_splits=10, n_repeats=3, random_state=1)\n",
    "\tscores = cross_val_score(model, X_train_preproc, y_train, scoring='accuracy', cv=cv, n_jobs=-1)\n",
    "\treturn scores\n",
    " \n",
    "\n",
    "# get the models to evaluate\n",
    "models = get_models()\n",
    "# evaluate the models and store results\n",
    "results, names = list(), list()\n",
    "for name, model in models.items():\n",
    "\tscores = evaluate_model(model)\n",
    "\tresults.append(scores)\n",
    "\tnames.append(name)\n",
    "\tprint('>%s %.3f (%.3f)' % (name, mean(scores), std(scores)))\n",
    "# plot model performance for comparison\n",
    "pyplot.boxplot(results, labels=names, showmeans=True)\n",
    "pyplot.show()"
   ]
  },
  {
   "cell_type": "code",
   "execution_count": 16,
   "metadata": {
    "colab": {
     "base_uri": "https://localhost:8080/",
     "height": 356
    },
    "id": "Z1V3NtUjGLWc",
    "outputId": "573ab340-0def-47a5-dd34-db08731367f1"
   },
   "outputs": [
    {
     "name": "stdout",
     "output_type": "stream",
     "text": [
      ">0.0001 0.594 (0.001)\n",
      ">0.0010 0.594 (0.001)\n",
      ">0.0100 0.637 (0.014)\n",
      ">0.1000 0.648 (0.018)\n",
      ">1.0000 0.618 (0.018)\n"
     ]
    },
    {
     "data": {
      "image/png": "[encoded data removed]",
      "text/plain": [
       "<Figure size 432x288 with 1 Axes>"
      ]
     },
     "metadata": {
      "needs_background": "light"
     },
     "output_type": "display_data"
    }
   ],
   "source": [
    "# explore learning rate\n",
    "from numpy import mean\n",
    "from numpy import std\n",
    "from sklearn.datasets import make_classification\n",
    "from sklearn.model_selection import cross_val_score\n",
    "from sklearn.model_selection import RepeatedStratifiedKFold\n",
    "from lightgbm import LGBMClassifier\n",
    "from matplotlib import pyplot\n",
    "  \n",
    "# get a list of models to evaluate\n",
    "def get_models():\n",
    "\tmodels = dict()\n",
    "\trates = [0.0001, 0.001, 0.01, 0.1, 1.0]\n",
    "\tfor r in rates:\n",
    "\t\tkey = '%.4f' % r\n",
    "\t\tmodels[key] = LGBMClassifier(learning_rate=r)\n",
    "\treturn models\n",
    " \n",
    "# evaluate a give model using cross-validation\n",
    "def evaluate_model(model):\n",
    "\tcv = RepeatedStratifiedKFold(n_splits=10, n_repeats=3, random_state=1)\n",
    "\tscores = cross_val_score(model, X_train_preproc, y_train, scoring='accuracy', cv=cv, n_jobs=-1)\n",
    "\treturn scores\n",
    " \n",
    "\n",
    "# get the models to evaluate\n",
    "models = get_models()\n",
    "# evaluate the models and store results\n",
    "results, names = list(), list()\n",
    "for name, model in models.items():\n",
    "\tscores = evaluate_model(model)\n",
    "\tresults.append(scores)\n",
    "\tnames.append(name)\n",
    "\tprint('>%s %.3f (%.3f)' % (name, mean(scores), std(scores)))\n",
    "# plot model performance for comparison\n",
    "pyplot.boxplot(results, labels=names, showmeans=True)\n",
    "pyplot.show()"
   ]
  },
  {
   "cell_type": "code",
   "execution_count": 17,
   "metadata": {
    "colab": {
     "base_uri": "https://localhost:8080/",
     "height": 323
    },
    "id": "y0UpTpaXGLal",
    "outputId": "9cb4cea6-cb1b-4b91-c280-7b8c67db5a9c"
   },
   "outputs": [
    {
     "name": "stdout",
     "output_type": "stream",
     "text": [
      ">gbdt 0.648 (0.018)\n",
      ">dart 0.650 (0.015)\n",
      ">goss 0.632 (0.016)\n"
     ]
    },
    {
     "data": {
      "image/png": "[encoded data removed]",
      "text/plain": [
       "<Figure size 432x288 with 1 Axes>"
      ]
     },
     "metadata": {
      "needs_background": "light"
     },
     "output_type": "display_data"
    }
   ],
   "source": [
    "# boosting type\n",
    "from numpy import arange\n",
    "from numpy import mean\n",
    "from numpy import std\n",
    "from sklearn.datasets import make_classification\n",
    "from sklearn.model_selection import cross_val_score\n",
    "from sklearn.model_selection import RepeatedStratifiedKFold\n",
    "from lightgbm import LGBMClassifier\n",
    "from matplotlib import pyplot\n",
    " \n",
    "# get a list of models to evaluate\n",
    "def get_models():\n",
    "\tmodels = dict()\n",
    "\ttypes = ['gbdt', 'dart', 'goss']\n",
    "\tfor t in types:\n",
    "\t\tmodels[t] = LGBMClassifier(boosting_type=t)\n",
    "\treturn models\n",
    " \n",
    "# evaluate a give model using cross-validation\n",
    "def evaluate_model(model):\n",
    "\tcv = RepeatedStratifiedKFold(n_splits=10, n_repeats=3, random_state=1)\n",
    "\tscores = cross_val_score(model, X_train_preproc, y_train, scoring='accuracy', cv=cv, n_jobs=-1)\n",
    "\treturn scores\n",
    " \n",
    "\n",
    "# get the models to evaluate\n",
    "models = get_models()\n",
    "# evaluate the models and store results\n",
    "results, names = list(), list()\n",
    "for name, model in models.items():\n",
    "\tscores = evaluate_model(model)\n",
    "\tresults.append(scores)\n",
    "\tnames.append(name)\n",
    "\tprint('>%s %.3f (%.3f)' % (name, mean(scores), std(scores)))\n",
    "# plot model performance for comparison\n",
    "pyplot.boxplot(results, labels=names, showmeans=True)\n",
    "pyplot.show()"
   ]
  },
  {
   "cell_type": "code",
   "execution_count": 59,
   "metadata": {
    "colab": {
     "base_uri": "https://localhost:8080/",
     "height": 412
    },
    "id": "eD9NKAvrGK4O",
    "outputId": "902e2947-c9fd-4aa2-eb06-f75fda442dbd"
   },
   "outputs": [
    {
     "name": "stdout",
     "output_type": "stream",
     "text": [
      ">1000_0.05_6_dart 0.647 (0.015)\n",
      ">1000_0.05_6_goss 0.634 (0.023)\n",
      ">1000_0.1_6_dart 0.647 (0.017)\n",
      ">1000_0.1_6_goss 0.629 (0.022)\n",
      ">1000_0.2_6_dart 0.640 (0.021)\n",
      ">1000_0.2_6_goss 0.623 (0.019)\n",
      ">1000_0.5_6_dart 0.632 (0.023)\n",
      ">1000_0.5_6_goss 0.548 (0.028)\n"
     ]
    },
    {
     "data": {
      "image/png": "[encoded data removed]",
      "text/plain": [
       "<Figure size 432x288 with 1 Axes>"
      ]
     },
     "metadata": {
      "needs_background": "light"
     },
     "output_type": "display_data"
    }
   ],
   "source": [
    "# combine a bunch of these params into one bigger grid search to check whether their interaction affects anything \n",
    "from numpy import mean\n",
    "from numpy import std\n",
    "from sklearn.datasets import make_classification\n",
    "from sklearn.model_selection import cross_val_score\n",
    "from sklearn.model_selection import RepeatedStratifiedKFold\n",
    "from lightgbm import LGBMClassifier\n",
    "from matplotlib import pyplot\n",
    " \n",
    "# get a list of models to evaluate\n",
    "def get_models():\n",
    "\tmodels = dict()\n",
    "\ttrees = [1000]\n",
    "\ttypes = ['dart', 'goss']\n",
    "\trates = [0.05, 0.1,0.2,0.5]\n",
    "\tfor i in range(6,7):\n",
    "\t\tfor r in rates:\n",
    "\t\t\t\tfor t in types:\n",
    "\t\t\t\t\t\tfor n in trees:\n",
    "\t\t\t\t\t\t\tkey = str(n)+'_'+str(r)+'_'+str(i)+'_'+t\n",
    "\t\t\t\t\t\t\tmodels[key] = LGBMClassifier(n_estimators=n,boosting_type=t,learning_rate=r,max_depth=i, num_leaves=2**i)\n",
    "\t\t\t\n",
    "\n",
    "\treturn models\n",
    " \n",
    "# evaluate a give model using cross-validation\n",
    "def evaluate_model(model):\n",
    "\tcv = RepeatedStratifiedKFold(n_splits=10, n_repeats=3, random_state=1)\n",
    "\tscores = cross_val_score(model, X_train_preproc, y_train, scoring='accuracy', cv=cv, n_jobs=-1)\n",
    "\treturn scores\n",
    " \n",
    "# get the models to evaluate\n",
    "models = get_models()\n",
    "# evaluate the models and store results\n",
    "results, names = list(), list()\n",
    "for name, model in models.items():\n",
    "\tscores = evaluate_model(model)\n",
    "\tresults.append(scores)\n",
    "\tnames.append(name)\n",
    "\tprint('>%s %.3f (%.3f)' % (name, mean(scores), std(scores)))\n",
    "# plot model performance for comparison\n",
    "pyplot.boxplot(results, labels=names, showmeans=True)\n",
    "pyplot.show()"
   ]
  },
  {
   "cell_type": "markdown",
   "metadata": {},
   "source": [
    "# Other models - Classification"
   ]
  },
  {
   "cell_type": "markdown",
   "metadata": {
    "id": "dcz3UEJAzyrV",
    "tags": []
   },
   "source": [
    "## Logistic regression"
   ]
  },
  {
   "cell_type": "markdown",
   "metadata": {
    "id": "uWCusp0Kx6Wt"
   },
   "source": [
    "### Grid Search to find parameters such as target balancing"
   ]
  },
  {
   "cell_type": "code",
   "execution_count": 77,
   "metadata": {
    "colab": {
     "base_uri": "https://localhost:8080/"
    },
    "id": "rEmHgh-Hzyra",
    "outputId": "266c00d2-60c4-4bc2-e32b-39599d2a9494"
   },
   "outputs": [
    {
     "name": "stdout",
     "output_type": "stream",
     "text": [
      "Best score: 0.6660801173098714 with param: {'class_weight': {0: 1.0, 1: 1.0}}\n"
     ]
    }
   ],
   "source": [
    "import sklearn\n",
    "from sklearn.linear_model import LogisticRegression\n",
    "from sklearn.model_selection import GridSearchCV, cross_val_score, RepeatedStratifiedKFold, StratifiedKFold, cross_validate\n",
    "\n",
    "# define weight hyperparameter - important for target balancing\n",
    "w = [{0:1000,1:100},{0:1000,1:10}, {0:1000,1:1.0}, \n",
    "     {0:500,1:1.0}, {0:400,1:1.0}, {0:300,1:1.0}, {0:200,1:1.0}, \n",
    "     {0:150,1:1.0}, {0:100,1:1.0}, {0:99,1:1.0}, {0:10,1:1.0}, \n",
    "     {0:0.01,1:1.0}, {0:0.01,1:10}, {0:0.01,1:100}, \n",
    "     {0:0.001,1:1.0}, {0:0.005,1:1.0}, {0:1.0,1:1.0}, \n",
    "     {0:1.0,1:0.1}, {0:10,1:0.1}, {0:100,1:0.1}, \n",
    "     {0:10,1:0.01}, {0:1.0,1:0.01}, {0:1.0,1:0.001}, {0:1.0,1:0.005}, \n",
    "     {0:1.0,1:10}, {0:1.0,1:99}, {0:1.0,1:100}, {0:1.0,1:150}, \n",
    "     {0:1.0,1:200}, {0:1.0,1:300},{0:1.0,1:400},{0:1.0,1:500}, \n",
    "     {0:1.0,1:1000}, {0:10,1:1000},{0:100,1:1000} ]\n",
    "\n",
    "hyperparam_grid = {\"class_weight\": w }\n",
    "\n",
    "log_reg = LogisticRegression(max_iter=10000) \n",
    "\n",
    "grid = GridSearchCV(log_reg,hyperparam_grid,scoring=\"accuracy\", cv=5, n_jobs=-1, refit=True)\n",
    "grid.fit(X_train_preproc,y_train)\n",
    "print(f'Best score: {grid.best_score_} with param: {grid.best_params_}')\n",
    "\n",
    "\n"
   ]
  },
  {
   "cell_type": "markdown",
   "metadata": {
    "id": "aYHIBCICyBjS"
   },
   "source": [
    "### Regular logistic regression with cross validation"
   ]
  },
  {
   "cell_type": "code",
   "execution_count": 76,
   "metadata": {
    "colab": {
     "base_uri": "https://localhost:8080/"
    },
    "id": "koWNgA1qdnVW",
    "outputId": "9fa05eb4-4bd8-4d67-c8a9-c5a582710541"
   },
   "outputs": [
    {
     "name": "stdout",
     "output_type": "stream",
     "text": [
      "Accuracy Score: 0.6616845788552862\n",
      "Area Under Curve: 0.5487250422382742\n",
      "Recall score: 0.9246617466174661\n",
      "Precision score: 0.6751234845083072\n"
     ]
    }
   ],
   "source": [
    "from sklearn.metrics import accuracy_score, confusion_matrix, roc_auc_score, recall_score, precision_score\n",
    "from sklearn.linear_model import LogisticRegression\n",
    "\n",
    "# define model\n",
    "lg3 = LogisticRegression(random_state=1, class_weight={0: 1, 1: 1},max_iter=10000) # use best hyperparams from grid search here\n",
    "# fit it\n",
    "lg3.fit(X_train_preproc,y_train)\n",
    "# test\n",
    "y_pred = lg3.predict(X_test_preproc)\n",
    "# performance\n",
    "#print(f'Confusion Matrix: {confusion_matrix(y_test, y_pred,normalize='all')}')\n",
    "print(f'Accuracy Score: {accuracy_score(y_test,y_pred)}')\n",
    "print(f'Area Under Curve: {roc_auc_score(y_test, y_pred)}')\n",
    "print(f'Recall score: {recall_score(y_test,y_pred)}')\n",
    "print(f'Precision score: {precision_score(y_test,y_pred)}')"
   ]
  },
  {
   "cell_type": "code",
   "execution_count": null,
   "metadata": {
    "id": "dHK1-hfgdYya"
   },
   "outputs": [],
   "source": [
    "\n",
    "cv_results = cross_validate(log_reg, X_train_preproc, y_train, cv=5, \n",
    "                            scoring=['max_error',\n",
    "                                     'r2', \n",
    "                                     'neg_mean_absolute_error',\n",
    "                                     'neg_mean_squared_error']\n",
    "                           )\n",
    "\n",
    "log_reg.fit(X_test_preproc,y_test)\n",
    "cv_results = pd.DataFrame(cv_results)\n",
    "r2 = cv_results['test_r2'].mean()\n",
    "max_error = cv_results['test_max_error'].max()"
   ]
  },
  {
   "cell_type": "code",
   "execution_count": null,
   "metadata": {
    "colab": {
     "base_uri": "https://localhost:8080/"
    },
    "id": "Ej5q5HFFWe7V",
    "outputId": "5cc8d1cc-cc75-42b5-eb71-5198fa8e980a"
   },
   "outputs": [
    {
     "data": {
      "text/plain": [
       "-0.5406702234981353"
      ]
     },
     "execution_count": 84,
     "metadata": {},
     "output_type": "execute_result"
    }
   ],
   "source": [
    "r2"
   ]
  },
  {
   "cell_type": "markdown",
   "metadata": {
    "id": "gLqT-Hxbzyre",
    "tags": []
   },
   "source": [
    "# KNN Classifier"
   ]
  },
  {
   "cell_type": "code",
   "execution_count": 21,
   "metadata": {
    "colab": {
     "base_uri": "https://localhost:8080/",
     "height": 285
    },
    "id": "OFnRlAT9BYWq",
    "outputId": "97ac7902-b717-4a78-a477-b32759731b5e"
   },
   "outputs": [
    {
     "data": {
      "text/plain": [
       "[<matplotlib.lines.Line2D at 0x7efcbfa1e590>]"
      ]
     },
     "execution_count": 21,
     "metadata": {},
     "output_type": "execute_result"
    },
    {
     "data": {
      "image/png": "[encoded data removed]",
      "text/plain": [
       "<Figure size 432x288 with 1 Axes>"
      ]
     },
     "metadata": {
      "needs_background": "light"
     },
     "output_type": "display_data"
    }
   ],
   "source": [
    "# Run a search with cross_validate to find the optimal\n",
    "from sklearn.neighbors import KNeighborsRegressor\n",
    "from sklearn.model_selection import cross_validate\n",
    "\n",
    "k_range = range(1,1000,100) # Totally arbitrary, but previous testing suggests it's best to use at least 180\n",
    "\n",
    "scores = []\n",
    "\n",
    "# We append the scores in the dictionary\n",
    "for k in k_range:\n",
    "    neigh = KNeighborsRegressor(n_neighbors=k)\n",
    "    cv_results = cross_validate(neigh, X_train_preproc, y_train, cv=3, \n",
    "                            scoring=['max_error',\n",
    "                                     'r2', \n",
    "                                     'neg_mean_absolute_error',\n",
    "                                     'neg_mean_squared_error']\n",
    "                           )\n",
    "    cv_results = pd.DataFrame(cv_results)\n",
    "    scores.append(cv_results['test_r2'].mean())\n",
    "       \n",
    "plt.plot(k_range, scores, label = 'Training score')\n",
    "#plt.plot(scores_, test_scores_mean, label = 'Test score')"
   ]
  },
  {
   "cell_type": "code",
   "execution_count": 23,
   "metadata": {
    "colab": {
     "base_uri": "https://localhost:8080/",
     "height": 335
    },
    "id": "BjmtaM3bzyrg",
    "outputId": "6132c408-e5b9-43c8-9d37-4e00449f9039"
   },
   "outputs": [
    {
     "name": "stderr",
     "output_type": "stream",
     "text": [
      "/usr/local/lib/python3.7/dist-packages/sklearn/utils/deprecation.py:87: FutureWarning: Function plot_confusion_matrix is deprecated; Function `plot_confusion_matrix` is deprecated in 1.0 and will be removed in 1.2. Use one of the class methods: ConfusionMatrixDisplay.from_predictions or ConfusionMatrixDisplay.from_estimator.\n",
      "  warnings.warn(msg, category=FutureWarning)\n"
     ]
    },
    {
     "data": {
      "image/png": "[encoded data removed]",
      "text/plain": [
       "<Figure size 432x288 with 2 Axes>"
      ]
     },
     "metadata": {
      "needs_background": "light"
     },
     "output_type": "display_data"
    }
   ],
   "source": [
    "from sklearn.neighbors import KNeighborsClassifier\n",
    "from sklearn.model_selection import cross_validate\n",
    "from sklearn.model_selection import train_test_split\n",
    "from sklearn.datasets import make_classification\n",
    "from sklearn.metrics import plot_confusion_matrix\n",
    "from sklearn.model_selection import cross_val_predict\n",
    "\n",
    "neigh = KNeighborsClassifier(n_neighbors=200)\n",
    "neigh.fit(X_train_preproc,y_train)\n",
    "#y_pred = cross_val_predict(model,X_val_preproc,y_val,cv=5,method='predict').T\n",
    "y_pred = neigh.predict(X_test_preproc)\n",
    "\n",
    "plot_confusion_matrix(neigh,X_test_preproc,y_test) \n",
    "plt.show()\n"
   ]
  },
  {
   "cell_type": "code",
   "execution_count": 26,
   "metadata": {
    "colab": {
     "base_uri": "https://localhost:8080/"
    },
    "id": "0DxhBq9w2aBY",
    "outputId": "933f92f1-a6e2-4142-dc66-5b6608fa0acf"
   },
   "outputs": [
    {
     "name": "stdout",
     "output_type": "stream",
     "text": [
      "0.67\n",
      "0.68\n",
      "0.92\n",
      "0.78\n",
      "              precision    recall  f1-score   support\n",
      "\n",
      "           0       0.61      0.22      0.33      6302\n",
      "           1       0.68      0.92      0.78     11358\n",
      "\n",
      "    accuracy                           0.67     17660\n",
      "   macro avg       0.65      0.57      0.55     17660\n",
      "weighted avg       0.66      0.67      0.62     17660\n",
      "\n"
     ]
    }
   ],
   "source": [
    "from sklearn.metrics import accuracy_score\n",
    "from sklearn.metrics import precision_score\n",
    "from sklearn.metrics import recall_score\n",
    "from sklearn.metrics import f1_score\n",
    "from sklearn.metrics import classification_report\n",
    "\n",
    "y_true = y_test\n",
    "accuracy = round(accuracy_score(y_true, y_pred), 2)\n",
    "precision = round(precision_score(y_true, y_pred), 2)\n",
    "recall = round(recall_score(y_true, y_pred), 2)\n",
    "f1_score = round(f1_score(y_true, y_pred), 2)\n",
    "\n",
    "print(accuracy)\n",
    "print(precision)\n",
    "print(recall)\n",
    "print(f1_score)\n",
    "print(classification_report(y_test, y_pred))"
   ]
  },
  {
   "cell_type": "code",
   "execution_count": null,
   "metadata": {
    "id": "MtV7AcmPJ9kC"
   },
   "outputs": [],
   "source": [
    "leaf_size = list(range(1,50,10))\n",
    "n_neighbors = [200]\n",
    "p=[1,2]\n",
    "#Convert to dictionary\n",
    "hyperparameters = dict(leaf_size=leaf_size, n_neighbors=n_neighbors, p=p)\n",
    "#Create new KNN object\n",
    "knn_2 = KNeighborsClassifier()\n",
    "#Use GridSearch\n",
    "clf = GridSearchCV(knn_2, hyperparameters, cv=10)\n",
    "#Fit the model\n",
    "best_model = clf.fit(X_train,y_train)\n",
    "#Print The value of best Hyperparameters\n",
    "print('Best leaf_size:', best_model.best_estimator_.get_params()['leaf_size'])\n",
    "print('Best p:', best_model.best_estimator_.get_params()['p'])\n",
    "print('Best n_neighbors:', best_model.best_estimator_.get_params()['n_neighbors'])"
   ]
  },
  {
   "cell_type": "markdown",
   "metadata": {
    "id": "3mkz5Ub0zyri",
    "tags": []
   },
   "source": [
    "## Neural Network Classifier"
   ]
  },
  {
   "cell_type": "code",
   "execution_count": null,
   "metadata": {
    "id": "NBq5HtDnzyrj"
   },
   "outputs": [],
   "source": [
    "from tensorflow.keras import Sequential, layers\n",
    "\n",
    "def initialize_model(X):\n",
    "\n",
    "    model = Sequential()\n",
    "    \n",
    "    # Input Layer\n",
    "    model.add(layers.Dense(64, activation='relu', input_dim = X.shape[-1]))\n",
    "    \n",
    "    # Hidden Layers\n",
    "    model.add(layers.Dense(64, activation='relu'))\n",
    "    model.add(layers.Dense(128, activation='relu'))\n",
    "    model.add(layers.Dense(256, activation='relu'))\n",
    "    model.add(layers.Dense(256, activation='relu'))\n",
    "    model.add(layers.Dense(128, activation='relu'))\n",
    "    model.add(layers.Dense(64, activation='relu'))\n",
    "    model.add(layers.Dense(32, activation='relu'))\n",
    "    model.add(layers.Dense(16, activation='relu'))\n",
    "    model.add(layers.Dropout(0.3)\n",
    "    \n",
    "    # Predictive Layer\n",
    "    model.add(layers.Dense(1, activation='softmax')) \n",
    "    \n",
    "    # Compiler     \n",
    "    model.compile(loss='binary_crossentropy',\n",
    "              optimizer='adam',\n",
    "              metrics=['accuracy'])  \n",
    "    \n",
    "    return model"
   ]
  },
  {
   "cell_type": "code",
   "execution_count": null,
   "metadata": {
    "colab": {
     "base_uri": "https://localhost:8080/",
     "height": 1000
    },
    "id": "l4RRZ7llzyrl",
    "outputId": "57a85816-13d3-4256-e3eb-543e764587fb"
   },
   "outputs": [
    {
     "name": "stdout",
     "output_type": "stream",
     "text": [
      "Model: \"sequential_1\"\n",
      "_________________________________________________________________\n",
      " Layer (type)                Output Shape              Param #   \n",
      "=================================================================\n",
      " dense_5 (Dense)             (None, 64)                3200      \n",
      "                                                                 \n",
      " dense_6 (Dense)             (None, 64)                4160      \n",
      "                                                                 \n",
      " dense_7 (Dense)             (None, 128)               8320      \n",
      "                                                                 \n",
      " dense_8 (Dense)             (None, 256)               33024     \n",
      "                                                                 \n",
      " dense_9 (Dense)             (None, 256)               65792     \n",
      "                                                                 \n",
      " dense_10 (Dense)            (None, 128)               32896     \n",
      "                                                                 \n",
      " dense_11 (Dense)            (None, 64)                8256      \n",
      "                                                                 \n",
      " dense_12 (Dense)            (None, 32)                2080      \n",
      "                                                                 \n",
      " dense_13 (Dense)            (None, 16)                528       \n",
      "                                                                 \n",
      " dense_14 (Dense)            (None, 1)                 17        \n",
      "                                                                 \n",
      "=================================================================\n",
      "Total params: 158,273\n",
      "Trainable params: 158,273\n",
      "Non-trainable params: 0\n",
      "_________________________________________________________________\n",
      "Epoch 1/50\n"
     ]
    },
    {
     "name": "stderr",
     "output_type": "stream",
     "text": [
      "/usr/local/lib/python3.7/dist-packages/tensorflow/python/data/ops/structured_function.py:265: UserWarning: Even though the `tf.config.experimental_run_functions_eagerly` option is set, this option does not apply to tf.data functions. To force eager execution of tf.data functions, please use `tf.data.experimental.enable_debug_mode()`.\n",
      "  \"Even though the `tf.config.experimental_run_functions_eagerly` \"\n"
     ]
    },
    {
     "name": "stdout",
     "output_type": "stream",
     "text": [
      "2935/2935 [==============================] - 74s 25ms/step - loss: 0.6249 - accuracy: 0.6325 - val_loss: 0.6197 - val_accuracy: 0.6212\n",
      "Epoch 2/50\n",
      "2935/2935 [==============================] - 81s 28ms/step - loss: 0.6149 - accuracy: 0.6325 - val_loss: 0.6176 - val_accuracy: 0.6212\n",
      "Epoch 3/50\n",
      "2935/2935 [==============================] - 73s 25ms/step - loss: 0.6100 - accuracy: 0.6325 - val_loss: 0.6151 - val_accuracy: 0.6212\n",
      "Epoch 4/50\n",
      "2935/2935 [==============================] - 68s 23ms/step - loss: 0.6058 - accuracy: 0.6325 - val_loss: 0.6087 - val_accuracy: 0.6212\n",
      "Epoch 5/50\n",
      "2935/2935 [==============================] - 68s 23ms/step - loss: 0.6029 - accuracy: 0.6325 - val_loss: 0.6106 - val_accuracy: 0.6212\n",
      "Epoch 6/50\n",
      "2935/2935 [==============================] - 72s 25ms/step - loss: 0.5999 - accuracy: 0.6325 - val_loss: 0.6064 - val_accuracy: 0.6212\n",
      "Epoch 7/50\n",
      "2935/2935 [==============================] - 72s 25ms/step - loss: 0.5979 - accuracy: 0.6325 - val_loss: 0.6032 - val_accuracy: 0.6212\n",
      "Epoch 8/50\n",
      "2935/2935 [==============================] - 73s 25ms/step - loss: 0.5959 - accuracy: 0.6325 - val_loss: 0.6120 - val_accuracy: 0.6212\n",
      "Epoch 9/50\n",
      "2935/2935 [==============================] - 68s 23ms/step - loss: 0.5942 - accuracy: 0.6325 - val_loss: 0.6041 - val_accuracy: 0.6212\n",
      "Epoch 10/50\n",
      "2935/2935 [==============================] - 73s 25ms/step - loss: 0.5922 - accuracy: 0.6325 - val_loss: 0.6021 - val_accuracy: 0.6212\n",
      "Epoch 11/50\n",
      "2935/2935 [==============================] - 68s 23ms/step - loss: 0.5902 - accuracy: 0.6325 - val_loss: 0.6008 - val_accuracy: 0.6212\n",
      "Epoch 12/50\n",
      "1991/2935 [===================>..........] - ETA: 19s - loss: 0.5877 - accuracy: 0.6322"
     ]
    },
    {
     "ename": "KeyboardInterrupt",
     "evalue": "ignored",
     "output_type": "error",
     "traceback": [
      "\u001b[0;31m---------------------------------------------------------------------------\u001b[0m",
      "\u001b[0;31mKeyboardInterrupt\u001b[0m                         Traceback (most recent call last)",
      "\u001b[0;32m<ipython-input-43-e19d83123255>\u001b[0m in \u001b[0;36m<module>\u001b[0;34m()\u001b[0m\n\u001b[1;32m     19\u001b[0m                     \u001b[0mbatch_size\u001b[0m \u001b[0;34m=\u001b[0m \u001b[0mbatch_size\u001b[0m\u001b[0;34m,\u001b[0m\u001b[0;34m\u001b[0m\u001b[0;34m\u001b[0m\u001b[0m\n\u001b[1;32m     20\u001b[0m                     \u001b[0mcallbacks\u001b[0m\u001b[0;34m=\u001b[0m\u001b[0;34m[\u001b[0m\u001b[0mes\u001b[0m\u001b[0;34m]\u001b[0m\u001b[0;34m,\u001b[0m\u001b[0;34m\u001b[0m\u001b[0;34m\u001b[0m\u001b[0m\n\u001b[0;32m---> 21\u001b[0;31m                     verbose = 1)\n\u001b[0m\u001b[1;32m     22\u001b[0m \u001b[0;34m\u001b[0m\u001b[0m\n\u001b[1;32m     23\u001b[0m \u001b[0;31m# 3. Evaluating the model\u001b[0m\u001b[0;34m\u001b[0m\u001b[0;34m\u001b[0m\u001b[0;34m\u001b[0m\u001b[0m\n",
      "\u001b[0;32m/usr/local/lib/python3.7/dist-packages/keras/utils/traceback_utils.py\u001b[0m in \u001b[0;36merror_handler\u001b[0;34m(*args, **kwargs)\u001b[0m\n\u001b[1;32m     62\u001b[0m     \u001b[0mfiltered_tb\u001b[0m \u001b[0;34m=\u001b[0m \u001b[0;32mNone\u001b[0m\u001b[0;34m\u001b[0m\u001b[0;34m\u001b[0m\u001b[0m\n\u001b[1;32m     63\u001b[0m     \u001b[0;32mtry\u001b[0m\u001b[0;34m:\u001b[0m\u001b[0;34m\u001b[0m\u001b[0;34m\u001b[0m\u001b[0m\n\u001b[0;32m---> 64\u001b[0;31m       \u001b[0;32mreturn\u001b[0m \u001b[0mfn\u001b[0m\u001b[0;34m(\u001b[0m\u001b[0;34m*\u001b[0m\u001b[0margs\u001b[0m\u001b[0;34m,\u001b[0m \u001b[0;34m**\u001b[0m\u001b[0mkwargs\u001b[0m\u001b[0;34m)\u001b[0m\u001b[0;34m\u001b[0m\u001b[0;34m\u001b[0m\u001b[0m\n\u001b[0m\u001b[1;32m     65\u001b[0m     \u001b[0;32mexcept\u001b[0m \u001b[0mException\u001b[0m \u001b[0;32mas\u001b[0m \u001b[0me\u001b[0m\u001b[0;34m:\u001b[0m  \u001b[0;31m# pylint: disable=broad-except\u001b[0m\u001b[0;34m\u001b[0m\u001b[0;34m\u001b[0m\u001b[0m\n\u001b[1;32m     66\u001b[0m       \u001b[0mfiltered_tb\u001b[0m \u001b[0;34m=\u001b[0m \u001b[0m_process_traceback_frames\u001b[0m\u001b[0;34m(\u001b[0m\u001b[0me\u001b[0m\u001b[0;34m.\u001b[0m\u001b[0m__traceback__\u001b[0m\u001b[0;34m)\u001b[0m\u001b[0;34m\u001b[0m\u001b[0;34m\u001b[0m\u001b[0m\n",
      "\u001b[0;32m/usr/local/lib/python3.7/dist-packages/keras/engine/training.py\u001b[0m in \u001b[0;36mfit\u001b[0;34m(self, x, y, batch_size, epochs, verbose, callbacks, validation_split, validation_data, shuffle, class_weight, sample_weight, initial_epoch, steps_per_epoch, validation_steps, validation_batch_size, validation_freq, max_queue_size, workers, use_multiprocessing)\u001b[0m\n\u001b[1;32m   1382\u001b[0m                 _r=1):\n\u001b[1;32m   1383\u001b[0m               \u001b[0mcallbacks\u001b[0m\u001b[0;34m.\u001b[0m\u001b[0mon_train_batch_begin\u001b[0m\u001b[0;34m(\u001b[0m\u001b[0mstep\u001b[0m\u001b[0;34m)\u001b[0m\u001b[0;34m\u001b[0m\u001b[0;34m\u001b[0m\u001b[0m\n\u001b[0;32m-> 1384\u001b[0;31m               \u001b[0mtmp_logs\u001b[0m \u001b[0;34m=\u001b[0m \u001b[0mself\u001b[0m\u001b[0;34m.\u001b[0m\u001b[0mtrain_function\u001b[0m\u001b[0;34m(\u001b[0m\u001b[0miterator\u001b[0m\u001b[0;34m)\u001b[0m\u001b[0;34m\u001b[0m\u001b[0;34m\u001b[0m\u001b[0m\n\u001b[0m\u001b[1;32m   1385\u001b[0m               \u001b[0;32mif\u001b[0m \u001b[0mdata_handler\u001b[0m\u001b[0;34m.\u001b[0m\u001b[0mshould_sync\u001b[0m\u001b[0;34m:\u001b[0m\u001b[0;34m\u001b[0m\u001b[0;34m\u001b[0m\u001b[0m\n\u001b[1;32m   1386\u001b[0m                 \u001b[0mcontext\u001b[0m\u001b[0;34m.\u001b[0m\u001b[0masync_wait\u001b[0m\u001b[0;34m(\u001b[0m\u001b[0;34m)\u001b[0m\u001b[0;34m\u001b[0m\u001b[0;34m\u001b[0m\u001b[0m\n",
      "\u001b[0;32m/usr/local/lib/python3.7/dist-packages/keras/engine/training.py\u001b[0m in \u001b[0;36mtrain_function\u001b[0;34m(iterator)\u001b[0m\n\u001b[1;32m   1019\u001b[0m       \u001b[0;32mdef\u001b[0m \u001b[0mtrain_function\u001b[0m\u001b[0;34m(\u001b[0m\u001b[0miterator\u001b[0m\u001b[0;34m)\u001b[0m\u001b[0;34m:\u001b[0m\u001b[0;34m\u001b[0m\u001b[0;34m\u001b[0m\u001b[0m\n\u001b[1;32m   1020\u001b[0m         \u001b[0;34m\"\"\"Runs a training execution with a single step.\"\"\"\u001b[0m\u001b[0;34m\u001b[0m\u001b[0;34m\u001b[0m\u001b[0m\n\u001b[0;32m-> 1021\u001b[0;31m         \u001b[0;32mreturn\u001b[0m \u001b[0mstep_function\u001b[0m\u001b[0;34m(\u001b[0m\u001b[0mself\u001b[0m\u001b[0;34m,\u001b[0m \u001b[0miterator\u001b[0m\u001b[0;34m)\u001b[0m\u001b[0;34m\u001b[0m\u001b[0;34m\u001b[0m\u001b[0m\n\u001b[0m\u001b[1;32m   1022\u001b[0m \u001b[0;34m\u001b[0m\u001b[0m\n\u001b[1;32m   1023\u001b[0m       \u001b[0;32mif\u001b[0m \u001b[0;32mnot\u001b[0m \u001b[0mself\u001b[0m\u001b[0;34m.\u001b[0m\u001b[0mrun_eagerly\u001b[0m\u001b[0;34m:\u001b[0m\u001b[0;34m\u001b[0m\u001b[0;34m\u001b[0m\u001b[0m\n",
      "\u001b[0;32m/usr/local/lib/python3.7/dist-packages/keras/engine/training.py\u001b[0m in \u001b[0;36mstep_function\u001b[0;34m(model, iterator)\u001b[0m\n\u001b[1;32m   1008\u001b[0m             run_step, jit_compile=True, experimental_relax_shapes=True)\n\u001b[1;32m   1009\u001b[0m       \u001b[0mdata\u001b[0m \u001b[0;34m=\u001b[0m \u001b[0mnext\u001b[0m\u001b[0;34m(\u001b[0m\u001b[0miterator\u001b[0m\u001b[0;34m)\u001b[0m\u001b[0;34m\u001b[0m\u001b[0;34m\u001b[0m\u001b[0m\n\u001b[0;32m-> 1010\u001b[0;31m       \u001b[0moutputs\u001b[0m \u001b[0;34m=\u001b[0m \u001b[0mmodel\u001b[0m\u001b[0;34m.\u001b[0m\u001b[0mdistribute_strategy\u001b[0m\u001b[0;34m.\u001b[0m\u001b[0mrun\u001b[0m\u001b[0;34m(\u001b[0m\u001b[0mrun_step\u001b[0m\u001b[0;34m,\u001b[0m \u001b[0margs\u001b[0m\u001b[0;34m=\u001b[0m\u001b[0;34m(\u001b[0m\u001b[0mdata\u001b[0m\u001b[0;34m,\u001b[0m\u001b[0;34m)\u001b[0m\u001b[0;34m)\u001b[0m\u001b[0;34m\u001b[0m\u001b[0;34m\u001b[0m\u001b[0m\n\u001b[0m\u001b[1;32m   1011\u001b[0m       outputs = reduce_per_replica(\n\u001b[1;32m   1012\u001b[0m           outputs, self.distribute_strategy, reduction='first')\n",
      "\u001b[0;32m/usr/local/lib/python3.7/dist-packages/tensorflow/python/distribute/distribute_lib.py\u001b[0m in \u001b[0;36mrun\u001b[0;34m(***failed resolving arguments***)\u001b[0m\n\u001b[1;32m   1310\u001b[0m       fn = autograph.tf_convert(\n\u001b[1;32m   1311\u001b[0m           fn, autograph_ctx.control_status_ctx(), convert_by_default=False)\n\u001b[0;32m-> 1312\u001b[0;31m       \u001b[0;32mreturn\u001b[0m \u001b[0mself\u001b[0m\u001b[0;34m.\u001b[0m\u001b[0m_extended\u001b[0m\u001b[0;34m.\u001b[0m\u001b[0mcall_for_each_replica\u001b[0m\u001b[0;34m(\u001b[0m\u001b[0mfn\u001b[0m\u001b[0;34m,\u001b[0m \u001b[0margs\u001b[0m\u001b[0;34m=\u001b[0m\u001b[0margs\u001b[0m\u001b[0;34m,\u001b[0m \u001b[0mkwargs\u001b[0m\u001b[0;34m=\u001b[0m\u001b[0mkwargs\u001b[0m\u001b[0;34m)\u001b[0m\u001b[0;34m\u001b[0m\u001b[0;34m\u001b[0m\u001b[0m\n\u001b[0m\u001b[1;32m   1313\u001b[0m \u001b[0;34m\u001b[0m\u001b[0m\n\u001b[1;32m   1314\u001b[0m   \u001b[0;32mdef\u001b[0m \u001b[0mreduce\u001b[0m\u001b[0;34m(\u001b[0m\u001b[0mself\u001b[0m\u001b[0;34m,\u001b[0m \u001b[0mreduce_op\u001b[0m\u001b[0;34m,\u001b[0m \u001b[0mvalue\u001b[0m\u001b[0;34m,\u001b[0m \u001b[0maxis\u001b[0m\u001b[0;34m)\u001b[0m\u001b[0;34m:\u001b[0m\u001b[0;34m\u001b[0m\u001b[0;34m\u001b[0m\u001b[0m\n",
      "\u001b[0;32m/usr/local/lib/python3.7/dist-packages/tensorflow/python/distribute/distribute_lib.py\u001b[0m in \u001b[0;36mcall_for_each_replica\u001b[0;34m(self, fn, args, kwargs)\u001b[0m\n\u001b[1;32m   2886\u001b[0m       \u001b[0mkwargs\u001b[0m \u001b[0;34m=\u001b[0m \u001b[0;34m{\u001b[0m\u001b[0;34m}\u001b[0m\u001b[0;34m\u001b[0m\u001b[0;34m\u001b[0m\u001b[0m\n\u001b[1;32m   2887\u001b[0m     \u001b[0;32mwith\u001b[0m \u001b[0mself\u001b[0m\u001b[0;34m.\u001b[0m\u001b[0m_container_strategy\u001b[0m\u001b[0;34m(\u001b[0m\u001b[0;34m)\u001b[0m\u001b[0;34m.\u001b[0m\u001b[0mscope\u001b[0m\u001b[0;34m(\u001b[0m\u001b[0;34m)\u001b[0m\u001b[0;34m:\u001b[0m\u001b[0;34m\u001b[0m\u001b[0;34m\u001b[0m\u001b[0m\n\u001b[0;32m-> 2888\u001b[0;31m       \u001b[0;32mreturn\u001b[0m \u001b[0mself\u001b[0m\u001b[0;34m.\u001b[0m\u001b[0m_call_for_each_replica\u001b[0m\u001b[0;34m(\u001b[0m\u001b[0mfn\u001b[0m\u001b[0;34m,\u001b[0m \u001b[0margs\u001b[0m\u001b[0;34m,\u001b[0m \u001b[0mkwargs\u001b[0m\u001b[0;34m)\u001b[0m\u001b[0;34m\u001b[0m\u001b[0;34m\u001b[0m\u001b[0m\n\u001b[0m\u001b[1;32m   2889\u001b[0m \u001b[0;34m\u001b[0m\u001b[0m\n\u001b[1;32m   2890\u001b[0m   \u001b[0;32mdef\u001b[0m \u001b[0m_call_for_each_replica\u001b[0m\u001b[0;34m(\u001b[0m\u001b[0mself\u001b[0m\u001b[0;34m,\u001b[0m \u001b[0mfn\u001b[0m\u001b[0;34m,\u001b[0m \u001b[0margs\u001b[0m\u001b[0;34m,\u001b[0m \u001b[0mkwargs\u001b[0m\u001b[0;34m)\u001b[0m\u001b[0;34m:\u001b[0m\u001b[0;34m\u001b[0m\u001b[0;34m\u001b[0m\u001b[0m\n",
      "\u001b[0;32m/usr/local/lib/python3.7/dist-packages/tensorflow/python/distribute/distribute_lib.py\u001b[0m in \u001b[0;36m_call_for_each_replica\u001b[0;34m(self, fn, args, kwargs)\u001b[0m\n\u001b[1;32m   3687\u001b[0m   \u001b[0;32mdef\u001b[0m \u001b[0m_call_for_each_replica\u001b[0m\u001b[0;34m(\u001b[0m\u001b[0mself\u001b[0m\u001b[0;34m,\u001b[0m \u001b[0mfn\u001b[0m\u001b[0;34m,\u001b[0m \u001b[0margs\u001b[0m\u001b[0;34m,\u001b[0m \u001b[0mkwargs\u001b[0m\u001b[0;34m)\u001b[0m\u001b[0;34m:\u001b[0m\u001b[0;34m\u001b[0m\u001b[0;34m\u001b[0m\u001b[0m\n\u001b[1;32m   3688\u001b[0m     \u001b[0;32mwith\u001b[0m \u001b[0mReplicaContext\u001b[0m\u001b[0;34m(\u001b[0m\u001b[0mself\u001b[0m\u001b[0;34m.\u001b[0m\u001b[0m_container_strategy\u001b[0m\u001b[0;34m(\u001b[0m\u001b[0;34m)\u001b[0m\u001b[0;34m,\u001b[0m \u001b[0mreplica_id_in_sync_group\u001b[0m\u001b[0;34m=\u001b[0m\u001b[0;36m0\u001b[0m\u001b[0;34m)\u001b[0m\u001b[0;34m:\u001b[0m\u001b[0;34m\u001b[0m\u001b[0;34m\u001b[0m\u001b[0m\n\u001b[0;32m-> 3689\u001b[0;31m       \u001b[0;32mreturn\u001b[0m \u001b[0mfn\u001b[0m\u001b[0;34m(\u001b[0m\u001b[0;34m*\u001b[0m\u001b[0margs\u001b[0m\u001b[0;34m,\u001b[0m \u001b[0;34m**\u001b[0m\u001b[0mkwargs\u001b[0m\u001b[0;34m)\u001b[0m\u001b[0;34m\u001b[0m\u001b[0;34m\u001b[0m\u001b[0m\n\u001b[0m\u001b[1;32m   3690\u001b[0m \u001b[0;34m\u001b[0m\u001b[0m\n\u001b[1;32m   3691\u001b[0m   \u001b[0;32mdef\u001b[0m \u001b[0m_reduce_to\u001b[0m\u001b[0;34m(\u001b[0m\u001b[0mself\u001b[0m\u001b[0;34m,\u001b[0m \u001b[0mreduce_op\u001b[0m\u001b[0;34m,\u001b[0m \u001b[0mvalue\u001b[0m\u001b[0;34m,\u001b[0m \u001b[0mdestinations\u001b[0m\u001b[0;34m,\u001b[0m \u001b[0moptions\u001b[0m\u001b[0;34m)\u001b[0m\u001b[0;34m:\u001b[0m\u001b[0;34m\u001b[0m\u001b[0;34m\u001b[0m\u001b[0m\n",
      "\u001b[0;32m/usr/local/lib/python3.7/dist-packages/tensorflow/python/autograph/impl/api.py\u001b[0m in \u001b[0;36mwrapper\u001b[0;34m(*args, **kwargs)\u001b[0m\n\u001b[1;32m    593\u001b[0m   \u001b[0;32mdef\u001b[0m \u001b[0mwrapper\u001b[0m\u001b[0;34m(\u001b[0m\u001b[0;34m*\u001b[0m\u001b[0margs\u001b[0m\u001b[0;34m,\u001b[0m \u001b[0;34m**\u001b[0m\u001b[0mkwargs\u001b[0m\u001b[0;34m)\u001b[0m\u001b[0;34m:\u001b[0m\u001b[0;34m\u001b[0m\u001b[0;34m\u001b[0m\u001b[0m\n\u001b[1;32m    594\u001b[0m     \u001b[0;32mwith\u001b[0m \u001b[0mag_ctx\u001b[0m\u001b[0;34m.\u001b[0m\u001b[0mControlStatusCtx\u001b[0m\u001b[0;34m(\u001b[0m\u001b[0mstatus\u001b[0m\u001b[0;34m=\u001b[0m\u001b[0mag_ctx\u001b[0m\u001b[0;34m.\u001b[0m\u001b[0mStatus\u001b[0m\u001b[0;34m.\u001b[0m\u001b[0mUNSPECIFIED\u001b[0m\u001b[0;34m)\u001b[0m\u001b[0;34m:\u001b[0m\u001b[0;34m\u001b[0m\u001b[0;34m\u001b[0m\u001b[0m\n\u001b[0;32m--> 595\u001b[0;31m       \u001b[0;32mreturn\u001b[0m \u001b[0mfunc\u001b[0m\u001b[0;34m(\u001b[0m\u001b[0;34m*\u001b[0m\u001b[0margs\u001b[0m\u001b[0;34m,\u001b[0m \u001b[0;34m**\u001b[0m\u001b[0mkwargs\u001b[0m\u001b[0;34m)\u001b[0m\u001b[0;34m\u001b[0m\u001b[0;34m\u001b[0m\u001b[0m\n\u001b[0m\u001b[1;32m    596\u001b[0m \u001b[0;34m\u001b[0m\u001b[0m\n\u001b[1;32m    597\u001b[0m   \u001b[0;32mif\u001b[0m \u001b[0minspect\u001b[0m\u001b[0;34m.\u001b[0m\u001b[0misfunction\u001b[0m\u001b[0;34m(\u001b[0m\u001b[0mfunc\u001b[0m\u001b[0;34m)\u001b[0m \u001b[0;32mor\u001b[0m \u001b[0minspect\u001b[0m\u001b[0;34m.\u001b[0m\u001b[0mismethod\u001b[0m\u001b[0;34m(\u001b[0m\u001b[0mfunc\u001b[0m\u001b[0;34m)\u001b[0m\u001b[0;34m:\u001b[0m\u001b[0;34m\u001b[0m\u001b[0;34m\u001b[0m\u001b[0m\n",
      "\u001b[0;32m/usr/local/lib/python3.7/dist-packages/keras/engine/training.py\u001b[0m in \u001b[0;36mrun_step\u001b[0;34m(data)\u001b[0m\n\u001b[1;32m    998\u001b[0m \u001b[0;34m\u001b[0m\u001b[0m\n\u001b[1;32m    999\u001b[0m       \u001b[0;32mdef\u001b[0m \u001b[0mrun_step\u001b[0m\u001b[0;34m(\u001b[0m\u001b[0mdata\u001b[0m\u001b[0;34m)\u001b[0m\u001b[0;34m:\u001b[0m\u001b[0;34m\u001b[0m\u001b[0;34m\u001b[0m\u001b[0m\n\u001b[0;32m-> 1000\u001b[0;31m         \u001b[0moutputs\u001b[0m \u001b[0;34m=\u001b[0m \u001b[0mmodel\u001b[0m\u001b[0;34m.\u001b[0m\u001b[0mtrain_step\u001b[0m\u001b[0;34m(\u001b[0m\u001b[0mdata\u001b[0m\u001b[0;34m)\u001b[0m\u001b[0;34m\u001b[0m\u001b[0;34m\u001b[0m\u001b[0m\n\u001b[0m\u001b[1;32m   1001\u001b[0m         \u001b[0;31m# Ensure counter is updated only if `train_step` succeeds.\u001b[0m\u001b[0;34m\u001b[0m\u001b[0;34m\u001b[0m\u001b[0;34m\u001b[0m\u001b[0m\n\u001b[1;32m   1002\u001b[0m         \u001b[0;32mwith\u001b[0m \u001b[0mtf\u001b[0m\u001b[0;34m.\u001b[0m\u001b[0mcontrol_dependencies\u001b[0m\u001b[0;34m(\u001b[0m\u001b[0m_minimum_control_deps\u001b[0m\u001b[0;34m(\u001b[0m\u001b[0moutputs\u001b[0m\u001b[0;34m)\u001b[0m\u001b[0;34m)\u001b[0m\u001b[0;34m:\u001b[0m\u001b[0;34m\u001b[0m\u001b[0;34m\u001b[0m\u001b[0m\n",
      "\u001b[0;32m/usr/local/lib/python3.7/dist-packages/keras/engine/training.py\u001b[0m in \u001b[0;36mtrain_step\u001b[0;34m(self, data)\u001b[0m\n\u001b[1;32m    861\u001b[0m     \u001b[0mself\u001b[0m\u001b[0;34m.\u001b[0m\u001b[0m_validate_target_and_loss\u001b[0m\u001b[0;34m(\u001b[0m\u001b[0my\u001b[0m\u001b[0;34m,\u001b[0m \u001b[0mloss\u001b[0m\u001b[0;34m)\u001b[0m\u001b[0;34m\u001b[0m\u001b[0;34m\u001b[0m\u001b[0m\n\u001b[1;32m    862\u001b[0m     \u001b[0;31m# Run backwards pass.\u001b[0m\u001b[0;34m\u001b[0m\u001b[0;34m\u001b[0m\u001b[0;34m\u001b[0m\u001b[0m\n\u001b[0;32m--> 863\u001b[0;31m     \u001b[0mself\u001b[0m\u001b[0;34m.\u001b[0m\u001b[0moptimizer\u001b[0m\u001b[0;34m.\u001b[0m\u001b[0mminimize\u001b[0m\u001b[0;34m(\u001b[0m\u001b[0mloss\u001b[0m\u001b[0;34m,\u001b[0m \u001b[0mself\u001b[0m\u001b[0;34m.\u001b[0m\u001b[0mtrainable_variables\u001b[0m\u001b[0;34m,\u001b[0m \u001b[0mtape\u001b[0m\u001b[0;34m=\u001b[0m\u001b[0mtape\u001b[0m\u001b[0;34m)\u001b[0m\u001b[0;34m\u001b[0m\u001b[0;34m\u001b[0m\u001b[0m\n\u001b[0m\u001b[1;32m    864\u001b[0m     \u001b[0;32mreturn\u001b[0m \u001b[0mself\u001b[0m\u001b[0;34m.\u001b[0m\u001b[0mcompute_metrics\u001b[0m\u001b[0;34m(\u001b[0m\u001b[0mx\u001b[0m\u001b[0;34m,\u001b[0m \u001b[0my\u001b[0m\u001b[0;34m,\u001b[0m \u001b[0my_pred\u001b[0m\u001b[0;34m,\u001b[0m \u001b[0msample_weight\u001b[0m\u001b[0;34m)\u001b[0m\u001b[0;34m\u001b[0m\u001b[0;34m\u001b[0m\u001b[0m\n\u001b[1;32m    865\u001b[0m \u001b[0;34m\u001b[0m\u001b[0m\n",
      "\u001b[0;32m/usr/local/lib/python3.7/dist-packages/keras/optimizer_v2/optimizer_v2.py\u001b[0m in \u001b[0;36mminimize\u001b[0;34m(self, loss, var_list, grad_loss, name, tape)\u001b[0m\n\u001b[1;32m    529\u001b[0m     \"\"\"\n\u001b[1;32m    530\u001b[0m     grads_and_vars = self._compute_gradients(\n\u001b[0;32m--> 531\u001b[0;31m         loss, var_list=var_list, grad_loss=grad_loss, tape=tape)\n\u001b[0m\u001b[1;32m    532\u001b[0m     \u001b[0;32mreturn\u001b[0m \u001b[0mself\u001b[0m\u001b[0;34m.\u001b[0m\u001b[0mapply_gradients\u001b[0m\u001b[0;34m(\u001b[0m\u001b[0mgrads_and_vars\u001b[0m\u001b[0;34m,\u001b[0m \u001b[0mname\u001b[0m\u001b[0;34m=\u001b[0m\u001b[0mname\u001b[0m\u001b[0;34m)\u001b[0m\u001b[0;34m\u001b[0m\u001b[0;34m\u001b[0m\u001b[0m\n\u001b[1;32m    533\u001b[0m \u001b[0;34m\u001b[0m\u001b[0m\n",
      "\u001b[0;32m/usr/local/lib/python3.7/dist-packages/keras/optimizer_v2/optimizer_v2.py\u001b[0m in \u001b[0;36m_compute_gradients\u001b[0;34m(self, loss, var_list, grad_loss, tape)\u001b[0m\n\u001b[1;32m    581\u001b[0m     \u001b[0mvar_list\u001b[0m \u001b[0;34m=\u001b[0m \u001b[0mtf\u001b[0m\u001b[0;34m.\u001b[0m\u001b[0mnest\u001b[0m\u001b[0;34m.\u001b[0m\u001b[0mflatten\u001b[0m\u001b[0;34m(\u001b[0m\u001b[0mvar_list\u001b[0m\u001b[0;34m)\u001b[0m\u001b[0;34m\u001b[0m\u001b[0;34m\u001b[0m\u001b[0m\n\u001b[1;32m    582\u001b[0m     \u001b[0;32mwith\u001b[0m \u001b[0mtf\u001b[0m\u001b[0;34m.\u001b[0m\u001b[0mname_scope\u001b[0m\u001b[0;34m(\u001b[0m\u001b[0mself\u001b[0m\u001b[0;34m.\u001b[0m\u001b[0m_name\u001b[0m \u001b[0;34m+\u001b[0m \u001b[0;34m\"/gradients\"\u001b[0m\u001b[0;34m)\u001b[0m\u001b[0;34m:\u001b[0m\u001b[0;34m\u001b[0m\u001b[0;34m\u001b[0m\u001b[0m\n\u001b[0;32m--> 583\u001b[0;31m       \u001b[0mgrads_and_vars\u001b[0m \u001b[0;34m=\u001b[0m \u001b[0mself\u001b[0m\u001b[0;34m.\u001b[0m\u001b[0m_get_gradients\u001b[0m\u001b[0;34m(\u001b[0m\u001b[0mtape\u001b[0m\u001b[0;34m,\u001b[0m \u001b[0mloss\u001b[0m\u001b[0;34m,\u001b[0m \u001b[0mvar_list\u001b[0m\u001b[0;34m,\u001b[0m \u001b[0mgrad_loss\u001b[0m\u001b[0;34m)\u001b[0m\u001b[0;34m\u001b[0m\u001b[0;34m\u001b[0m\u001b[0m\n\u001b[0m\u001b[1;32m    584\u001b[0m \u001b[0;34m\u001b[0m\u001b[0m\n\u001b[1;32m    585\u001b[0m     self._assert_valid_dtypes([\n",
      "\u001b[0;32m/usr/local/lib/python3.7/dist-packages/keras/optimizer_v2/optimizer_v2.py\u001b[0m in \u001b[0;36m_get_gradients\u001b[0;34m(self, tape, loss, var_list, grad_loss)\u001b[0m\n\u001b[1;32m    462\u001b[0m   \u001b[0;32mdef\u001b[0m \u001b[0m_get_gradients\u001b[0m\u001b[0;34m(\u001b[0m\u001b[0mself\u001b[0m\u001b[0;34m,\u001b[0m \u001b[0mtape\u001b[0m\u001b[0;34m,\u001b[0m \u001b[0mloss\u001b[0m\u001b[0;34m,\u001b[0m \u001b[0mvar_list\u001b[0m\u001b[0;34m,\u001b[0m \u001b[0mgrad_loss\u001b[0m\u001b[0;34m=\u001b[0m\u001b[0;32mNone\u001b[0m\u001b[0;34m)\u001b[0m\u001b[0;34m:\u001b[0m\u001b[0;34m\u001b[0m\u001b[0;34m\u001b[0m\u001b[0m\n\u001b[1;32m    463\u001b[0m     \u001b[0;34m\"\"\"Called in `minimize` to compute gradients from loss.\"\"\"\u001b[0m\u001b[0;34m\u001b[0m\u001b[0;34m\u001b[0m\u001b[0m\n\u001b[0;32m--> 464\u001b[0;31m     \u001b[0mgrads\u001b[0m \u001b[0;34m=\u001b[0m \u001b[0mtape\u001b[0m\u001b[0;34m.\u001b[0m\u001b[0mgradient\u001b[0m\u001b[0;34m(\u001b[0m\u001b[0mloss\u001b[0m\u001b[0;34m,\u001b[0m \u001b[0mvar_list\u001b[0m\u001b[0;34m,\u001b[0m \u001b[0mgrad_loss\u001b[0m\u001b[0;34m)\u001b[0m\u001b[0;34m\u001b[0m\u001b[0;34m\u001b[0m\u001b[0m\n\u001b[0m\u001b[1;32m    465\u001b[0m     \u001b[0;32mreturn\u001b[0m \u001b[0mlist\u001b[0m\u001b[0;34m(\u001b[0m\u001b[0mzip\u001b[0m\u001b[0;34m(\u001b[0m\u001b[0mgrads\u001b[0m\u001b[0;34m,\u001b[0m \u001b[0mvar_list\u001b[0m\u001b[0;34m)\u001b[0m\u001b[0;34m)\u001b[0m\u001b[0;34m\u001b[0m\u001b[0;34m\u001b[0m\u001b[0m\n\u001b[1;32m    466\u001b[0m \u001b[0;34m\u001b[0m\u001b[0m\n",
      "\u001b[0;32m/usr/local/lib/python3.7/dist-packages/tensorflow/python/eager/backprop.py\u001b[0m in \u001b[0;36mgradient\u001b[0;34m(self, target, sources, output_gradients, unconnected_gradients)\u001b[0m\n\u001b[1;32m   1085\u001b[0m         \u001b[0moutput_gradients\u001b[0m\u001b[0;34m=\u001b[0m\u001b[0moutput_gradients\u001b[0m\u001b[0;34m,\u001b[0m\u001b[0;34m\u001b[0m\u001b[0;34m\u001b[0m\u001b[0m\n\u001b[1;32m   1086\u001b[0m         \u001b[0msources_raw\u001b[0m\u001b[0;34m=\u001b[0m\u001b[0mflat_sources_raw\u001b[0m\u001b[0;34m,\u001b[0m\u001b[0;34m\u001b[0m\u001b[0;34m\u001b[0m\u001b[0m\n\u001b[0;32m-> 1087\u001b[0;31m         unconnected_gradients=unconnected_gradients)\n\u001b[0m\u001b[1;32m   1088\u001b[0m \u001b[0;34m\u001b[0m\u001b[0m\n\u001b[1;32m   1089\u001b[0m     \u001b[0;32mif\u001b[0m \u001b[0;32mnot\u001b[0m \u001b[0mself\u001b[0m\u001b[0;34m.\u001b[0m\u001b[0m_persistent\u001b[0m\u001b[0;34m:\u001b[0m\u001b[0;34m\u001b[0m\u001b[0;34m\u001b[0m\u001b[0m\n",
      "\u001b[0;32m/usr/local/lib/python3.7/dist-packages/tensorflow/python/eager/imperative_grad.py\u001b[0m in \u001b[0;36mimperative_grad\u001b[0;34m(tape, target, sources, output_gradients, sources_raw, unconnected_gradients)\u001b[0m\n\u001b[1;32m     71\u001b[0m       \u001b[0moutput_gradients\u001b[0m\u001b[0;34m,\u001b[0m\u001b[0;34m\u001b[0m\u001b[0;34m\u001b[0m\u001b[0m\n\u001b[1;32m     72\u001b[0m       \u001b[0msources_raw\u001b[0m\u001b[0;34m,\u001b[0m\u001b[0;34m\u001b[0m\u001b[0;34m\u001b[0m\u001b[0m\n\u001b[0;32m---> 73\u001b[0;31m       compat.as_str(unconnected_gradients.value))\n\u001b[0m",
      "\u001b[0;32m/usr/local/lib/python3.7/dist-packages/tensorflow/python/eager/backprop.py\u001b[0m in \u001b[0;36m_gradient_function\u001b[0;34m(op_name, attr_tuple, num_inputs, inputs, outputs, out_grads, skip_input_indices, forward_pass_name_scope)\u001b[0m\n\u001b[1;32m    154\u001b[0m       \u001b[0mgradient_name_scope\u001b[0m \u001b[0;34m+=\u001b[0m \u001b[0mforward_pass_name_scope\u001b[0m \u001b[0;34m+\u001b[0m \u001b[0;34m\"/\"\u001b[0m\u001b[0;34m\u001b[0m\u001b[0;34m\u001b[0m\u001b[0m\n\u001b[1;32m    155\u001b[0m     \u001b[0;32mwith\u001b[0m \u001b[0mops\u001b[0m\u001b[0;34m.\u001b[0m\u001b[0mname_scope\u001b[0m\u001b[0;34m(\u001b[0m\u001b[0mgradient_name_scope\u001b[0m\u001b[0;34m)\u001b[0m\u001b[0;34m:\u001b[0m\u001b[0;34m\u001b[0m\u001b[0;34m\u001b[0m\u001b[0m\n\u001b[0;32m--> 156\u001b[0;31m       \u001b[0;32mreturn\u001b[0m \u001b[0mgrad_fn\u001b[0m\u001b[0;34m(\u001b[0m\u001b[0mmock_op\u001b[0m\u001b[0;34m,\u001b[0m \u001b[0;34m*\u001b[0m\u001b[0mout_grads\u001b[0m\u001b[0;34m)\u001b[0m\u001b[0;34m\u001b[0m\u001b[0;34m\u001b[0m\u001b[0m\n\u001b[0m\u001b[1;32m    157\u001b[0m   \u001b[0;32melse\u001b[0m\u001b[0;34m:\u001b[0m\u001b[0;34m\u001b[0m\u001b[0;34m\u001b[0m\u001b[0m\n\u001b[1;32m    158\u001b[0m     \u001b[0;32mreturn\u001b[0m \u001b[0mgrad_fn\u001b[0m\u001b[0;34m(\u001b[0m\u001b[0mmock_op\u001b[0m\u001b[0;34m,\u001b[0m \u001b[0;34m*\u001b[0m\u001b[0mout_grads\u001b[0m\u001b[0;34m)\u001b[0m\u001b[0;34m\u001b[0m\u001b[0;34m\u001b[0m\u001b[0m\n",
      "\u001b[0;32m/usr/local/lib/python3.7/dist-packages/tensorflow/python/ops/math_grad.py\u001b[0m in \u001b[0;36m_MatMulGrad\u001b[0;34m(op, grad)\u001b[0m\n\u001b[1;32m   1735\u001b[0m   \u001b[0mt_a\u001b[0m \u001b[0;34m=\u001b[0m \u001b[0mop\u001b[0m\u001b[0;34m.\u001b[0m\u001b[0mget_attr\u001b[0m\u001b[0;34m(\u001b[0m\u001b[0;34m\"transpose_a\"\u001b[0m\u001b[0;34m)\u001b[0m\u001b[0;34m\u001b[0m\u001b[0;34m\u001b[0m\u001b[0m\n\u001b[1;32m   1736\u001b[0m   \u001b[0mt_b\u001b[0m \u001b[0;34m=\u001b[0m \u001b[0mop\u001b[0m\u001b[0;34m.\u001b[0m\u001b[0mget_attr\u001b[0m\u001b[0;34m(\u001b[0m\u001b[0;34m\"transpose_b\"\u001b[0m\u001b[0;34m)\u001b[0m\u001b[0;34m\u001b[0m\u001b[0;34m\u001b[0m\u001b[0m\n\u001b[0;32m-> 1737\u001b[0;31m   \u001b[0ma\u001b[0m \u001b[0;34m=\u001b[0m \u001b[0mmath_ops\u001b[0m\u001b[0;34m.\u001b[0m\u001b[0mconj\u001b[0m\u001b[0;34m(\u001b[0m\u001b[0mop\u001b[0m\u001b[0;34m.\u001b[0m\u001b[0minputs\u001b[0m\u001b[0;34m[\u001b[0m\u001b[0;36m0\u001b[0m\u001b[0;34m]\u001b[0m\u001b[0;34m)\u001b[0m\u001b[0;34m\u001b[0m\u001b[0;34m\u001b[0m\u001b[0m\n\u001b[0m\u001b[1;32m   1738\u001b[0m   \u001b[0mb\u001b[0m \u001b[0;34m=\u001b[0m \u001b[0mmath_ops\u001b[0m\u001b[0;34m.\u001b[0m\u001b[0mconj\u001b[0m\u001b[0;34m(\u001b[0m\u001b[0mop\u001b[0m\u001b[0;34m.\u001b[0m\u001b[0minputs\u001b[0m\u001b[0;34m[\u001b[0m\u001b[0;36m1\u001b[0m\u001b[0;34m]\u001b[0m\u001b[0;34m)\u001b[0m\u001b[0;34m\u001b[0m\u001b[0;34m\u001b[0m\u001b[0m\n\u001b[1;32m   1739\u001b[0m   \u001b[0;32mif\u001b[0m \u001b[0;32mnot\u001b[0m \u001b[0mt_a\u001b[0m \u001b[0;32mand\u001b[0m \u001b[0;32mnot\u001b[0m \u001b[0mt_b\u001b[0m\u001b[0;34m:\u001b[0m\u001b[0;34m\u001b[0m\u001b[0;34m\u001b[0m\u001b[0m\n",
      "\u001b[0;32m/usr/local/lib/python3.7/dist-packages/tensorflow/python/util/traceback_utils.py\u001b[0m in \u001b[0;36merror_handler\u001b[0;34m(*args, **kwargs)\u001b[0m\n\u001b[1;32m    138\u001b[0m   \u001b[0;32mdef\u001b[0m \u001b[0merror_handler\u001b[0m\u001b[0;34m(\u001b[0m\u001b[0;34m*\u001b[0m\u001b[0margs\u001b[0m\u001b[0;34m,\u001b[0m \u001b[0;34m**\u001b[0m\u001b[0mkwargs\u001b[0m\u001b[0;34m)\u001b[0m\u001b[0;34m:\u001b[0m\u001b[0;34m\u001b[0m\u001b[0;34m\u001b[0m\u001b[0m\n\u001b[1;32m    139\u001b[0m     \u001b[0;32mtry\u001b[0m\u001b[0;34m:\u001b[0m\u001b[0;34m\u001b[0m\u001b[0;34m\u001b[0m\u001b[0m\n\u001b[0;32m--> 140\u001b[0;31m       \u001b[0;32mif\u001b[0m \u001b[0;32mnot\u001b[0m \u001b[0mis_traceback_filtering_enabled\u001b[0m\u001b[0;34m(\u001b[0m\u001b[0;34m)\u001b[0m\u001b[0;34m:\u001b[0m\u001b[0;34m\u001b[0m\u001b[0;34m\u001b[0m\u001b[0m\n\u001b[0m\u001b[1;32m    141\u001b[0m         \u001b[0;32mreturn\u001b[0m \u001b[0mfn\u001b[0m\u001b[0;34m(\u001b[0m\u001b[0;34m*\u001b[0m\u001b[0margs\u001b[0m\u001b[0;34m,\u001b[0m \u001b[0;34m**\u001b[0m\u001b[0mkwargs\u001b[0m\u001b[0;34m)\u001b[0m\u001b[0;34m\u001b[0m\u001b[0;34m\u001b[0m\u001b[0m\n\u001b[1;32m    142\u001b[0m     \u001b[0;32mexcept\u001b[0m \u001b[0mNameError\u001b[0m\u001b[0;34m:\u001b[0m\u001b[0;34m\u001b[0m\u001b[0;34m\u001b[0m\u001b[0m\n",
      "\u001b[0;32m/usr/local/lib/python3.7/dist-packages/tensorflow/python/util/traceback_utils.py\u001b[0m in \u001b[0;36mis_traceback_filtering_enabled\u001b[0;34m()\u001b[0m\n\u001b[1;32m     45\u001b[0m     was called).\n\u001b[1;32m     46\u001b[0m   \"\"\"\n\u001b[0;32m---> 47\u001b[0;31m   \u001b[0mvalue\u001b[0m \u001b[0;34m=\u001b[0m \u001b[0mgetattr\u001b[0m\u001b[0;34m(\u001b[0m\u001b[0m_ENABLE_TRACEBACK_FILTERING\u001b[0m\u001b[0;34m,\u001b[0m \u001b[0;34m'value'\u001b[0m\u001b[0;34m,\u001b[0m \u001b[0;32mTrue\u001b[0m\u001b[0;34m)\u001b[0m\u001b[0;34m\u001b[0m\u001b[0;34m\u001b[0m\u001b[0m\n\u001b[0m\u001b[1;32m     48\u001b[0m   \u001b[0;32mreturn\u001b[0m \u001b[0mvalue\u001b[0m\u001b[0;34m\u001b[0m\u001b[0;34m\u001b[0m\u001b[0m\n\u001b[1;32m     49\u001b[0m \u001b[0;34m\u001b[0m\u001b[0m\n",
      "\u001b[0;31mKeyboardInterrupt\u001b[0m: "
     ]
    }
   ],
   "source": [
    "import tensorflow as tf\n",
    "from tensorflow.keras.callbacks import EarlyStopping\n",
    "tf.config.run_functions_eagerly(True)\n",
    "\n",
    "es = EarlyStopping(patience=3, restore_best_weights=True)\n",
    "\n",
    "# 1. Initializing a NeuralNet with its architecture and its compilation method\n",
    "model = initialize_model(X_train_preproc)\n",
    "model.summary()\n",
    "\n",
    "# 2. Training the model\n",
    "epochs = 50\n",
    "batch_size = 64\n",
    "\n",
    "history = model.fit(X_train_preproc, \n",
    "                    y_train,\n",
    "                    validation_data = (X_val_preproc, y_val),\n",
    "                    epochs = epochs,        \n",
    "                    batch_size = batch_size, \n",
    "                    callbacks=[es],\n",
    "                    verbose = 1)\n",
    "\n",
    "# 3. Evaluating the model\n",
    "res = model.evaluate(X_val_preproc, y_val, verbose = 0)\n",
    "print(f\"RMLSE achieved after {epochs} epochs = {round(res**0.5,3)}\")\n",
    "\n",
    "# 4. Looking at the lowest loss\n",
    "minimium_rmlse_val = min(history.history['val_loss'])**0.5\n",
    "optimal_momentum = np.argmin(history.history['val_loss'])\n",
    "\n",
    "print(f\"Lowest RMLSE achieved = {round(minimium_rmlse_val,3)}\")\n",
    "print(f\"This was achieved at the epoch number {optimal_momentum}\") "
   ]
  },
  {
   "cell_type": "code",
   "execution_count": null,
   "metadata": {
    "id": "SPNFh15Zzyrn"
   },
   "outputs": [],
   "source": [
    "def plot_history(history):\n",
    "    plt.plot(np.sqrt(history.history['loss']))\n",
    "    plt.plot(np.sqrt(history.history['val_loss']))\n",
    "    plt.title('Model Loss')\n",
    "    plt.ylabel('RMSLE')\n",
    "    plt.xlabel('Epoch')\n",
    "    plt.legend(['Train', 'Val'], loc='best')\n",
    "    plt.show()\n",
    "    \n",
    "plot_history(history)"
   ]
  },
  {
   "cell_type": "markdown",
   "metadata": {
    "id": "2T7TwF8X_Ueb",
    "tags": []
   },
   "source": [
    "## Keras Classifier"
   ]
  },
  {
   "cell_type": "code",
   "execution_count": null,
   "metadata": {
    "colab": {
     "base_uri": "https://localhost:8080/"
    },
    "id": "u3KG85Jw_G3j",
    "outputId": "3a2cc3fb-5d22-4b15-9b5a-574b347372ed"
   },
   "outputs": [
    {
     "name": "stderr",
     "output_type": "stream",
     "text": [
      "/usr/local/lib/python3.7/dist-packages/ipykernel_launcher.py:19: DeprecationWarning: KerasClassifier is deprecated, use Sci-Keras (https://github.com/adriangb/scikeras) instead. See https://www.adriangb.com/scikeras/stable/migration.html for help migrating.\n"
     ]
    }
   ],
   "source": [
    "from pandas import read_csv\n",
    "from keras.models import Sequential\n",
    "from keras.layers import Dense\n",
    "from keras.wrappers.scikit_learn import KerasClassifier\n",
    "from sklearn.model_selection import cross_val_score\n",
    "from sklearn.preprocessing import LabelEncoder\n",
    "from sklearn.model_selection import StratifiedKFold\n",
    "\n",
    "# baseline model\n",
    "def create_baseline():\n",
    "\t# create model\n",
    "\tmodel = Sequential()\n",
    "\tmodel.add(Dense(40, input_dim=40, activation='relu'))\n",
    "\tmodel.add(Dense(1, activation='sigmoid'))\n",
    "\t# Compile model\n",
    "\tmodel.compile(loss='binary_crossentropy', optimizer='adam', metrics=['accuracy'])\n",
    "\treturn model\n",
    "# evaluate model with standardized dataset\n",
    "estimator = KerasClassifier(build_fn=create_baseline, epochs=100, batch_size=5, verbose=0)\n",
    "kfold = StratifiedKFold(n_splits=2, shuffle=True)\n",
    "results = cross_val_score(estimator, X_train_preproc, y_train, cv=kfold)\n",
    "print(\"Baseline: %.2f%% (%.2f%%)\" % (results.mean()*100, results.std()*100))"
   ]
  },
  {
   "cell_type": "code",
   "execution_count": null,
   "metadata": {
    "id": "RR8F3PFN_IoB"
   },
   "outputs": [],
   "source": [
    "from pandas import read_csv\n",
    "from keras.models import Sequential\n",
    "from keras.layers import Dense\n",
    "from keras.wrappers.scikit_learn import KerasClassifier\n",
    "from sklearn.model_selection import cross_val_score\n",
    "from sklearn.preprocessing import LabelEncoder\n",
    "from sklearn.model_selection import StratifiedKFold\n",
    "from sklearn.preprocessing import StandardScaler\n",
    "from sklearn.pipeline import Pipeline\n",
    "\n",
    "# larger model\n",
    "def create_larger():\n",
    "\t# create model\n",
    "\tmodel = Sequential()\n",
    "\tmodel.add(Dense(62, input_dim=62, activation='relu'))\n",
    "\tmodel.add(Dense(30, activation='relu'))\n",
    "\tmodel.add(Dense(1, activation='sigmoid'))\n",
    "\t# Compile model\n",
    "\tmodel.compile(loss='binary_crossentropy', optimizer='adam', metrics=['accuracy'])\n",
    "\treturn model\n",
    "kclass = KerasClassifier(build_fn=create_larger, epochs=100, batch_size=5, verbose=0)))\n",
    "\n",
    "kfold = StratifiedKFold(n_splits=10, shuffle=True)\n",
    "results = cross_val_score(kclass, X_train_preproc, y_train, cv=kfold)\n",
    "print(\"Larger: %.2f%% (%.2f%%)\" % (results.mean()*100, results.std()*100))"
   ]
  },
  {
   "cell_type": "markdown",
   "metadata": {},
   "source": [
    "# Other models - Regression"
   ]
  },
  {
   "cell_type": "markdown",
   "metadata": {},
   "source": [
    "## KNN Regressor"
   ]
  },
  {
   "cell_type": "code",
   "execution_count": null,
   "metadata": {},
   "outputs": [],
   "source": [
    "# Run a search with cross_validate to find the optimal\n",
    "from sklearn.neighbors import KNeighborsRegressor\n",
    "\n",
    "k_range = [180, 190, 200, 210, 220, 230, 240, 250] # Totally arbitrary, but previous testing suggests it's best to use at least 180\n",
    "\n",
    "scores = []\n",
    "\n",
    "# We append the scores in the dictionary\n",
    "for k in k_range:\n",
    "    neigh = KNeighborsRegressor(n_neighbors=k)\n",
    "    cv_results = cross_validate(neigh, X_train_preproc, y_train, cv=5, \n",
    "                            scoring=['max_error',\n",
    "                                     'r2', \n",
    "                                     'neg_mean_absolute_error',\n",
    "                                     'neg_mean_squared_error']\n",
    "                           )\n",
    "    cv_results = pd.DataFrame(cv_results)\n",
    "    scores.append(cv_results['test_r2'].mean())\n",
    "       \n",
    "plt.plot(k_range, scores, label = 'Training score')"
   ]
  },
  {
   "cell_type": "code",
   "execution_count": null,
   "metadata": {},
   "outputs": [],
   "source": [
    "# Use the optimal K and cross  validate more times to find a stable test result\n",
    "from sklearn.neighbors import KNeighborsRegressor\n",
    "\n",
    "neigh = KNeighborsRegressor(n_neighbors=200)\n",
    "\n",
    "cv_results = cross_validate(neigh, X_train_preproc, y_train, cv=15, \n",
    "                            scoring=['max_error',\n",
    "                                     'r2', \n",
    "                                     'neg_mean_absolute_error',\n",
    "                                     'neg_mean_squared_error']\n",
    "                           )\n",
    "cv_results = pd.DataFrame(cv_results)\n",
    "score = cv_results['test_r2'].mean()\n",
    "score"
   ]
  },
  {
   "cell_type": "code",
   "execution_count": null,
   "metadata": {
    "tags": []
   },
   "outputs": [],
   "source": [
    "cv_results"
   ]
  },
  {
   "cell_type": "markdown",
   "metadata": {},
   "source": [
    "## XGBoost Regressor"
   ]
  },
  {
   "cell_type": "code",
   "execution_count": null,
   "metadata": {},
   "outputs": [],
   "source": [
    "from sklearn.ensemble import GradientBoostingRegressor\n",
    "from sklearn.model_selection import cross_validate\n",
    "\n",
    "xgb = GradientBoostingRegressor(max_depth=10, n_estimators=100, learning_rate=0.1)\n",
    "#xgb = XGBRegressor(max_depth=5, n_estimators=60, learning_rate=0.5) ### standard from lecture\n",
    "#xgb = XGBRegressor(learning_rate=0.05, max_depth = 1, n_estimators = 50) \n",
    "#(max_depth=10, n_estimators=100, learning_rate=0.1) \n",
    "\n",
    "cv_results = cross_validate(xgb, X_train_preproc, y_train, cv=15, \n",
    "                            scoring=['max_error',\n",
    "                                     'r2', \n",
    "                                     'neg_mean_absolute_error',\n",
    "                                     'neg_mean_squared_error'])\n",
    "\n",
    "#xgb.fit(transformed,y)\n",
    "cv_results = pd.DataFrame(cv_results)\n",
    "score = cv_results['test_r2'].mean()\n",
    "score"
   ]
  },
  {
   "cell_type": "markdown",
   "metadata": {},
   "source": [
    "## Neural Network Regressor"
   ]
  },
  {
   "cell_type": "code",
   "execution_count": null,
   "metadata": {},
   "outputs": [],
   "source": [
    "from tensorflow.keras import Sequential, layers\n",
    "from keras.layers import Dropout\n",
    "from tensorflow import keras\n",
    "\n",
    "def initialize_model(X):\n",
    "\n",
    "     model = Sequential()\n",
    "    \n",
    "    # Input Layer\n",
    "    model.add(layers.Dense(50, activation='relu', input_dim = X.shape[-1]))\n",
    "    \n",
    "    # Hidden Layers\n",
    "    model.add(layers.Dense(30, activation='relu'))\n",
    "    model.add(layers.Dense(15, activation='relu'))\n",
    "    model.add(Dropout(0.1))\n",
    "    model.add(layers.Dense(15, activation='relu'))\n",
    "    model.add(Dropout(0.15))   \n",
    "    model.add(layers.Dense(10, activation='relu'))\n",
    "    model.add(Dropout(0.2))\n",
    "    \n",
    "    # Predictive Layer\n",
    "    model.add(layers.Dense(1, activation='linear'))\n",
    "    \n",
    "    opt = keras.optimizers.Adam()\n",
    "\n",
    "    model.compile(optimizer=opt,\n",
    "                  #loss='msle')      # directly optimize for the squared log error!\n",
    "                  loss='mean_squared_error')\n",
    "    \n",
    "    return model"
   ]
  },
  {
   "cell_type": "code",
   "execution_count": null,
   "metadata": {},
   "outputs": [],
   "source": [
    "import tensorflow as tf\n",
    "from tensorflow.keras.callbacks import EarlyStopping\n",
    "tf.config.run_functions_eagerly(True)\n",
    "\n",
    "es = EarlyStopping(patience=5, restore_best_weights=True)\n",
    "\n",
    "model = initialize_model(X_train_preproc)\n",
    "model.summary()\n",
    "\n",
    "# Training the model\n",
    "epochs = 150\n",
    "batch_size = 32\n",
    "\n",
    "history = model.fit(X_train_preproc, \n",
    "                    y_train,\n",
    "                    validation_data = (X_val_preproc, y_val),\n",
    "                    epochs = epochs,         \n",
    "                    batch_size = batch_size, \n",
    "                    callbacks=[es],\n",
    "                    verbose = 1)\n",
    "\n",
    "# 3. Evaluating the model\n",
    "res = model.evaluate(X_val_preproc, y_val, verbose = 0)\n",
    "print(f\"RMLSE achieved after {epochs} epochs = {round(res**0.5,3)}\")\n",
    "\n",
    "# 4. Looking at the lowest loss\n",
    "minimium_rmlse_val = min(history.history['val_loss'])**0.5\n",
    "optimal_momentum = np.argmin(history.history['val_loss'])\n",
    "\n",
    "print(f\"Lowest RMLSE achieved = {round(minimium_rmlse_val,3)}\")\n",
    "print(f\"This was achieved at the epoch number {optimal_momentum}\") "
   ]
  },
  {
   "cell_type": "code",
   "execution_count": null,
   "metadata": {},
   "outputs": [],
   "source": [
    "def plot_history(history):\n",
    "    plt.plot(np.sqrt(history.history['loss']))\n",
    "    plt.plot(np.sqrt(history.history['val_loss']))\n",
    "    plt.title('Model Loss')\n",
    "    plt.ylabel('RMSLE')\n",
    "    plt.xlabel('Epoch')\n",
    "    plt.legend(['Train', 'Val'], loc='best')\n",
    "    plt.show()\n",
    "  \n",
    "plot_history(history)"
   ]
  }
 ],
 "metadata": {
  "accelerator": "GPU",
  "colab": {
   "collapsed_sections": [
    "dcz3UEJAzyrV",
    "uWCusp0Kx6Wt",
    "aYHIBCICyBjS"
   ],
   "name": "Models_Classification_final.ipynb",
   "provenance": []
  },
  "interpreter": {
   "hash": "1fec01d925059a361c1e9f9aa6fb98d44a04ad369f384098a87eb49d1ad96cd7"
  },
  "kernelspec": {
   "display_name": "Python 3 (ipykernel)",
   "language": "python",
   "name": "python3"
  },
  "language_info": {
   "codemirror_mode": {
    "name": "ipython",
    "version": 3
   },
   "file_extension": ".py",
   "mimetype": "text/x-python",
   "name": "python",
   "nbconvert_exporter": "python",
   "pygments_lexer": "ipython3",
   "version": "3.8.12"
  },
  "toc": {
   "base_numbering": 1,
   "nav_menu": {},
   "number_sections": true,
   "sideBar": true,
   "skip_h1_title": false,
   "title_cell": "Table of Contents",
   "title_sidebar": "Contents",
   "toc_cell": false,
   "toc_position": {},
   "toc_section_display": true,
   "toc_window_display": false
  }
 },
 "nbformat": 4,
 "nbformat_minor": 4
}
