{
  "cells": [
    {
      "cell_type": "code",
      "execution_count": 24,
      "metadata": {
        "colab": {
          "base_uri": "https://localhost:8080/"
        },
        "id": "VpvtDZVNzyqM",
        "outputId": "9c65c220-9bd2-4644-c342-183b0aae4340"
      },
      "outputs": [
        {
          "output_type": "stream",
          "name": "stdout",
          "text": [
            "The autoreload extension is already loaded. To reload it, use:\n",
            "  %reload_ext autoreload\n"
          ]
        }
      ],
      "source": [
        "%load_ext autoreload\n",
        "%autoreload 2\n",
        "\n",
        "# DATA MANIPULATION\n",
        "import pandas as pd\n",
        "pd.set_option('display.max_columns', None)\n",
        "import numpy as np\n",
        "\n",
        "# DATA VISUALISATION\n",
        "import matplotlib.pyplot as plt\n",
        "import seaborn as sns\n",
        "\n",
        "# VIEWING OPTIONS IN THE NOTEBOOK\n",
        "from sklearn import set_config\n",
        "set_config(display='diagram')"
      ]
    },
    {
      "cell_type": "code",
      "execution_count": 54,
      "metadata": {
        "colab": {
          "base_uri": "https://localhost:8080/"
        },
        "id": "NDxVNSQGzyqk",
        "outputId": "631f0d77-00e5-45b1-b2c5-fd6c58a6d736"
      },
      "outputs": [
        {
          "output_type": "stream",
          "name": "stderr",
          "text": [
            "/usr/local/lib/python3.7/dist-packages/ipykernel_launcher.py:12: SettingWithCopyWarning: \n",
            "A value is trying to be set on a copy of a slice from a DataFrame\n",
            "\n",
            "See the caveats in the documentation: https://pandas.pydata.org/pandas-docs/stable/user_guide/indexing.html#returning-a-view-versus-a-copy\n",
            "  if sys.path[0] == '':\n",
            "/usr/local/lib/python3.7/dist-packages/ipykernel_launcher.py:13: SettingWithCopyWarning: \n",
            "A value is trying to be set on a copy of a slice from a DataFrame\n",
            "\n",
            "See the caveats in the documentation: https://pandas.pydata.org/pandas-docs/stable/user_guide/indexing.html#returning-a-view-versus-a-copy\n",
            "  del sys.path[0]\n",
            "/usr/local/lib/python3.7/dist-packages/ipykernel_launcher.py:14: SettingWithCopyWarning: \n",
            "A value is trying to be set on a copy of a slice from a DataFrame\n",
            "\n",
            "See the caveats in the documentation: https://pandas.pydata.org/pandas-docs/stable/user_guide/indexing.html#returning-a-view-versus-a-copy\n",
            "  \n",
            "/usr/local/lib/python3.7/dist-packages/ipykernel_launcher.py:15: SettingWithCopyWarning: \n",
            "A value is trying to be set on a copy of a slice from a DataFrame\n",
            "\n",
            "See the caveats in the documentation: https://pandas.pydata.org/pandas-docs/stable/user_guide/indexing.html#returning-a-view-versus-a-copy\n",
            "  from ipykernel import kernelapp as app\n"
          ]
        }
      ],
      "source": [
        "from tensorflow.keras.utils import to_categorical\n",
        "\n",
        "data = pd.read_csv('data_for_model_2.csv')\n",
        "#data = pd.read_csv('../data/data_for_model_2.csv')\n",
        "data['snow'] = data['snow'].replace(np.nan, 0)\n",
        "\n",
        "data.head()\n",
        "X = data[['city','temp', 'prcp', 'wspd', 'wpgt', 'snow', 'coco', 'weekday', 'month', 'time_of_day']]\n",
        "#y = data['target_numeric']\n",
        "y = data['target'] # for classification\n",
        "\n",
        "y[y == 'on time'] = 0 # can use binary for logistic regression\n",
        "y[y == 'small delay'] = 0\n",
        "y[y == 'medium delay'] = 1\n",
        "y[y == 'large delay/cancelled'] = 1\n",
        "y=y.astype('int') # important as otherwise it gets attributed \"object\" type, which is bad for models\n",
        "#y = to_categorical(y)"
      ]
    },
    {
      "cell_type": "code",
      "execution_count": 55,
      "metadata": {
        "id": "jjWBlL4Izyqv"
      },
      "outputs": [],
      "source": [
        "from sklearn.model_selection import train_test_split\n",
        "X_train, X_val, y_train, y_val = train_test_split(X, y, test_size = 0.2)\n",
        "\n",
        "train_ratio = 0.75\n",
        "validation_ratio = 0.15\n",
        "test_ratio = 0.10\n",
        "\n",
        "# train is now 75% of the entire data set\n",
        "# the _junk suffix means that we drop that variable completely\n",
        "X_train, X_test, y_train, y_test = train_test_split(X, y, test_size=1 - train_ratio)\n",
        "\n",
        "# test is now 10% of the initial data set\n",
        "# validation is now 15% of the initial data set\n",
        "X_val, X_test, y_val, y_test = train_test_split(X_test, y_test, test_size=test_ratio/(test_ratio + validation_ratio)) \n"
      ]
    },
    {
      "cell_type": "code",
      "execution_count": 56,
      "metadata": {
        "id": "uvYXDrxZzyq3"
      },
      "outputs": [],
      "source": [
        "from sklearn.pipeline import make_pipeline\n",
        "from sklearn.compose import ColumnTransformer\n",
        "from sklearn.feature_selection import SelectPercentile, mutual_info_regression\n",
        "from sklearn.preprocessing import OrdinalEncoder, MinMaxScaler, OneHotEncoder\n",
        "from sklearn.impute import SimpleImputer, KNNImputer\n",
        "\n",
        "def create_preproc_ordinal():\n",
        "    feat_ordinal_dict = {\n",
        "        # considers \"missing\" as the worse category\n",
        "        \"coco\": ['good', 'medium', 'bad', 'extreme']\n",
        "    }\n",
        "\n",
        "    feat_ordinal = sorted(feat_ordinal_dict.keys())\n",
        "    feat_ordinal_values_sorted = [feat_ordinal_dict[i] for i in feat_ordinal]\n",
        "\n",
        "    encoder_ordinal = OrdinalEncoder(\n",
        "        categories=feat_ordinal_values_sorted,\n",
        "        handle_unknown=\"use_encoded_value\",\n",
        "        unknown_value=-1  # Considers unknown values as worse than \"missing\"\n",
        "    )\n",
        "\n",
        "    preproc_ordinal = make_pipeline(\n",
        "        SimpleImputer(strategy=\"constant\", fill_value=\"missing\"),\n",
        "        encoder_ordinal,\n",
        "        MinMaxScaler()\n",
        "    )\n",
        "\n",
        "    return preproc_ordinal, feat_ordinal\n",
        "\n",
        "\n",
        "def create_preproc_numerical():\n",
        "    return make_pipeline(\n",
        "        KNNImputer(),\n",
        "        MinMaxScaler()\n",
        "    )\n",
        "\n",
        "def create_preproc_nominal():\n",
        "    return make_pipeline(\n",
        "        SimpleImputer(strategy=\"most_frequent\"),\n",
        "        OneHotEncoder(handle_unknown=\"ignore\")\n",
        "    )"
      ]
    },
    {
      "cell_type": "code",
      "execution_count": 57,
      "metadata": {
        "id": "3d2UcqGhzyq-"
      },
      "outputs": [],
      "source": [
        "def create_preproc(X, percentile = 75):\n",
        "    \"\"\"Create an (unfitted) sklearn preprocessing pipeline well suited for the Houses Kaggle Competition\n",
        "\n",
        "    Args:\n",
        "        X (pandas.DataFrame): Feature matrix\n",
        "        percentile (float): Percentage of feature to keep after one hot encoding\n",
        "\n",
        "    Returns:\n",
        "        sklearn.pipeline.Pipeline: un-fitted preprocessor\n",
        "    \"\"\"\n",
        "    preproc_ordinal, feat_ordinal = create_preproc_ordinal()\n",
        "    \n",
        "    preproc_numerical = create_preproc_numerical()\n",
        "    feat_numerical = sorted(X.select_dtypes(\n",
        "        include=[\"int64\", \"float64\"]).columns)\n",
        "    \n",
        "    preproc_nominal = create_preproc_nominal()\n",
        "    feat_nominal = sorted(\n",
        "        list(set(X.columns) - set(feat_numerical) - set(feat_ordinal)))\n",
        "    \n",
        "    feature_transformer = ColumnTransformer(\n",
        "        [\n",
        "        (\"numerical_encoder\", preproc_numerical, feat_numerical),\n",
        "        (\"ordinal_encoder\", preproc_ordinal, feat_ordinal),\n",
        "        (\"nominal_encoder\", preproc_nominal, feat_nominal)\n",
        "        ],\n",
        "        remainder=\"drop\")\n",
        "\n",
        "    feature_selector = SelectPercentile(\n",
        "        mutual_info_regression,\n",
        "        percentile=percentile,  # keep the xx% most important features\n",
        "    )\n",
        "\n",
        "    preproc = make_pipeline(\n",
        "        feature_transformer\n",
        "        #feature_selector\n",
        "    )\n",
        "    return preproc"
      ]
    },
    {
      "cell_type": "code",
      "execution_count": 58,
      "metadata": {
        "colab": {
          "base_uri": "https://localhost:8080/",
          "height": 227
        },
        "id": "T4kzLq8jzyrD",
        "outputId": "49ad6c49-9c3e-40b9-f657-0617154bcd1e"
      },
      "outputs": [
        {
          "output_type": "execute_result",
          "data": {
            "text/plain": [
              "Pipeline(steps=[('columntransformer',\n",
              "                 ColumnTransformer(transformers=[('numerical_encoder',\n",
              "                                                  Pipeline(steps=[('knnimputer',\n",
              "                                                                   KNNImputer()),\n",
              "                                                                  ('minmaxscaler',\n",
              "                                                                   MinMaxScaler())]),\n",
              "                                                  ['prcp', 'snow', 'temp',\n",
              "                                                   'wpgt', 'wspd']),\n",
              "                                                 ('ordinal_encoder',\n",
              "                                                  Pipeline(steps=[('simpleimputer',\n",
              "                                                                   SimpleImputer(fill_value='missing',\n",
              "                                                                                 strategy='constant')),\n",
              "                                                                  ('ordinalencoder',\n",
              "                                                                   OrdinalEncoder(categories=[['good',\n",
              "                                                                                               'medium',\n",
              "                                                                                               'bad',\n",
              "                                                                                               'extreme']],\n",
              "                                                                                  handle_unknown='use_encoded_value',\n",
              "                                                                                  unknown_value=-1)),\n",
              "                                                                  ('minmaxscaler',\n",
              "                                                                   MinMaxScaler())]),\n",
              "                                                  ['coco']),\n",
              "                                                 ('nominal_encoder',\n",
              "                                                  Pipeline(steps=[('simpleimputer',\n",
              "                                                                   SimpleImputer(strategy='most_frequent')),\n",
              "                                                                  ('onehotencoder',\n",
              "                                                                   OneHotEncoder(handle_unknown='ignore'))]),\n",
              "                                                  ['city', 'month',\n",
              "                                                   'time_of_day',\n",
              "                                                   'weekday'])]))])"
            ],
            "text/html": [
              "<style>#sk-ca5cfb17-90db-4728-a1a0-d50fc9989ec1 {color: black;background-color: white;}#sk-ca5cfb17-90db-4728-a1a0-d50fc9989ec1 pre{padding: 0;}#sk-ca5cfb17-90db-4728-a1a0-d50fc9989ec1 div.sk-toggleable {background-color: white;}#sk-ca5cfb17-90db-4728-a1a0-d50fc9989ec1 label.sk-toggleable__label {cursor: pointer;display: block;width: 100%;margin-bottom: 0;padding: 0.3em;box-sizing: border-box;text-align: center;}#sk-ca5cfb17-90db-4728-a1a0-d50fc9989ec1 label.sk-toggleable__label-arrow:before {content: \"▸\";float: left;margin-right: 0.25em;color: #696969;}#sk-ca5cfb17-90db-4728-a1a0-d50fc9989ec1 label.sk-toggleable__label-arrow:hover:before {color: black;}#sk-ca5cfb17-90db-4728-a1a0-d50fc9989ec1 div.sk-estimator:hover label.sk-toggleable__label-arrow:before {color: black;}#sk-ca5cfb17-90db-4728-a1a0-d50fc9989ec1 div.sk-toggleable__content {max-height: 0;max-width: 0;overflow: hidden;text-align: left;background-color: #f0f8ff;}#sk-ca5cfb17-90db-4728-a1a0-d50fc9989ec1 div.sk-toggleable__content pre {margin: 0.2em;color: black;border-radius: 0.25em;background-color: #f0f8ff;}#sk-ca5cfb17-90db-4728-a1a0-d50fc9989ec1 input.sk-toggleable__control:checked~div.sk-toggleable__content {max-height: 200px;max-width: 100%;overflow: auto;}#sk-ca5cfb17-90db-4728-a1a0-d50fc9989ec1 input.sk-toggleable__control:checked~label.sk-toggleable__label-arrow:before {content: \"▾\";}#sk-ca5cfb17-90db-4728-a1a0-d50fc9989ec1 div.sk-estimator input.sk-toggleable__control:checked~label.sk-toggleable__label {background-color: #d4ebff;}#sk-ca5cfb17-90db-4728-a1a0-d50fc9989ec1 div.sk-label input.sk-toggleable__control:checked~label.sk-toggleable__label {background-color: #d4ebff;}#sk-ca5cfb17-90db-4728-a1a0-d50fc9989ec1 input.sk-hidden--visually {border: 0;clip: rect(1px 1px 1px 1px);clip: rect(1px, 1px, 1px, 1px);height: 1px;margin: -1px;overflow: hidden;padding: 0;position: absolute;width: 1px;}#sk-ca5cfb17-90db-4728-a1a0-d50fc9989ec1 div.sk-estimator {font-family: monospace;background-color: #f0f8ff;border: 1px dotted black;border-radius: 0.25em;box-sizing: border-box;margin-bottom: 0.5em;}#sk-ca5cfb17-90db-4728-a1a0-d50fc9989ec1 div.sk-estimator:hover {background-color: #d4ebff;}#sk-ca5cfb17-90db-4728-a1a0-d50fc9989ec1 div.sk-parallel-item::after {content: \"\";width: 100%;border-bottom: 1px solid gray;flex-grow: 1;}#sk-ca5cfb17-90db-4728-a1a0-d50fc9989ec1 div.sk-label:hover label.sk-toggleable__label {background-color: #d4ebff;}#sk-ca5cfb17-90db-4728-a1a0-d50fc9989ec1 div.sk-serial::before {content: \"\";position: absolute;border-left: 1px solid gray;box-sizing: border-box;top: 2em;bottom: 0;left: 50%;}#sk-ca5cfb17-90db-4728-a1a0-d50fc9989ec1 div.sk-serial {display: flex;flex-direction: column;align-items: center;background-color: white;padding-right: 0.2em;padding-left: 0.2em;}#sk-ca5cfb17-90db-4728-a1a0-d50fc9989ec1 div.sk-item {z-index: 1;}#sk-ca5cfb17-90db-4728-a1a0-d50fc9989ec1 div.sk-parallel {display: flex;align-items: stretch;justify-content: center;background-color: white;}#sk-ca5cfb17-90db-4728-a1a0-d50fc9989ec1 div.sk-parallel::before {content: \"\";position: absolute;border-left: 1px solid gray;box-sizing: border-box;top: 2em;bottom: 0;left: 50%;}#sk-ca5cfb17-90db-4728-a1a0-d50fc9989ec1 div.sk-parallel-item {display: flex;flex-direction: column;position: relative;background-color: white;}#sk-ca5cfb17-90db-4728-a1a0-d50fc9989ec1 div.sk-parallel-item:first-child::after {align-self: flex-end;width: 50%;}#sk-ca5cfb17-90db-4728-a1a0-d50fc9989ec1 div.sk-parallel-item:last-child::after {align-self: flex-start;width: 50%;}#sk-ca5cfb17-90db-4728-a1a0-d50fc9989ec1 div.sk-parallel-item:only-child::after {width: 0;}#sk-ca5cfb17-90db-4728-a1a0-d50fc9989ec1 div.sk-dashed-wrapped {border: 1px dashed gray;margin: 0 0.4em 0.5em 0.4em;box-sizing: border-box;padding-bottom: 0.4em;background-color: white;position: relative;}#sk-ca5cfb17-90db-4728-a1a0-d50fc9989ec1 div.sk-label label {font-family: monospace;font-weight: bold;background-color: white;display: inline-block;line-height: 1.2em;}#sk-ca5cfb17-90db-4728-a1a0-d50fc9989ec1 div.sk-label-container {position: relative;z-index: 2;text-align: center;}#sk-ca5cfb17-90db-4728-a1a0-d50fc9989ec1 div.sk-container {/* jupyter's `normalize.less` sets `[hidden] { display: none; }` but bootstrap.min.css set `[hidden] { display: none !important; }` so we also need the `!important` here to be able to override the default hidden behavior on the sphinx rendered scikit-learn.org. See: https://github.com/scikit-learn/scikit-learn/issues/21755 */display: inline-block !important;position: relative;}#sk-ca5cfb17-90db-4728-a1a0-d50fc9989ec1 div.sk-text-repr-fallback {display: none;}</style><div id=\"sk-ca5cfb17-90db-4728-a1a0-d50fc9989ec1\" class=\"sk-top-container\"><div class=\"sk-text-repr-fallback\"><pre>Pipeline(steps=[(&#x27;columntransformer&#x27;,\n",
              "                 ColumnTransformer(transformers=[(&#x27;numerical_encoder&#x27;,\n",
              "                                                  Pipeline(steps=[(&#x27;knnimputer&#x27;,\n",
              "                                                                   KNNImputer()),\n",
              "                                                                  (&#x27;minmaxscaler&#x27;,\n",
              "                                                                   MinMaxScaler())]),\n",
              "                                                  [&#x27;prcp&#x27;, &#x27;snow&#x27;, &#x27;temp&#x27;,\n",
              "                                                   &#x27;wpgt&#x27;, &#x27;wspd&#x27;]),\n",
              "                                                 (&#x27;ordinal_encoder&#x27;,\n",
              "                                                  Pipeline(steps=[(&#x27;simpleimputer&#x27;,\n",
              "                                                                   SimpleImputer(fill_value=&#x27;missing&#x27;,\n",
              "                                                                                 strategy=&#x27;constant&#x27;)),\n",
              "                                                                  (&#x27;ordinalencoder&#x27;,\n",
              "                                                                   OrdinalEncoder(categories=[[&#x27;good&#x27;,\n",
              "                                                                                               &#x27;medium&#x27;,\n",
              "                                                                                               &#x27;bad&#x27;,\n",
              "                                                                                               &#x27;extreme&#x27;]],\n",
              "                                                                                  handle_unknown=&#x27;use_encoded_value&#x27;,\n",
              "                                                                                  unknown_value=-1)),\n",
              "                                                                  (&#x27;minmaxscaler&#x27;,\n",
              "                                                                   MinMaxScaler())]),\n",
              "                                                  [&#x27;coco&#x27;]),\n",
              "                                                 (&#x27;nominal_encoder&#x27;,\n",
              "                                                  Pipeline(steps=[(&#x27;simpleimputer&#x27;,\n",
              "                                                                   SimpleImputer(strategy=&#x27;most_frequent&#x27;)),\n",
              "                                                                  (&#x27;onehotencoder&#x27;,\n",
              "                                                                   OneHotEncoder(handle_unknown=&#x27;ignore&#x27;))]),\n",
              "                                                  [&#x27;city&#x27;, &#x27;month&#x27;,\n",
              "                                                   &#x27;time_of_day&#x27;,\n",
              "                                                   &#x27;weekday&#x27;])]))])</pre><b>Please rerun this cell to show the HTML repr or trust the notebook.</b></div><div class=\"sk-container\" hidden><div class=\"sk-item sk-dashed-wrapped\"><div class=\"sk-label-container\"><div class=\"sk-label sk-toggleable\"><input class=\"sk-toggleable__control sk-hidden--visually\" id=\"0ae6444a-edfe-4b94-affd-4a2c01b82d4b\" type=\"checkbox\" ><label for=\"0ae6444a-edfe-4b94-affd-4a2c01b82d4b\" class=\"sk-toggleable__label sk-toggleable__label-arrow\">Pipeline</label><div class=\"sk-toggleable__content\"><pre>Pipeline(steps=[(&#x27;columntransformer&#x27;,\n",
              "                 ColumnTransformer(transformers=[(&#x27;numerical_encoder&#x27;,\n",
              "                                                  Pipeline(steps=[(&#x27;knnimputer&#x27;,\n",
              "                                                                   KNNImputer()),\n",
              "                                                                  (&#x27;minmaxscaler&#x27;,\n",
              "                                                                   MinMaxScaler())]),\n",
              "                                                  [&#x27;prcp&#x27;, &#x27;snow&#x27;, &#x27;temp&#x27;,\n",
              "                                                   &#x27;wpgt&#x27;, &#x27;wspd&#x27;]),\n",
              "                                                 (&#x27;ordinal_encoder&#x27;,\n",
              "                                                  Pipeline(steps=[(&#x27;simpleimputer&#x27;,\n",
              "                                                                   SimpleImputer(fill_value=&#x27;missing&#x27;,\n",
              "                                                                                 strategy=&#x27;constant&#x27;)),\n",
              "                                                                  (&#x27;ordinalencoder&#x27;,\n",
              "                                                                   OrdinalEncoder(categories=[[&#x27;good&#x27;,\n",
              "                                                                                               &#x27;medium&#x27;,\n",
              "                                                                                               &#x27;bad&#x27;,\n",
              "                                                                                               &#x27;extreme&#x27;]],\n",
              "                                                                                  handle_unknown=&#x27;use_encoded_value&#x27;,\n",
              "                                                                                  unknown_value=-1)),\n",
              "                                                                  (&#x27;minmaxscaler&#x27;,\n",
              "                                                                   MinMaxScaler())]),\n",
              "                                                  [&#x27;coco&#x27;]),\n",
              "                                                 (&#x27;nominal_encoder&#x27;,\n",
              "                                                  Pipeline(steps=[(&#x27;simpleimputer&#x27;,\n",
              "                                                                   SimpleImputer(strategy=&#x27;most_frequent&#x27;)),\n",
              "                                                                  (&#x27;onehotencoder&#x27;,\n",
              "                                                                   OneHotEncoder(handle_unknown=&#x27;ignore&#x27;))]),\n",
              "                                                  [&#x27;city&#x27;, &#x27;month&#x27;,\n",
              "                                                   &#x27;time_of_day&#x27;,\n",
              "                                                   &#x27;weekday&#x27;])]))])</pre></div></div></div><div class=\"sk-serial\"><div class=\"sk-item sk-dashed-wrapped\"><div class=\"sk-label-container\"><div class=\"sk-label sk-toggleable\"><input class=\"sk-toggleable__control sk-hidden--visually\" id=\"2bbda6e4-4fe3-4435-9f50-c812e30500b7\" type=\"checkbox\" ><label for=\"2bbda6e4-4fe3-4435-9f50-c812e30500b7\" class=\"sk-toggleable__label sk-toggleable__label-arrow\">columntransformer: ColumnTransformer</label><div class=\"sk-toggleable__content\"><pre>ColumnTransformer(transformers=[(&#x27;numerical_encoder&#x27;,\n",
              "                                 Pipeline(steps=[(&#x27;knnimputer&#x27;, KNNImputer()),\n",
              "                                                 (&#x27;minmaxscaler&#x27;,\n",
              "                                                  MinMaxScaler())]),\n",
              "                                 [&#x27;prcp&#x27;, &#x27;snow&#x27;, &#x27;temp&#x27;, &#x27;wpgt&#x27;, &#x27;wspd&#x27;]),\n",
              "                                (&#x27;ordinal_encoder&#x27;,\n",
              "                                 Pipeline(steps=[(&#x27;simpleimputer&#x27;,\n",
              "                                                  SimpleImputer(fill_value=&#x27;missing&#x27;,\n",
              "                                                                strategy=&#x27;constant&#x27;)),\n",
              "                                                 (&#x27;ordinalencoder&#x27;,\n",
              "                                                  OrdinalEncoder(categories=[[&#x27;good&#x27;,\n",
              "                                                                              &#x27;medium&#x27;,\n",
              "                                                                              &#x27;bad&#x27;,\n",
              "                                                                              &#x27;extreme&#x27;]],\n",
              "                                                                 handle_unknown=&#x27;use_encoded_value&#x27;,\n",
              "                                                                 unknown_value=-1)),\n",
              "                                                 (&#x27;minmaxscaler&#x27;,\n",
              "                                                  MinMaxScaler())]),\n",
              "                                 [&#x27;coco&#x27;]),\n",
              "                                (&#x27;nominal_encoder&#x27;,\n",
              "                                 Pipeline(steps=[(&#x27;simpleimputer&#x27;,\n",
              "                                                  SimpleImputer(strategy=&#x27;most_frequent&#x27;)),\n",
              "                                                 (&#x27;onehotencoder&#x27;,\n",
              "                                                  OneHotEncoder(handle_unknown=&#x27;ignore&#x27;))]),\n",
              "                                 [&#x27;city&#x27;, &#x27;month&#x27;, &#x27;time_of_day&#x27;, &#x27;weekday&#x27;])])</pre></div></div></div><div class=\"sk-parallel\"><div class=\"sk-parallel-item\"><div class=\"sk-item\"><div class=\"sk-label-container\"><div class=\"sk-label sk-toggleable\"><input class=\"sk-toggleable__control sk-hidden--visually\" id=\"a46b36d4-f79a-444d-a0bc-5cc612fa24e9\" type=\"checkbox\" ><label for=\"a46b36d4-f79a-444d-a0bc-5cc612fa24e9\" class=\"sk-toggleable__label sk-toggleable__label-arrow\">numerical_encoder</label><div class=\"sk-toggleable__content\"><pre>[&#x27;prcp&#x27;, &#x27;snow&#x27;, &#x27;temp&#x27;, &#x27;wpgt&#x27;, &#x27;wspd&#x27;]</pre></div></div></div><div class=\"sk-serial\"><div class=\"sk-item\"><div class=\"sk-serial\"><div class=\"sk-item\"><div class=\"sk-estimator sk-toggleable\"><input class=\"sk-toggleable__control sk-hidden--visually\" id=\"22a9346d-1039-4f75-b398-0ec74d5555d1\" type=\"checkbox\" ><label for=\"22a9346d-1039-4f75-b398-0ec74d5555d1\" class=\"sk-toggleable__label sk-toggleable__label-arrow\">KNNImputer</label><div class=\"sk-toggleable__content\"><pre>KNNImputer()</pre></div></div></div><div class=\"sk-item\"><div class=\"sk-estimator sk-toggleable\"><input class=\"sk-toggleable__control sk-hidden--visually\" id=\"6c564283-a048-4c3e-a046-e381dfb34710\" type=\"checkbox\" ><label for=\"6c564283-a048-4c3e-a046-e381dfb34710\" class=\"sk-toggleable__label sk-toggleable__label-arrow\">MinMaxScaler</label><div class=\"sk-toggleable__content\"><pre>MinMaxScaler()</pre></div></div></div></div></div></div></div></div><div class=\"sk-parallel-item\"><div class=\"sk-item\"><div class=\"sk-label-container\"><div class=\"sk-label sk-toggleable\"><input class=\"sk-toggleable__control sk-hidden--visually\" id=\"d71a728b-1832-47a7-b4af-f0e0c910331e\" type=\"checkbox\" ><label for=\"d71a728b-1832-47a7-b4af-f0e0c910331e\" class=\"sk-toggleable__label sk-toggleable__label-arrow\">ordinal_encoder</label><div class=\"sk-toggleable__content\"><pre>[&#x27;coco&#x27;]</pre></div></div></div><div class=\"sk-serial\"><div class=\"sk-item\"><div class=\"sk-serial\"><div class=\"sk-item\"><div class=\"sk-estimator sk-toggleable\"><input class=\"sk-toggleable__control sk-hidden--visually\" id=\"23737f65-24ec-4221-928b-73f6bda47540\" type=\"checkbox\" ><label for=\"23737f65-24ec-4221-928b-73f6bda47540\" class=\"sk-toggleable__label sk-toggleable__label-arrow\">SimpleImputer</label><div class=\"sk-toggleable__content\"><pre>SimpleImputer(fill_value=&#x27;missing&#x27;, strategy=&#x27;constant&#x27;)</pre></div></div></div><div class=\"sk-item\"><div class=\"sk-estimator sk-toggleable\"><input class=\"sk-toggleable__control sk-hidden--visually\" id=\"0404e081-9014-4e7d-8e9c-abfd9555ec3e\" type=\"checkbox\" ><label for=\"0404e081-9014-4e7d-8e9c-abfd9555ec3e\" class=\"sk-toggleable__label sk-toggleable__label-arrow\">OrdinalEncoder</label><div class=\"sk-toggleable__content\"><pre>OrdinalEncoder(categories=[[&#x27;good&#x27;, &#x27;medium&#x27;, &#x27;bad&#x27;, &#x27;extreme&#x27;]],\n",
              "               handle_unknown=&#x27;use_encoded_value&#x27;, unknown_value=-1)</pre></div></div></div><div class=\"sk-item\"><div class=\"sk-estimator sk-toggleable\"><input class=\"sk-toggleable__control sk-hidden--visually\" id=\"5cb2047e-01ac-42b2-b67d-20f221ecc2a3\" type=\"checkbox\" ><label for=\"5cb2047e-01ac-42b2-b67d-20f221ecc2a3\" class=\"sk-toggleable__label sk-toggleable__label-arrow\">MinMaxScaler</label><div class=\"sk-toggleable__content\"><pre>MinMaxScaler()</pre></div></div></div></div></div></div></div></div><div class=\"sk-parallel-item\"><div class=\"sk-item\"><div class=\"sk-label-container\"><div class=\"sk-label sk-toggleable\"><input class=\"sk-toggleable__control sk-hidden--visually\" id=\"8c78a51d-d3dc-46cb-bc9d-7ecf3510aaa5\" type=\"checkbox\" ><label for=\"8c78a51d-d3dc-46cb-bc9d-7ecf3510aaa5\" class=\"sk-toggleable__label sk-toggleable__label-arrow\">nominal_encoder</label><div class=\"sk-toggleable__content\"><pre>[&#x27;city&#x27;, &#x27;month&#x27;, &#x27;time_of_day&#x27;, &#x27;weekday&#x27;]</pre></div></div></div><div class=\"sk-serial\"><div class=\"sk-item\"><div class=\"sk-serial\"><div class=\"sk-item\"><div class=\"sk-estimator sk-toggleable\"><input class=\"sk-toggleable__control sk-hidden--visually\" id=\"5d040f7a-850d-4aa3-b8db-ddc60b9ab045\" type=\"checkbox\" ><label for=\"5d040f7a-850d-4aa3-b8db-ddc60b9ab045\" class=\"sk-toggleable__label sk-toggleable__label-arrow\">SimpleImputer</label><div class=\"sk-toggleable__content\"><pre>SimpleImputer(strategy=&#x27;most_frequent&#x27;)</pre></div></div></div><div class=\"sk-item\"><div class=\"sk-estimator sk-toggleable\"><input class=\"sk-toggleable__control sk-hidden--visually\" id=\"16b5afc1-4c34-4c6e-a52e-3c3e3d45b981\" type=\"checkbox\" ><label for=\"16b5afc1-4c34-4c6e-a52e-3c3e3d45b981\" class=\"sk-toggleable__label sk-toggleable__label-arrow\">OneHotEncoder</label><div class=\"sk-toggleable__content\"><pre>OneHotEncoder(handle_unknown=&#x27;ignore&#x27;)</pre></div></div></div></div></div></div></div></div></div></div></div></div></div></div>"
            ]
          },
          "metadata": {},
          "execution_count": 58
        }
      ],
      "source": [
        "preproc = create_preproc(X_train)\n",
        "preproc"
      ]
    },
    {
      "cell_type": "code",
      "execution_count": 59,
      "metadata": {
        "colab": {
          "base_uri": "https://localhost:8080/",
          "height": 227
        },
        "id": "CkxQZL-WzyrL",
        "outputId": "4717a887-0464-4538-eef5-92a27d91bf43"
      },
      "outputs": [
        {
          "output_type": "execute_result",
          "data": {
            "text/plain": [
              "Pipeline(steps=[('columntransformer',\n",
              "                 ColumnTransformer(transformers=[('numerical_encoder',\n",
              "                                                  Pipeline(steps=[('knnimputer',\n",
              "                                                                   KNNImputer()),\n",
              "                                                                  ('minmaxscaler',\n",
              "                                                                   MinMaxScaler())]),\n",
              "                                                  ['prcp', 'snow', 'temp',\n",
              "                                                   'wpgt', 'wspd']),\n",
              "                                                 ('ordinal_encoder',\n",
              "                                                  Pipeline(steps=[('simpleimputer',\n",
              "                                                                   SimpleImputer(fill_value='missing',\n",
              "                                                                                 strategy='constant')),\n",
              "                                                                  ('ordinalencoder',\n",
              "                                                                   OrdinalEncoder(categories=[['good',\n",
              "                                                                                               'medium',\n",
              "                                                                                               'bad',\n",
              "                                                                                               'extreme']],\n",
              "                                                                                  handle_unknown='use_encoded_value',\n",
              "                                                                                  unknown_value=-1)),\n",
              "                                                                  ('minmaxscaler',\n",
              "                                                                   MinMaxScaler())]),\n",
              "                                                  ['coco']),\n",
              "                                                 ('nominal_encoder',\n",
              "                                                  Pipeline(steps=[('simpleimputer',\n",
              "                                                                   SimpleImputer(strategy='most_frequent')),\n",
              "                                                                  ('onehotencoder',\n",
              "                                                                   OneHotEncoder(handle_unknown='ignore'))]),\n",
              "                                                  ['city', 'month',\n",
              "                                                   'time_of_day',\n",
              "                                                   'weekday'])]))])"
            ],
            "text/html": [
              "<style>#sk-0a98a449-b24f-4cf0-9cab-6c10a2834e9e {color: black;background-color: white;}#sk-0a98a449-b24f-4cf0-9cab-6c10a2834e9e pre{padding: 0;}#sk-0a98a449-b24f-4cf0-9cab-6c10a2834e9e div.sk-toggleable {background-color: white;}#sk-0a98a449-b24f-4cf0-9cab-6c10a2834e9e label.sk-toggleable__label {cursor: pointer;display: block;width: 100%;margin-bottom: 0;padding: 0.3em;box-sizing: border-box;text-align: center;}#sk-0a98a449-b24f-4cf0-9cab-6c10a2834e9e label.sk-toggleable__label-arrow:before {content: \"▸\";float: left;margin-right: 0.25em;color: #696969;}#sk-0a98a449-b24f-4cf0-9cab-6c10a2834e9e label.sk-toggleable__label-arrow:hover:before {color: black;}#sk-0a98a449-b24f-4cf0-9cab-6c10a2834e9e div.sk-estimator:hover label.sk-toggleable__label-arrow:before {color: black;}#sk-0a98a449-b24f-4cf0-9cab-6c10a2834e9e div.sk-toggleable__content {max-height: 0;max-width: 0;overflow: hidden;text-align: left;background-color: #f0f8ff;}#sk-0a98a449-b24f-4cf0-9cab-6c10a2834e9e div.sk-toggleable__content pre {margin: 0.2em;color: black;border-radius: 0.25em;background-color: #f0f8ff;}#sk-0a98a449-b24f-4cf0-9cab-6c10a2834e9e input.sk-toggleable__control:checked~div.sk-toggleable__content {max-height: 200px;max-width: 100%;overflow: auto;}#sk-0a98a449-b24f-4cf0-9cab-6c10a2834e9e input.sk-toggleable__control:checked~label.sk-toggleable__label-arrow:before {content: \"▾\";}#sk-0a98a449-b24f-4cf0-9cab-6c10a2834e9e div.sk-estimator input.sk-toggleable__control:checked~label.sk-toggleable__label {background-color: #d4ebff;}#sk-0a98a449-b24f-4cf0-9cab-6c10a2834e9e div.sk-label input.sk-toggleable__control:checked~label.sk-toggleable__label {background-color: #d4ebff;}#sk-0a98a449-b24f-4cf0-9cab-6c10a2834e9e input.sk-hidden--visually {border: 0;clip: rect(1px 1px 1px 1px);clip: rect(1px, 1px, 1px, 1px);height: 1px;margin: -1px;overflow: hidden;padding: 0;position: absolute;width: 1px;}#sk-0a98a449-b24f-4cf0-9cab-6c10a2834e9e div.sk-estimator {font-family: monospace;background-color: #f0f8ff;border: 1px dotted black;border-radius: 0.25em;box-sizing: border-box;margin-bottom: 0.5em;}#sk-0a98a449-b24f-4cf0-9cab-6c10a2834e9e div.sk-estimator:hover {background-color: #d4ebff;}#sk-0a98a449-b24f-4cf0-9cab-6c10a2834e9e div.sk-parallel-item::after {content: \"\";width: 100%;border-bottom: 1px solid gray;flex-grow: 1;}#sk-0a98a449-b24f-4cf0-9cab-6c10a2834e9e div.sk-label:hover label.sk-toggleable__label {background-color: #d4ebff;}#sk-0a98a449-b24f-4cf0-9cab-6c10a2834e9e div.sk-serial::before {content: \"\";position: absolute;border-left: 1px solid gray;box-sizing: border-box;top: 2em;bottom: 0;left: 50%;}#sk-0a98a449-b24f-4cf0-9cab-6c10a2834e9e div.sk-serial {display: flex;flex-direction: column;align-items: center;background-color: white;padding-right: 0.2em;padding-left: 0.2em;}#sk-0a98a449-b24f-4cf0-9cab-6c10a2834e9e div.sk-item {z-index: 1;}#sk-0a98a449-b24f-4cf0-9cab-6c10a2834e9e div.sk-parallel {display: flex;align-items: stretch;justify-content: center;background-color: white;}#sk-0a98a449-b24f-4cf0-9cab-6c10a2834e9e div.sk-parallel::before {content: \"\";position: absolute;border-left: 1px solid gray;box-sizing: border-box;top: 2em;bottom: 0;left: 50%;}#sk-0a98a449-b24f-4cf0-9cab-6c10a2834e9e div.sk-parallel-item {display: flex;flex-direction: column;position: relative;background-color: white;}#sk-0a98a449-b24f-4cf0-9cab-6c10a2834e9e div.sk-parallel-item:first-child::after {align-self: flex-end;width: 50%;}#sk-0a98a449-b24f-4cf0-9cab-6c10a2834e9e div.sk-parallel-item:last-child::after {align-self: flex-start;width: 50%;}#sk-0a98a449-b24f-4cf0-9cab-6c10a2834e9e div.sk-parallel-item:only-child::after {width: 0;}#sk-0a98a449-b24f-4cf0-9cab-6c10a2834e9e div.sk-dashed-wrapped {border: 1px dashed gray;margin: 0 0.4em 0.5em 0.4em;box-sizing: border-box;padding-bottom: 0.4em;background-color: white;position: relative;}#sk-0a98a449-b24f-4cf0-9cab-6c10a2834e9e div.sk-label label {font-family: monospace;font-weight: bold;background-color: white;display: inline-block;line-height: 1.2em;}#sk-0a98a449-b24f-4cf0-9cab-6c10a2834e9e div.sk-label-container {position: relative;z-index: 2;text-align: center;}#sk-0a98a449-b24f-4cf0-9cab-6c10a2834e9e div.sk-container {/* jupyter's `normalize.less` sets `[hidden] { display: none; }` but bootstrap.min.css set `[hidden] { display: none !important; }` so we also need the `!important` here to be able to override the default hidden behavior on the sphinx rendered scikit-learn.org. See: https://github.com/scikit-learn/scikit-learn/issues/21755 */display: inline-block !important;position: relative;}#sk-0a98a449-b24f-4cf0-9cab-6c10a2834e9e div.sk-text-repr-fallback {display: none;}</style><div id=\"sk-0a98a449-b24f-4cf0-9cab-6c10a2834e9e\" class=\"sk-top-container\"><div class=\"sk-text-repr-fallback\"><pre>Pipeline(steps=[(&#x27;columntransformer&#x27;,\n",
              "                 ColumnTransformer(transformers=[(&#x27;numerical_encoder&#x27;,\n",
              "                                                  Pipeline(steps=[(&#x27;knnimputer&#x27;,\n",
              "                                                                   KNNImputer()),\n",
              "                                                                  (&#x27;minmaxscaler&#x27;,\n",
              "                                                                   MinMaxScaler())]),\n",
              "                                                  [&#x27;prcp&#x27;, &#x27;snow&#x27;, &#x27;temp&#x27;,\n",
              "                                                   &#x27;wpgt&#x27;, &#x27;wspd&#x27;]),\n",
              "                                                 (&#x27;ordinal_encoder&#x27;,\n",
              "                                                  Pipeline(steps=[(&#x27;simpleimputer&#x27;,\n",
              "                                                                   SimpleImputer(fill_value=&#x27;missing&#x27;,\n",
              "                                                                                 strategy=&#x27;constant&#x27;)),\n",
              "                                                                  (&#x27;ordinalencoder&#x27;,\n",
              "                                                                   OrdinalEncoder(categories=[[&#x27;good&#x27;,\n",
              "                                                                                               &#x27;medium&#x27;,\n",
              "                                                                                               &#x27;bad&#x27;,\n",
              "                                                                                               &#x27;extreme&#x27;]],\n",
              "                                                                                  handle_unknown=&#x27;use_encoded_value&#x27;,\n",
              "                                                                                  unknown_value=-1)),\n",
              "                                                                  (&#x27;minmaxscaler&#x27;,\n",
              "                                                                   MinMaxScaler())]),\n",
              "                                                  [&#x27;coco&#x27;]),\n",
              "                                                 (&#x27;nominal_encoder&#x27;,\n",
              "                                                  Pipeline(steps=[(&#x27;simpleimputer&#x27;,\n",
              "                                                                   SimpleImputer(strategy=&#x27;most_frequent&#x27;)),\n",
              "                                                                  (&#x27;onehotencoder&#x27;,\n",
              "                                                                   OneHotEncoder(handle_unknown=&#x27;ignore&#x27;))]),\n",
              "                                                  [&#x27;city&#x27;, &#x27;month&#x27;,\n",
              "                                                   &#x27;time_of_day&#x27;,\n",
              "                                                   &#x27;weekday&#x27;])]))])</pre><b>Please rerun this cell to show the HTML repr or trust the notebook.</b></div><div class=\"sk-container\" hidden><div class=\"sk-item sk-dashed-wrapped\"><div class=\"sk-label-container\"><div class=\"sk-label sk-toggleable\"><input class=\"sk-toggleable__control sk-hidden--visually\" id=\"6a96ee67-ccd8-4c10-9c32-a769d03973fa\" type=\"checkbox\" ><label for=\"6a96ee67-ccd8-4c10-9c32-a769d03973fa\" class=\"sk-toggleable__label sk-toggleable__label-arrow\">Pipeline</label><div class=\"sk-toggleable__content\"><pre>Pipeline(steps=[(&#x27;columntransformer&#x27;,\n",
              "                 ColumnTransformer(transformers=[(&#x27;numerical_encoder&#x27;,\n",
              "                                                  Pipeline(steps=[(&#x27;knnimputer&#x27;,\n",
              "                                                                   KNNImputer()),\n",
              "                                                                  (&#x27;minmaxscaler&#x27;,\n",
              "                                                                   MinMaxScaler())]),\n",
              "                                                  [&#x27;prcp&#x27;, &#x27;snow&#x27;, &#x27;temp&#x27;,\n",
              "                                                   &#x27;wpgt&#x27;, &#x27;wspd&#x27;]),\n",
              "                                                 (&#x27;ordinal_encoder&#x27;,\n",
              "                                                  Pipeline(steps=[(&#x27;simpleimputer&#x27;,\n",
              "                                                                   SimpleImputer(fill_value=&#x27;missing&#x27;,\n",
              "                                                                                 strategy=&#x27;constant&#x27;)),\n",
              "                                                                  (&#x27;ordinalencoder&#x27;,\n",
              "                                                                   OrdinalEncoder(categories=[[&#x27;good&#x27;,\n",
              "                                                                                               &#x27;medium&#x27;,\n",
              "                                                                                               &#x27;bad&#x27;,\n",
              "                                                                                               &#x27;extreme&#x27;]],\n",
              "                                                                                  handle_unknown=&#x27;use_encoded_value&#x27;,\n",
              "                                                                                  unknown_value=-1)),\n",
              "                                                                  (&#x27;minmaxscaler&#x27;,\n",
              "                                                                   MinMaxScaler())]),\n",
              "                                                  [&#x27;coco&#x27;]),\n",
              "                                                 (&#x27;nominal_encoder&#x27;,\n",
              "                                                  Pipeline(steps=[(&#x27;simpleimputer&#x27;,\n",
              "                                                                   SimpleImputer(strategy=&#x27;most_frequent&#x27;)),\n",
              "                                                                  (&#x27;onehotencoder&#x27;,\n",
              "                                                                   OneHotEncoder(handle_unknown=&#x27;ignore&#x27;))]),\n",
              "                                                  [&#x27;city&#x27;, &#x27;month&#x27;,\n",
              "                                                   &#x27;time_of_day&#x27;,\n",
              "                                                   &#x27;weekday&#x27;])]))])</pre></div></div></div><div class=\"sk-serial\"><div class=\"sk-item sk-dashed-wrapped\"><div class=\"sk-label-container\"><div class=\"sk-label sk-toggleable\"><input class=\"sk-toggleable__control sk-hidden--visually\" id=\"ad5fa9e6-3174-429f-aab0-9086cfc8ff0e\" type=\"checkbox\" ><label for=\"ad5fa9e6-3174-429f-aab0-9086cfc8ff0e\" class=\"sk-toggleable__label sk-toggleable__label-arrow\">columntransformer: ColumnTransformer</label><div class=\"sk-toggleable__content\"><pre>ColumnTransformer(transformers=[(&#x27;numerical_encoder&#x27;,\n",
              "                                 Pipeline(steps=[(&#x27;knnimputer&#x27;, KNNImputer()),\n",
              "                                                 (&#x27;minmaxscaler&#x27;,\n",
              "                                                  MinMaxScaler())]),\n",
              "                                 [&#x27;prcp&#x27;, &#x27;snow&#x27;, &#x27;temp&#x27;, &#x27;wpgt&#x27;, &#x27;wspd&#x27;]),\n",
              "                                (&#x27;ordinal_encoder&#x27;,\n",
              "                                 Pipeline(steps=[(&#x27;simpleimputer&#x27;,\n",
              "                                                  SimpleImputer(fill_value=&#x27;missing&#x27;,\n",
              "                                                                strategy=&#x27;constant&#x27;)),\n",
              "                                                 (&#x27;ordinalencoder&#x27;,\n",
              "                                                  OrdinalEncoder(categories=[[&#x27;good&#x27;,\n",
              "                                                                              &#x27;medium&#x27;,\n",
              "                                                                              &#x27;bad&#x27;,\n",
              "                                                                              &#x27;extreme&#x27;]],\n",
              "                                                                 handle_unknown=&#x27;use_encoded_value&#x27;,\n",
              "                                                                 unknown_value=-1)),\n",
              "                                                 (&#x27;minmaxscaler&#x27;,\n",
              "                                                  MinMaxScaler())]),\n",
              "                                 [&#x27;coco&#x27;]),\n",
              "                                (&#x27;nominal_encoder&#x27;,\n",
              "                                 Pipeline(steps=[(&#x27;simpleimputer&#x27;,\n",
              "                                                  SimpleImputer(strategy=&#x27;most_frequent&#x27;)),\n",
              "                                                 (&#x27;onehotencoder&#x27;,\n",
              "                                                  OneHotEncoder(handle_unknown=&#x27;ignore&#x27;))]),\n",
              "                                 [&#x27;city&#x27;, &#x27;month&#x27;, &#x27;time_of_day&#x27;, &#x27;weekday&#x27;])])</pre></div></div></div><div class=\"sk-parallel\"><div class=\"sk-parallel-item\"><div class=\"sk-item\"><div class=\"sk-label-container\"><div class=\"sk-label sk-toggleable\"><input class=\"sk-toggleable__control sk-hidden--visually\" id=\"f3fb8341-f94f-489f-bab7-e60ca3f98271\" type=\"checkbox\" ><label for=\"f3fb8341-f94f-489f-bab7-e60ca3f98271\" class=\"sk-toggleable__label sk-toggleable__label-arrow\">numerical_encoder</label><div class=\"sk-toggleable__content\"><pre>[&#x27;prcp&#x27;, &#x27;snow&#x27;, &#x27;temp&#x27;, &#x27;wpgt&#x27;, &#x27;wspd&#x27;]</pre></div></div></div><div class=\"sk-serial\"><div class=\"sk-item\"><div class=\"sk-serial\"><div class=\"sk-item\"><div class=\"sk-estimator sk-toggleable\"><input class=\"sk-toggleable__control sk-hidden--visually\" id=\"50030883-ffb8-4a81-a979-d4ae60c72194\" type=\"checkbox\" ><label for=\"50030883-ffb8-4a81-a979-d4ae60c72194\" class=\"sk-toggleable__label sk-toggleable__label-arrow\">KNNImputer</label><div class=\"sk-toggleable__content\"><pre>KNNImputer()</pre></div></div></div><div class=\"sk-item\"><div class=\"sk-estimator sk-toggleable\"><input class=\"sk-toggleable__control sk-hidden--visually\" id=\"8c3a68df-4764-4f3b-a164-a42f9c3e25d0\" type=\"checkbox\" ><label for=\"8c3a68df-4764-4f3b-a164-a42f9c3e25d0\" class=\"sk-toggleable__label sk-toggleable__label-arrow\">MinMaxScaler</label><div class=\"sk-toggleable__content\"><pre>MinMaxScaler()</pre></div></div></div></div></div></div></div></div><div class=\"sk-parallel-item\"><div class=\"sk-item\"><div class=\"sk-label-container\"><div class=\"sk-label sk-toggleable\"><input class=\"sk-toggleable__control sk-hidden--visually\" id=\"a9b70bbf-5176-4c29-a5fe-e9f5496b222d\" type=\"checkbox\" ><label for=\"a9b70bbf-5176-4c29-a5fe-e9f5496b222d\" class=\"sk-toggleable__label sk-toggleable__label-arrow\">ordinal_encoder</label><div class=\"sk-toggleable__content\"><pre>[&#x27;coco&#x27;]</pre></div></div></div><div class=\"sk-serial\"><div class=\"sk-item\"><div class=\"sk-serial\"><div class=\"sk-item\"><div class=\"sk-estimator sk-toggleable\"><input class=\"sk-toggleable__control sk-hidden--visually\" id=\"864f3b02-b808-4d3b-a6aa-a46459e64e79\" type=\"checkbox\" ><label for=\"864f3b02-b808-4d3b-a6aa-a46459e64e79\" class=\"sk-toggleable__label sk-toggleable__label-arrow\">SimpleImputer</label><div class=\"sk-toggleable__content\"><pre>SimpleImputer(fill_value=&#x27;missing&#x27;, strategy=&#x27;constant&#x27;)</pre></div></div></div><div class=\"sk-item\"><div class=\"sk-estimator sk-toggleable\"><input class=\"sk-toggleable__control sk-hidden--visually\" id=\"898c236c-8000-4e89-8a55-b8f29d7b740c\" type=\"checkbox\" ><label for=\"898c236c-8000-4e89-8a55-b8f29d7b740c\" class=\"sk-toggleable__label sk-toggleable__label-arrow\">OrdinalEncoder</label><div class=\"sk-toggleable__content\"><pre>OrdinalEncoder(categories=[[&#x27;good&#x27;, &#x27;medium&#x27;, &#x27;bad&#x27;, &#x27;extreme&#x27;]],\n",
              "               handle_unknown=&#x27;use_encoded_value&#x27;, unknown_value=-1)</pre></div></div></div><div class=\"sk-item\"><div class=\"sk-estimator sk-toggleable\"><input class=\"sk-toggleable__control sk-hidden--visually\" id=\"4de70d33-0b07-40a8-b2ad-1161a4af1f5b\" type=\"checkbox\" ><label for=\"4de70d33-0b07-40a8-b2ad-1161a4af1f5b\" class=\"sk-toggleable__label sk-toggleable__label-arrow\">MinMaxScaler</label><div class=\"sk-toggleable__content\"><pre>MinMaxScaler()</pre></div></div></div></div></div></div></div></div><div class=\"sk-parallel-item\"><div class=\"sk-item\"><div class=\"sk-label-container\"><div class=\"sk-label sk-toggleable\"><input class=\"sk-toggleable__control sk-hidden--visually\" id=\"42e27197-10aa-4d64-97f6-289d25cb3b32\" type=\"checkbox\" ><label for=\"42e27197-10aa-4d64-97f6-289d25cb3b32\" class=\"sk-toggleable__label sk-toggleable__label-arrow\">nominal_encoder</label><div class=\"sk-toggleable__content\"><pre>[&#x27;city&#x27;, &#x27;month&#x27;, &#x27;time_of_day&#x27;, &#x27;weekday&#x27;]</pre></div></div></div><div class=\"sk-serial\"><div class=\"sk-item\"><div class=\"sk-serial\"><div class=\"sk-item\"><div class=\"sk-estimator sk-toggleable\"><input class=\"sk-toggleable__control sk-hidden--visually\" id=\"4aad8d8a-773d-4e76-a515-4278639b6fbe\" type=\"checkbox\" ><label for=\"4aad8d8a-773d-4e76-a515-4278639b6fbe\" class=\"sk-toggleable__label sk-toggleable__label-arrow\">SimpleImputer</label><div class=\"sk-toggleable__content\"><pre>SimpleImputer(strategy=&#x27;most_frequent&#x27;)</pre></div></div></div><div class=\"sk-item\"><div class=\"sk-estimator sk-toggleable\"><input class=\"sk-toggleable__control sk-hidden--visually\" id=\"4a72a559-3d80-4b46-97b7-63e8fad13cae\" type=\"checkbox\" ><label for=\"4a72a559-3d80-4b46-97b7-63e8fad13cae\" class=\"sk-toggleable__label sk-toggleable__label-arrow\">OneHotEncoder</label><div class=\"sk-toggleable__content\"><pre>OneHotEncoder(handle_unknown=&#x27;ignore&#x27;)</pre></div></div></div></div></div></div></div></div></div></div></div></div></div></div>"
            ]
          },
          "metadata": {},
          "execution_count": 59
        }
      ],
      "source": [
        "# Fit the preprocessor on the train set\n",
        "preproc.fit(X_train, y_train)\n"
      ]
    },
    {
      "cell_type": "code",
      "execution_count": 60,
      "metadata": {
        "id": "_ATjBaPhzyrO"
      },
      "outputs": [],
      "source": [
        "# Create the preprocessed versions of X_train and X_val\n",
        "X_train_preproc = preproc.transform(X_train)\n",
        "X_val_preproc = preproc.transform(X_val)\n",
        "\n",
        "# Let's also already create the preprocessed version of X_test for our future predictions\n",
        "X_test_preproc = preproc.transform(X_test)"
      ]
    },
    {
      "cell_type": "code",
      "execution_count": 61,
      "metadata": {
        "colab": {
          "base_uri": "https://localhost:8080/"
        },
        "id": "vnRYthJuzyrP",
        "outputId": "83ef9242-1d01-4e4f-f3f4-2b8e3027238b"
      },
      "outputs": [
        {
          "output_type": "execute_result",
          "data": {
            "text/plain": [
              "((30059, 10), (6012, 10))"
            ]
          },
          "metadata": {},
          "execution_count": 61
        }
      ],
      "source": [
        "# Shapes before preprocessing\n",
        "X_train.shape, X_val.shape #X_test.shape"
      ]
    },
    {
      "cell_type": "code",
      "execution_count": 62,
      "metadata": {
        "colab": {
          "base_uri": "https://localhost:8080/"
        },
        "id": "6DMkOq1CzyrS",
        "outputId": "4919db95-136c-44b8-90a2-ebcb5279bfdf"
      },
      "outputs": [
        {
          "output_type": "execute_result",
          "data": {
            "text/plain": [
              "((30059, 31), (6012, 31))"
            ]
          },
          "metadata": {},
          "execution_count": 62
        }
      ],
      "source": [
        "# Shapes after preprocessing\n",
        "X_train_preproc.shape, X_val_preproc.shape #,X_test_preproc.shape"
      ]
    },
    {
      "cell_type": "markdown",
      "metadata": {
        "tags": [],
        "id": "dcz3UEJAzyrV"
      },
      "source": [
        "# Logistic regression"
      ]
    },
    {
      "cell_type": "code",
      "source": [
        "pd.DataFrame(y_test)#.dtypes\n"
      ],
      "metadata": {
        "colab": {
          "base_uri": "https://localhost:8080/",
          "height": 424
        },
        "id": "MyeYBBK0VZTU",
        "outputId": "c074c342-37bb-42b6-b2d7-7db660eb9d87"
      },
      "execution_count": 63,
      "outputs": [
        {
          "output_type": "execute_result",
          "data": {
            "text/plain": [
              "       target\n",
              "5140        0\n",
              "4957        0\n",
              "36795       1\n",
              "27910       0\n",
              "10334       1\n",
              "...       ...\n",
              "20706       0\n",
              "39074       0\n",
              "12856       1\n",
              "22272       1\n",
              "10498       1\n",
              "\n",
              "[4008 rows x 1 columns]"
            ],
            "text/html": [
              "\n",
              "  <div id=\"df-89f9f00a-9351-4b4b-bd11-e47947dbfd46\">\n",
              "    <div class=\"colab-df-container\">\n",
              "      <div>\n",
              "<style scoped>\n",
              "    .dataframe tbody tr th:only-of-type {\n",
              "        vertical-align: middle;\n",
              "    }\n",
              "\n",
              "    .dataframe tbody tr th {\n",
              "        vertical-align: top;\n",
              "    }\n",
              "\n",
              "    .dataframe thead th {\n",
              "        text-align: right;\n",
              "    }\n",
              "</style>\n",
              "<table border=\"1\" class=\"dataframe\">\n",
              "  <thead>\n",
              "    <tr style=\"text-align: right;\">\n",
              "      <th></th>\n",
              "      <th>target</th>\n",
              "    </tr>\n",
              "  </thead>\n",
              "  <tbody>\n",
              "    <tr>\n",
              "      <th>5140</th>\n",
              "      <td>0</td>\n",
              "    </tr>\n",
              "    <tr>\n",
              "      <th>4957</th>\n",
              "      <td>0</td>\n",
              "    </tr>\n",
              "    <tr>\n",
              "      <th>36795</th>\n",
              "      <td>1</td>\n",
              "    </tr>\n",
              "    <tr>\n",
              "      <th>27910</th>\n",
              "      <td>0</td>\n",
              "    </tr>\n",
              "    <tr>\n",
              "      <th>10334</th>\n",
              "      <td>1</td>\n",
              "    </tr>\n",
              "    <tr>\n",
              "      <th>...</th>\n",
              "      <td>...</td>\n",
              "    </tr>\n",
              "    <tr>\n",
              "      <th>20706</th>\n",
              "      <td>0</td>\n",
              "    </tr>\n",
              "    <tr>\n",
              "      <th>39074</th>\n",
              "      <td>0</td>\n",
              "    </tr>\n",
              "    <tr>\n",
              "      <th>12856</th>\n",
              "      <td>1</td>\n",
              "    </tr>\n",
              "    <tr>\n",
              "      <th>22272</th>\n",
              "      <td>1</td>\n",
              "    </tr>\n",
              "    <tr>\n",
              "      <th>10498</th>\n",
              "      <td>1</td>\n",
              "    </tr>\n",
              "  </tbody>\n",
              "</table>\n",
              "<p>4008 rows × 1 columns</p>\n",
              "</div>\n",
              "      <button class=\"colab-df-convert\" onclick=\"convertToInteractive('df-89f9f00a-9351-4b4b-bd11-e47947dbfd46')\"\n",
              "              title=\"Convert this dataframe to an interactive table.\"\n",
              "              style=\"display:none;\">\n",
              "        \n",
              "  <svg xmlns=\"http://www.w3.org/2000/svg\" height=\"24px\"viewBox=\"0 0 24 24\"\n",
              "       width=\"24px\">\n",
              "    <path d=\"M0 0h24v24H0V0z\" fill=\"none\"/>\n",
              "    <path d=\"M18.56 5.44l.94 2.06.94-2.06 2.06-.94-2.06-.94-.94-2.06-.94 2.06-2.06.94zm-11 1L8.5 8.5l.94-2.06 2.06-.94-2.06-.94L8.5 2.5l-.94 2.06-2.06.94zm10 10l.94 2.06.94-2.06 2.06-.94-2.06-.94-.94-2.06-.94 2.06-2.06.94z\"/><path d=\"M17.41 7.96l-1.37-1.37c-.4-.4-.92-.59-1.43-.59-.52 0-1.04.2-1.43.59L10.3 9.45l-7.72 7.72c-.78.78-.78 2.05 0 2.83L4 21.41c.39.39.9.59 1.41.59.51 0 1.02-.2 1.41-.59l7.78-7.78 2.81-2.81c.8-.78.8-2.07 0-2.86zM5.41 20L4 18.59l7.72-7.72 1.47 1.35L5.41 20z\"/>\n",
              "  </svg>\n",
              "      </button>\n",
              "      \n",
              "  <style>\n",
              "    .colab-df-container {\n",
              "      display:flex;\n",
              "      flex-wrap:wrap;\n",
              "      gap: 12px;\n",
              "    }\n",
              "\n",
              "    .colab-df-convert {\n",
              "      background-color: #E8F0FE;\n",
              "      border: none;\n",
              "      border-radius: 50%;\n",
              "      cursor: pointer;\n",
              "      display: none;\n",
              "      fill: #1967D2;\n",
              "      height: 32px;\n",
              "      padding: 0 0 0 0;\n",
              "      width: 32px;\n",
              "    }\n",
              "\n",
              "    .colab-df-convert:hover {\n",
              "      background-color: #E2EBFA;\n",
              "      box-shadow: 0px 1px 2px rgba(60, 64, 67, 0.3), 0px 1px 3px 1px rgba(60, 64, 67, 0.15);\n",
              "      fill: #174EA6;\n",
              "    }\n",
              "\n",
              "    [theme=dark] .colab-df-convert {\n",
              "      background-color: #3B4455;\n",
              "      fill: #D2E3FC;\n",
              "    }\n",
              "\n",
              "    [theme=dark] .colab-df-convert:hover {\n",
              "      background-color: #434B5C;\n",
              "      box-shadow: 0px 1px 3px 1px rgba(0, 0, 0, 0.15);\n",
              "      filter: drop-shadow(0px 1px 2px rgba(0, 0, 0, 0.3));\n",
              "      fill: #FFFFFF;\n",
              "    }\n",
              "  </style>\n",
              "\n",
              "      <script>\n",
              "        const buttonEl =\n",
              "          document.querySelector('#df-89f9f00a-9351-4b4b-bd11-e47947dbfd46 button.colab-df-convert');\n",
              "        buttonEl.style.display =\n",
              "          google.colab.kernel.accessAllowed ? 'block' : 'none';\n",
              "\n",
              "        async function convertToInteractive(key) {\n",
              "          const element = document.querySelector('#df-89f9f00a-9351-4b4b-bd11-e47947dbfd46');\n",
              "          const dataTable =\n",
              "            await google.colab.kernel.invokeFunction('convertToInteractive',\n",
              "                                                     [key], {});\n",
              "          if (!dataTable) return;\n",
              "\n",
              "          const docLinkHtml = 'Like what you see? Visit the ' +\n",
              "            '<a target=\"_blank\" href=https://colab.research.google.com/notebooks/data_table.ipynb>data table notebook</a>'\n",
              "            + ' to learn more about interactive tables.';\n",
              "          element.innerHTML = '';\n",
              "          dataTable['output_type'] = 'display_data';\n",
              "          await google.colab.output.renderOutput(dataTable, element);\n",
              "          const docLink = document.createElement('div');\n",
              "          docLink.innerHTML = docLinkHtml;\n",
              "          element.appendChild(docLink);\n",
              "        }\n",
              "      </script>\n",
              "    </div>\n",
              "  </div>\n",
              "  "
            ]
          },
          "metadata": {},
          "execution_count": 63
        }
      ]
    },
    {
      "cell_type": "code",
      "execution_count": 64,
      "metadata": {
        "id": "rEmHgh-Hzyra"
      },
      "outputs": [],
      "source": [
        "import sklearn\n",
        "from sklearn.linear_model import LogisticRegression\n",
        "from sklearn.model_selection import cross_validate\n",
        "\n",
        "log_reg = LogisticRegression(max_iter=10000) \n",
        "\n",
        "cv_results = cross_validate(log_reg, X_train_preproc, y_train, cv=5, \n",
        "                            scoring=['max_error',\n",
        "                                     'r2', \n",
        "                                     'neg_mean_absolute_error',\n",
        "                                     'neg_mean_squared_error']\n",
        "                           )\n",
        "\n",
        "log_reg.fit(X_test_preproc,y_test)\n",
        "cv_results = pd.DataFrame(cv_results)\n",
        "r2 = cv_results['test_r2'].mean()\n",
        "max_error = cv_results['test_max_error'].max()"
      ]
    },
    {
      "cell_type": "code",
      "source": [
        "r2"
      ],
      "metadata": {
        "colab": {
          "base_uri": "https://localhost:8080/"
        },
        "id": "Ej5q5HFFWe7V",
        "outputId": "5cc8d1cc-cc75-42b5-eb71-5198fa8e980a"
      },
      "execution_count": 84,
      "outputs": [
        {
          "output_type": "execute_result",
          "data": {
            "text/plain": [
              "-0.5406702234981353"
            ]
          },
          "metadata": {},
          "execution_count": 84
        }
      ]
    },
    {
      "cell_type": "markdown",
      "metadata": {
        "id": "gLqT-Hxbzyre"
      },
      "source": [
        "# KNN Classifier"
      ]
    },
    {
      "cell_type": "code",
      "execution_count": 77,
      "metadata": {
        "colab": {
          "base_uri": "https://localhost:8080/",
          "height": 335
        },
        "id": "BjmtaM3bzyrg",
        "outputId": "5ff6e88a-b5db-4958-84fa-5c3bc65f79d7"
      },
      "outputs": [
        {
          "output_type": "stream",
          "name": "stderr",
          "text": [
            "/usr/local/lib/python3.7/dist-packages/sklearn/utils/deprecation.py:87: FutureWarning: Function plot_confusion_matrix is deprecated; Function `plot_confusion_matrix` is deprecated in 1.0 and will be removed in 1.2. Use one of the class methods: ConfusionMatrixDisplay.from_predictions or ConfusionMatrixDisplay.from_estimator.\n",
            "  warnings.warn(msg, category=FutureWarning)\n"
          ]
        },
        {
          "output_type": "display_data",
          "data": {
            "text/plain": [
              "<Figure size 432x288 with 2 Axes>"
            ],
            "image/png": "[encoded data removed]"
          },
          "metadata": {
            "needs_background": "light"
          }
        }
      ],
      "source": [
        "from sklearn.neighbors import KNeighborsClassifier\n",
        "from sklearn.model_selection import cross_validate\n",
        "from sklearn.model_selection import train_test_split\n",
        "from sklearn.datasets import make_classification\n",
        "from sklearn.metrics import plot_confusion_matrix\n",
        "from sklearn.model_selection import cross_val_predict\n",
        "\n",
        "neigh = KNeighborsClassifier(n_neighbors=50)\n",
        "neigh.fit(X_train_preproc,y_train)\n",
        "#y_pred = cross_val_predict(model,X_val_preproc,y_val,cv=5,method='predict').T\n",
        "y_pred = neigh.predict(X_test_preproc)\n",
        "\n",
        "plot_confusion_matrix(neigh,X_test_preproc,y_test,normalize='all') \n",
        "plt.show()\n"
      ]
    },
    {
      "cell_type": "code",
      "source": [
        "from sklearn.metrics import accuracy_score\n",
        "from sklearn.metrics import precision_score\n",
        "from sklearn.metrics import recall_score\n",
        "from sklearn.metrics import f1_score\n",
        "\n",
        "y_true = y_test\n",
        "accuracy = round(accuracy_score(y_true, y_pred), 2)\n",
        "precision = round(precision_score(y_true, y_pred), 2)\n",
        "recall = round(recall_score(y_true, y_pred), 2)\n",
        "f1_score = round(f1_score(y_true, y_pred), 2)\n",
        "\n",
        "print(accuracy)\n",
        "print(precision)\n",
        "print(recall)\n",
        "print(f1_score)"
      ],
      "metadata": {
        "id": "0DxhBq9w2aBY",
        "colab": {
          "base_uri": "https://localhost:8080/"
        },
        "outputId": "0c270e44-41e1-4630-c2bd-e696b97f20f3"
      },
      "execution_count": 78,
      "outputs": [
        {
          "output_type": "stream",
          "name": "stdout",
          "text": [
            "0.66\n",
            "0.47\n",
            "0.07\n",
            "0.13\n"
          ]
        }
      ]
    },
    {
      "cell_type": "markdown",
      "metadata": {
        "id": "3mkz5Ub0zyri"
      },
      "source": [
        "# CNN Classifier"
      ]
    },
    {
      "cell_type": "code",
      "execution_count": 85,
      "metadata": {
        "id": "NBq5HtDnzyrj"
      },
      "outputs": [],
      "source": [
        "from tensorflow.keras import Sequential, layers\n",
        "\n",
        "def initialize_model(X):\n",
        "\n",
        "    #################################\n",
        "    #  1 - Model architecture       #\n",
        "    #################################\n",
        "    \n",
        "    model = Sequential()\n",
        "    \n",
        "    # Input Layer\n",
        "    model.add(layers.Dense(50, activation='relu', input_dim = X.shape[-1]))\n",
        "    \n",
        "    # Hidden Layers\n",
        "    model.add(layers.Dense(15, activation='relu'))\n",
        "    model.add(layers.Dense(15, activation='relu'))\n",
        "    model.add(layers.Dense(20, activation='relu'))\n",
        "    \n",
        "    # Predictive Layer\n",
        "    model.add(layers.Dense(1, activation='softmax')) \n",
        "    \n",
        "    # Compiler   \n",
        "   \n",
        "    model.compile(loss='categorical_crossentropy',\n",
        "              optimizer='adam',\n",
        "              metrics=['accuracy'])  \n",
        "    \n",
        "    return model"
      ]
    },
    {
      "cell_type": "code",
      "execution_count": null,
      "metadata": {
        "colab": {
          "base_uri": "https://localhost:8080/"
        },
        "id": "l4RRZ7llzyrl",
        "outputId": "bb00b20b-db0a-4e14-f7c4-094fbb7a7a41"
      },
      "outputs": [
        {
          "output_type": "stream",
          "name": "stdout",
          "text": [
            "Model: \"sequential_2\"\n",
            "_________________________________________________________________\n",
            " Layer (type)                Output Shape              Param #   \n",
            "=================================================================\n",
            " dense_10 (Dense)            (None, 50)                1600      \n",
            "                                                                 \n",
            " dense_11 (Dense)            (None, 15)                765       \n",
            "                                                                 \n",
            " dense_12 (Dense)            (None, 15)                240       \n",
            "                                                                 \n",
            " dense_13 (Dense)            (None, 20)                320       \n",
            "                                                                 \n",
            " dense_14 (Dense)            (None, 1)                 21        \n",
            "                                                                 \n",
            "=================================================================\n",
            "Total params: 2,946\n",
            "Trainable params: 2,946\n",
            "Non-trainable params: 0\n",
            "_________________________________________________________________\n",
            "Epoch 1/50\n"
          ]
        },
        {
          "output_type": "stream",
          "name": "stderr",
          "text": [
            "/usr/local/lib/python3.7/dist-packages/tensorflow/python/data/ops/structured_function.py:265: UserWarning: Even though the `tf.config.experimental_run_functions_eagerly` option is set, this option does not apply to tf.data functions. To force eager execution of tf.data functions, please use `tf.data.experimental.enable_debug_mode()`.\n",
            "  \"Even though the `tf.config.experimental_run_functions_eagerly` \"\n"
          ]
        },
        {
          "output_type": "stream",
          "name": "stdout",
          "text": [
            "1879/1879 [==============================] - ETA: 0s - loss: 0.0000e+00 - accuracy: 0.3490"
          ]
        }
      ],
      "source": [
        "import tensorflow as tf\n",
        "from tensorflow.keras.callbacks import EarlyStopping\n",
        "tf.config.run_functions_eagerly(True)\n",
        "\n",
        "es = EarlyStopping(patience=3, restore_best_weights=True)\n",
        "\n",
        "# 1. Initializing a NeuralNet with its architecture and its compilation method\n",
        "model = initialize_model(X_train_preproc)\n",
        "model.summary()\n",
        "\n",
        "# 2. Training the model\n",
        "epochs = 50\n",
        "batch_size = 16\n",
        "\n",
        "history = model.fit(X_train_preproc, \n",
        "                    y_train,\n",
        "                    validation_data = (X_val_preproc, y_val),\n",
        "                    epochs = epochs,        \n",
        "                    batch_size = batch_size, \n",
        "                    callbacks=[es],\n",
        "                    verbose = 1)\n",
        "\n",
        "# 3. Evaluating the model\n",
        "res = model.evaluate(X_val_preproc, y_val, verbose = 0)\n",
        "print(f\"RMLSE achieved after {epochs} epochs = {round(res**0.5,3)}\")\n",
        "\n",
        "# 4. Looking at the lowest loss\n",
        "minimium_rmlse_val = min(history.history['val_loss'])**0.5\n",
        "optimal_momentum = np.argmin(history.history['val_loss'])\n",
        "\n",
        "print(f\"Lowest RMLSE achieved = {round(minimium_rmlse_val,3)}\")\n",
        "print(f\"This was achieved at the epoch number {optimal_momentum}\") "
      ]
    },
    {
      "cell_type": "markdown",
      "metadata": {
        "id": "Dcp4x9VWzyrm"
      },
      "source": [
        ""
      ]
    },
    {
      "cell_type": "code",
      "execution_count": null,
      "metadata": {
        "id": "SPNFh15Zzyrn"
      },
      "outputs": [],
      "source": [
        "def plot_history(history):\n",
        "    plt.plot(np.sqrt(history.history['loss']))\n",
        "    plt.plot(np.sqrt(history.history['val_loss']))\n",
        "    plt.title('Model Loss')\n",
        "    plt.ylabel('RMSLE')\n",
        "    plt.xlabel('Epoch')\n",
        "    plt.legend(['Train', 'Val'], loc='best')\n",
        "    plt.show()"
      ]
    },
    {
      "cell_type": "code",
      "execution_count": null,
      "metadata": {
        "colab": {
          "base_uri": "https://localhost:8080/",
          "height": 295
        },
        "id": "GYsRHnRezyrw",
        "outputId": "469c0c54-fae8-4d10-b557-e917368b46f1"
      },
      "outputs": [
        {
          "output_type": "display_data",
          "data": {
            "text/plain": [
              "<Figure size 432x288 with 1 Axes>"
            ],
            "image/png": "[encoded data removed]"
          },
          "metadata": {
            "needs_background": "light"
          }
        }
      ],
      "source": [
        "plot_history(history)"
      ]
    },
    {
      "cell_type": "markdown",
      "metadata": {
        "id": "J4uYHz1pzyr6"
      },
      "source": [
        "# PREDICTION"
      ]
    },
    {
      "cell_type": "code",
      "execution_count": null,
      "metadata": {
        "id": "MYUKkkIYzyr8"
      },
      "outputs": [],
      "source": [
        "X_test_preproc = preproc.transform(X_test)\n",
        "predictions = model.predict(X_test_preproc)"
      ]
    },
    {
      "cell_type": "code",
      "execution_count": null,
      "metadata": {
        "id": "En_mCAUkzyr9",
        "outputId": "258e9fe7-3939-47a9-fbf7-30d232d5b9bb"
      },
      "outputs": [
        {
          "data": {
            "text/plain": [
              "<AxesSubplot:xlabel='target_numeric', ylabel='Count'>"
            ]
          },
          "execution_count": 67,
          "metadata": {},
          "output_type": "execute_result"
        },
        {
          "data": {
            "image/png": "[encoded data removed]",
            "text/plain": [
              "<Figure size 432x288 with 1 Axes>"
            ]
          },
          "metadata": {
            "needs_background": "light"
          },
          "output_type": "display_data"
        }
      ],
      "source": [
        "sns.histplot(y_train)"
      ]
    },
    {
      "cell_type": "code",
      "execution_count": null,
      "metadata": {
        "id": "CCDWtwsOzysB",
        "outputId": "908bf811-0a5d-4380-ba3c-3312ee7716b5"
      },
      "outputs": [
        {
          "data": {
            "text/plain": [
              "<AxesSubplot:ylabel='Count'>"
            ]
          },
          "execution_count": 86,
          "metadata": {},
          "output_type": "execute_result"
        },
        {
          "data": {
            "image/png": "[encoded data removed]",
            "text/plain": [
              "<Figure size 432x288 with 1 Axes>"
            ]
          },
          "metadata": {
            "needs_background": "light"
          },
          "output_type": "display_data"
        }
      ],
      "source": [
        "sns.histplot(predictions)"
      ]
    },
    {
      "cell_type": "code",
      "execution_count": null,
      "metadata": {
        "id": "2UMB9UUFzysH",
        "outputId": "f36bf9d2-018f-439d-fd6b-b990b3050d97"
      },
      "outputs": [
        {
          "data": {
            "text/html": [
              "<div>\n",
              "<style scoped>\n",
              "    .dataframe tbody tr th:only-of-type {\n",
              "        vertical-align: middle;\n",
              "    }\n",
              "\n",
              "    .dataframe tbody tr th {\n",
              "        vertical-align: top;\n",
              "    }\n",
              "\n",
              "    .dataframe thead th {\n",
              "        text-align: right;\n",
              "    }\n",
              "</style>\n",
              "<table border=\"1\" class=\"dataframe\">\n",
              "  <thead>\n",
              "    <tr style=\"text-align: right;\">\n",
              "      <th></th>\n",
              "      <th>index</th>\n",
              "      <th>0</th>\n",
              "    </tr>\n",
              "  </thead>\n",
              "  <tbody>\n",
              "    <tr>\n",
              "      <th>0</th>\n",
              "      <td>0</td>\n",
              "      <td>3.751115</td>\n",
              "    </tr>\n",
              "    <tr>\n",
              "      <th>1</th>\n",
              "      <td>9</td>\n",
              "      <td>2.680005</td>\n",
              "    </tr>\n",
              "    <tr>\n",
              "      <th>2</th>\n",
              "      <td>5</td>\n",
              "      <td>2.469314</td>\n",
              "    </tr>\n",
              "    <tr>\n",
              "      <th>3</th>\n",
              "      <td>0</td>\n",
              "      <td>4.324683</td>\n",
              "    </tr>\n",
              "    <tr>\n",
              "      <th>4</th>\n",
              "      <td>2</td>\n",
              "      <td>2.083466</td>\n",
              "    </tr>\n",
              "    <tr>\n",
              "      <th>...</th>\n",
              "      <td>...</td>\n",
              "      <td>...</td>\n",
              "    </tr>\n",
              "    <tr>\n",
              "      <th>4003</th>\n",
              "      <td>1</td>\n",
              "      <td>1.619326</td>\n",
              "    </tr>\n",
              "    <tr>\n",
              "      <th>4004</th>\n",
              "      <td>9</td>\n",
              "      <td>2.520641</td>\n",
              "    </tr>\n",
              "    <tr>\n",
              "      <th>4005</th>\n",
              "      <td>0</td>\n",
              "      <td>2.439794</td>\n",
              "    </tr>\n",
              "    <tr>\n",
              "      <th>4006</th>\n",
              "      <td>1</td>\n",
              "      <td>3.190709</td>\n",
              "    </tr>\n",
              "    <tr>\n",
              "      <th>4007</th>\n",
              "      <td>5</td>\n",
              "      <td>1.638192</td>\n",
              "    </tr>\n",
              "  </tbody>\n",
              "</table>\n",
              "<p>4008 rows × 2 columns</p>\n",
              "</div>"
            ],
            "text/plain": [
              "      index         0\n",
              "0         0  3.751115\n",
              "1         9  2.680005\n",
              "2         5  2.469314\n",
              "3         0  4.324683\n",
              "4         2  2.083466\n",
              "...     ...       ...\n",
              "4003      1  1.619326\n",
              "4004      9  2.520641\n",
              "4005      0  2.439794\n",
              "4006      1  3.190709\n",
              "4007      5  1.638192\n",
              "\n",
              "[4008 rows x 2 columns]"
            ]
          },
          "execution_count": 64,
          "metadata": {},
          "output_type": "execute_result"
        }
      ],
      "source": [
        "#calculate error of test (unfinished)\n",
        "pd.DataFrame(predictions, np.array(y_test)).reset_index()"
      ]
    }
  ],
  "metadata": {
    "interpreter": {
      "hash": "1fec01d925059a361c1e9f9aa6fb98d44a04ad369f384098a87eb49d1ad96cd7"
    },
    "kernelspec": {
      "display_name": "Python 3 (ipykernel)",
      "language": "python",
      "name": "python3"
    },
    "language_info": {
      "codemirror_mode": {
        "name": "ipython",
        "version": 3
      },
      "file_extension": ".py",
      "mimetype": "text/x-python",
      "name": "python",
      "nbconvert_exporter": "python",
      "pygments_lexer": "ipython3",
      "version": "3.8.12"
    },
    "colab": {
      "name": "Models_Classification.ipynb",
      "provenance": [],
      "collapsed_sections": []
    },
    "accelerator": "GPU"
  },
  "nbformat": 4,
  "nbformat_minor": 0
}