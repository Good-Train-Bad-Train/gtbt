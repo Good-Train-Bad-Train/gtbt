{
 "cells": [
  {
   "cell_type": "code",
   "execution_count": 23,
   "metadata": {
    "colab": {
     "base_uri": "https://localhost:8080/"
    },
    "id": "ac9QBoLIQv6n",
    "outputId": "46efba74-8543-41ac-e809-b2383255ff65"
   },
   "outputs": [
    {
     "name": "stdout",
     "output_type": "stream",
     "text": [
      "The autoreload extension is already loaded. To reload it, use:\n",
      "  %reload_ext autoreload\n"
     ]
    }
   ],
   "source": [
    "%load_ext autoreload\n",
    "%autoreload 2\n",
    "\n",
    "# DATA MANIPULATION\n",
    "import pandas as pd\n",
    "pd.set_option('display.max_columns', None)\n",
    "import numpy as np\n",
    "\n",
    "# DATA VISUALISATION\n",
    "import matplotlib.pyplot as plt\n",
    "import seaborn as sns\n",
    "\n",
    "# VIEWING OPTIONS IN THE NOTEBOOK\n",
    "from sklearn import set_config\n",
    "#set_config(display='diagram')"
   ]
  },
  {
   "cell_type": "code",
   "execution_count": 24,
   "metadata": {
    "id": "4jEd5GPwQv61"
   },
   "outputs": [],
   "source": [
    "data = pd.read_csv('../data/data_for_model_legs.csv')\n",
    "data['snow'] = data['snow'].replace(np.nan, 0)\n",
    "\n",
    "data.head()\n",
    "X = data[['trip', 'temp', 'prcp', 'wspd', 'wpgt', 'snow', 'coco', 'weekday', 'month', 'time_of_day']]\n",
    "y = data['target_numeric']  "
   ]
  },
  {
   "cell_type": "code",
   "execution_count": 25,
   "metadata": {
    "id": "AlH3F200Qv63"
   },
   "outputs": [],
   "source": [
    "from sklearn.model_selection import train_test_split\n",
    "X_train, X_val, y_train, y_val = train_test_split(X, y, test_size = 0.2)\n",
    "\n",
    "train_ratio = 0.75\n",
    "validation_ratio = 0.15\n",
    "test_ratio = 0.10\n",
    "\n",
    "# train is now 75% of the entire data set\n",
    "# the _junk suffix means that we drop that variable completely\n",
    "X_train, X_test, y_train, y_test = train_test_split(X, y, test_size=1 - train_ratio)\n",
    "\n",
    "# test is now 10% of the initial data set\n",
    "# validation is now 15% of the initial data set\n",
    "X_val, X_test, y_val, y_test = train_test_split(X_test, y_test, test_size=test_ratio/(test_ratio + validation_ratio)) \n"
   ]
  },
  {
   "cell_type": "code",
   "execution_count": 26,
   "metadata": {},
   "outputs": [
    {
     "data": {
      "text/html": [
       "<div>\n",
       "<style scoped>\n",
       "    .dataframe tbody tr th:only-of-type {\n",
       "        vertical-align: middle;\n",
       "    }\n",
       "\n",
       "    .dataframe tbody tr th {\n",
       "        vertical-align: top;\n",
       "    }\n",
       "\n",
       "    .dataframe thead th {\n",
       "        text-align: right;\n",
       "    }\n",
       "</style>\n",
       "<table border=\"1\" class=\"dataframe\">\n",
       "  <thead>\n",
       "    <tr style=\"text-align: right;\">\n",
       "      <th></th>\n",
       "      <th>trip</th>\n",
       "      <th>temp</th>\n",
       "      <th>prcp</th>\n",
       "      <th>wspd</th>\n",
       "      <th>wpgt</th>\n",
       "      <th>snow</th>\n",
       "      <th>coco</th>\n",
       "      <th>weekday</th>\n",
       "      <th>month</th>\n",
       "      <th>time_of_day</th>\n",
       "    </tr>\n",
       "  </thead>\n",
       "  <tbody>\n",
       "    <tr>\n",
       "      <th>82682</th>\n",
       "      <td>Mannheim-Frankfurt</td>\n",
       "      <td>28.3</td>\n",
       "      <td>0.0</td>\n",
       "      <td>13.0</td>\n",
       "      <td>27.8</td>\n",
       "      <td>0.0</td>\n",
       "      <td>good</td>\n",
       "      <td>Sunday</td>\n",
       "      <td>July</td>\n",
       "      <td>afternoon</td>\n",
       "    </tr>\n",
       "    <tr>\n",
       "      <th>13870</th>\n",
       "      <td>Mannheim-Köln</td>\n",
       "      <td>3.0</td>\n",
       "      <td>0.0</td>\n",
       "      <td>10.4</td>\n",
       "      <td>18.0</td>\n",
       "      <td>0.0</td>\n",
       "      <td>good</td>\n",
       "      <td>Saturday</td>\n",
       "      <td>April</td>\n",
       "      <td>evening</td>\n",
       "    </tr>\n",
       "    <tr>\n",
       "      <th>1939</th>\n",
       "      <td>Frankfurt-Köln</td>\n",
       "      <td>10.8</td>\n",
       "      <td>0.0</td>\n",
       "      <td>11.2</td>\n",
       "      <td>18.0</td>\n",
       "      <td>0.0</td>\n",
       "      <td>medium</td>\n",
       "      <td>Friday</td>\n",
       "      <td>October</td>\n",
       "      <td>afternoon</td>\n",
       "    </tr>\n",
       "    <tr>\n",
       "      <th>16734</th>\n",
       "      <td>München-Köln</td>\n",
       "      <td>-0.1</td>\n",
       "      <td>0.0</td>\n",
       "      <td>7.6</td>\n",
       "      <td>11.0</td>\n",
       "      <td>0.0</td>\n",
       "      <td>good</td>\n",
       "      <td>Monday</td>\n",
       "      <td>January</td>\n",
       "      <td>evening</td>\n",
       "    </tr>\n",
       "    <tr>\n",
       "      <th>42817</th>\n",
       "      <td>Frankfurt-München</td>\n",
       "      <td>9.1</td>\n",
       "      <td>0.0</td>\n",
       "      <td>9.4</td>\n",
       "      <td>17.0</td>\n",
       "      <td>0.0</td>\n",
       "      <td>medium</td>\n",
       "      <td>Monday</td>\n",
       "      <td>September</td>\n",
       "      <td>evening</td>\n",
       "    </tr>\n",
       "    <tr>\n",
       "      <th>...</th>\n",
       "      <td>...</td>\n",
       "      <td>...</td>\n",
       "      <td>...</td>\n",
       "      <td>...</td>\n",
       "      <td>...</td>\n",
       "      <td>...</td>\n",
       "      <td>...</td>\n",
       "      <td>...</td>\n",
       "      <td>...</td>\n",
       "      <td>...</td>\n",
       "    </tr>\n",
       "    <tr>\n",
       "      <th>68959</th>\n",
       "      <td>Mannheim-München</td>\n",
       "      <td>-0.8</td>\n",
       "      <td>0.0</td>\n",
       "      <td>6.8</td>\n",
       "      <td>14.0</td>\n",
       "      <td>0.0</td>\n",
       "      <td>good</td>\n",
       "      <td>Tuesday</td>\n",
       "      <td>March</td>\n",
       "      <td>evening</td>\n",
       "    </tr>\n",
       "    <tr>\n",
       "      <th>30197</th>\n",
       "      <td>München-Köln</td>\n",
       "      <td>15.1</td>\n",
       "      <td>0.0</td>\n",
       "      <td>7.9</td>\n",
       "      <td>18.0</td>\n",
       "      <td>0.0</td>\n",
       "      <td>medium</td>\n",
       "      <td>Monday</td>\n",
       "      <td>September</td>\n",
       "      <td>morning</td>\n",
       "    </tr>\n",
       "    <tr>\n",
       "      <th>71164</th>\n",
       "      <td>Mannheim-München</td>\n",
       "      <td>18.5</td>\n",
       "      <td>0.0</td>\n",
       "      <td>14.0</td>\n",
       "      <td>31.0</td>\n",
       "      <td>0.0</td>\n",
       "      <td>medium</td>\n",
       "      <td>Friday</td>\n",
       "      <td>July</td>\n",
       "      <td>evening</td>\n",
       "    </tr>\n",
       "    <tr>\n",
       "      <th>37341</th>\n",
       "      <td>Würzburg-Köln</td>\n",
       "      <td>20.3</td>\n",
       "      <td>0.0</td>\n",
       "      <td>25.2</td>\n",
       "      <td>44.0</td>\n",
       "      <td>0.0</td>\n",
       "      <td>medium</td>\n",
       "      <td>Monday</td>\n",
       "      <td>June</td>\n",
       "      <td>afternoon</td>\n",
       "    </tr>\n",
       "    <tr>\n",
       "      <th>61960</th>\n",
       "      <td>Köln-München</td>\n",
       "      <td>-9.6</td>\n",
       "      <td>0.0</td>\n",
       "      <td>18.4</td>\n",
       "      <td>36.0</td>\n",
       "      <td>50.0</td>\n",
       "      <td>good</td>\n",
       "      <td>Saturday</td>\n",
       "      <td>February</td>\n",
       "      <td>night</td>\n",
       "    </tr>\n",
       "  </tbody>\n",
       "</table>\n",
       "<p>84634 rows × 10 columns</p>\n",
       "</div>"
      ],
      "text/plain": [
       "                     trip  temp  prcp  wspd  wpgt  snow    coco   weekday  \\\n",
       "82682  Mannheim-Frankfurt  28.3   0.0  13.0  27.8   0.0    good    Sunday   \n",
       "13870       Mannheim-Köln   3.0   0.0  10.4  18.0   0.0    good  Saturday   \n",
       "1939       Frankfurt-Köln  10.8   0.0  11.2  18.0   0.0  medium    Friday   \n",
       "16734        München-Köln  -0.1   0.0   7.6  11.0   0.0    good    Monday   \n",
       "42817   Frankfurt-München   9.1   0.0   9.4  17.0   0.0  medium    Monday   \n",
       "...                   ...   ...   ...   ...   ...   ...     ...       ...   \n",
       "68959    Mannheim-München  -0.8   0.0   6.8  14.0   0.0    good   Tuesday   \n",
       "30197        München-Köln  15.1   0.0   7.9  18.0   0.0  medium    Monday   \n",
       "71164    Mannheim-München  18.5   0.0  14.0  31.0   0.0  medium    Friday   \n",
       "37341       Würzburg-Köln  20.3   0.0  25.2  44.0   0.0  medium    Monday   \n",
       "61960        Köln-München  -9.6   0.0  18.4  36.0  50.0    good  Saturday   \n",
       "\n",
       "           month time_of_day  \n",
       "82682       July   afternoon  \n",
       "13870      April     evening  \n",
       "1939     October   afternoon  \n",
       "16734    January     evening  \n",
       "42817  September     evening  \n",
       "...          ...         ...  \n",
       "68959      March     evening  \n",
       "30197  September     morning  \n",
       "71164       July     evening  \n",
       "37341       June   afternoon  \n",
       "61960   February       night  \n",
       "\n",
       "[84634 rows x 10 columns]"
      ]
     },
     "execution_count": 26,
     "metadata": {},
     "output_type": "execute_result"
    }
   ],
   "source": [
    "X_train"
   ]
  },
  {
   "cell_type": "code",
   "execution_count": 27,
   "metadata": {
    "colab": {
     "base_uri": "https://localhost:8080/"
    },
    "id": "uQhyxEqodjT0",
    "outputId": "48a5c674-3683-4341-9c05-f53be4fbbc46"
   },
   "outputs": [
    {
     "data": {
      "text/plain": [
       "0      40887\n",
       "1      10745\n",
       "2       8906\n",
       "3       6339\n",
       "4       4600\n",
       "       ...  \n",
       "114        8\n",
       "115        8\n",
       "111        7\n",
       "107        7\n",
       "116        5\n",
       "Name: target_numeric, Length: 121, dtype: int64"
      ]
     },
     "execution_count": 27,
     "metadata": {},
     "output_type": "execute_result"
    }
   ],
   "source": [
    "y.value_counts()"
   ]
  },
  {
   "cell_type": "code",
   "execution_count": 28,
   "metadata": {
    "id": "gO_crqBcQv69"
   },
   "outputs": [],
   "source": [
    "from sklearn.pipeline import make_pipeline\n",
    "from sklearn.compose import ColumnTransformer\n",
    "from sklearn.feature_selection import SelectPercentile, mutual_info_regression\n",
    "from sklearn.preprocessing import OrdinalEncoder, MinMaxScaler, OneHotEncoder\n",
    "from sklearn.impute import SimpleImputer, KNNImputer\n",
    "\n",
    "def create_preproc_ordinal():\n",
    "    feat_ordinal_dict = {\n",
    "        # considers \"missing\" as the worse category\n",
    "        \"coco\": ['good', 'medium', 'bad', 'extreme']\n",
    "    }\n",
    "\n",
    "    feat_ordinal = sorted(feat_ordinal_dict.keys())\n",
    "    feat_ordinal_values_sorted = [feat_ordinal_dict[i] for i in feat_ordinal]\n",
    "\n",
    "    encoder_ordinal = OrdinalEncoder(\n",
    "        categories=feat_ordinal_values_sorted,\n",
    "        handle_unknown=\"use_encoded_value\",\n",
    "        unknown_value=-1  # Considers unknown values as worse than \"missing\"\n",
    "    )\n",
    "\n",
    "    preproc_ordinal = make_pipeline(\n",
    "        SimpleImputer(strategy=\"constant\", fill_value=\"missing\"),\n",
    "        encoder_ordinal,\n",
    "        MinMaxScaler()\n",
    "    )\n",
    "\n",
    "    return preproc_ordinal, feat_ordinal\n",
    "\n",
    "\n",
    "def create_preproc_numerical():\n",
    "    return make_pipeline(\n",
    "        KNNImputer(),\n",
    "        MinMaxScaler()\n",
    "    )\n",
    "\n",
    "def create_preproc_nominal():\n",
    "    return make_pipeline(\n",
    "        SimpleImputer(strategy=\"most_frequent\"),\n",
    "        OneHotEncoder(handle_unknown=\"ignore\")\n",
    "    )"
   ]
  },
  {
   "cell_type": "code",
   "execution_count": 29,
   "metadata": {
    "id": "r-vzlKmHQv7C"
   },
   "outputs": [],
   "source": [
    "def create_preproc(X, percentile = 75):\n",
    "    \"\"\"Create an (unfitted) sklearn preprocessing pipeline well suited for the Houses Kaggle Competition\n",
    "\n",
    "    Args:\n",
    "        X (pandas.DataFrame): Feature matrix\n",
    "        percentile (float): Percentage of feature to keep after one hot encoding\n",
    "\n",
    "    Returns:\n",
    "        sklearn.pipeline.Pipeline: un-fitted preprocessor\n",
    "    \"\"\"\n",
    "    preproc_ordinal, feat_ordinal = create_preproc_ordinal()\n",
    "    \n",
    "    preproc_numerical = create_preproc_numerical()\n",
    "    feat_numerical = sorted(X.select_dtypes(\n",
    "        include=[\"int64\", \"float64\"]).columns)\n",
    "    \n",
    "    preproc_nominal = create_preproc_nominal()\n",
    "    feat_nominal = sorted(\n",
    "        list(set(X.columns) - set(feat_numerical) - set(feat_ordinal)))\n",
    "    \n",
    "    feature_transformer = ColumnTransformer(\n",
    "        [\n",
    "        (\"numerical_encoder\", preproc_numerical, feat_numerical),\n",
    "        (\"ordinal_encoder\", preproc_ordinal, feat_ordinal),\n",
    "        (\"nominal_encoder\", preproc_nominal, feat_nominal)\n",
    "        ],\n",
    "        remainder=\"drop\")\n",
    "\n",
    "    feature_selector = SelectPercentile(\n",
    "        mutual_info_regression,\n",
    "        percentile=percentile,  # keep the xx% most important features\n",
    "    )\n",
    "\n",
    "    preproc = make_pipeline(\n",
    "        feature_transformer,\n",
    "        #feature_selector #disabling it for now, mostly for debugging purposes\n",
    "    )\n",
    "    return preproc"
   ]
  },
  {
   "cell_type": "code",
   "execution_count": 30,
   "metadata": {
    "colab": {
     "base_uri": "https://localhost:8080/",
     "height": 262
    },
    "id": "3EuLgo_UQv7G",
    "outputId": "251f6964-714f-4461-d088-a639b08825b0"
   },
   "outputs": [
    {
     "data": {
      "text/html": [
       "<style>#sk-container-id-4 {color: black;background-color: white;}#sk-container-id-4 pre{padding: 0;}#sk-container-id-4 div.sk-toggleable {background-color: white;}#sk-container-id-4 label.sk-toggleable__label {cursor: pointer;display: block;width: 100%;margin-bottom: 0;padding: 0.3em;box-sizing: border-box;text-align: center;}#sk-container-id-4 label.sk-toggleable__label-arrow:before {content: \"▸\";float: left;margin-right: 0.25em;color: #696969;}#sk-container-id-4 label.sk-toggleable__label-arrow:hover:before {color: black;}#sk-container-id-4 div.sk-estimator:hover label.sk-toggleable__label-arrow:before {color: black;}#sk-container-id-4 div.sk-toggleable__content {max-height: 0;max-width: 0;overflow: hidden;text-align: left;background-color: #f0f8ff;}#sk-container-id-4 div.sk-toggleable__content pre {margin: 0.2em;color: black;border-radius: 0.25em;background-color: #f0f8ff;}#sk-container-id-4 input.sk-toggleable__control:checked~div.sk-toggleable__content {max-height: 200px;max-width: 100%;overflow: auto;}#sk-container-id-4 input.sk-toggleable__control:checked~label.sk-toggleable__label-arrow:before {content: \"▾\";}#sk-container-id-4 div.sk-estimator input.sk-toggleable__control:checked~label.sk-toggleable__label {background-color: #d4ebff;}#sk-container-id-4 div.sk-label input.sk-toggleable__control:checked~label.sk-toggleable__label {background-color: #d4ebff;}#sk-container-id-4 input.sk-hidden--visually {border: 0;clip: rect(1px 1px 1px 1px);clip: rect(1px, 1px, 1px, 1px);height: 1px;margin: -1px;overflow: hidden;padding: 0;position: absolute;width: 1px;}#sk-container-id-4 div.sk-estimator {font-family: monospace;background-color: #f0f8ff;border: 1px dotted black;border-radius: 0.25em;box-sizing: border-box;margin-bottom: 0.5em;}#sk-container-id-4 div.sk-estimator:hover {background-color: #d4ebff;}#sk-container-id-4 div.sk-parallel-item::after {content: \"\";width: 100%;border-bottom: 1px solid gray;flex-grow: 1;}#sk-container-id-4 div.sk-label:hover label.sk-toggleable__label {background-color: #d4ebff;}#sk-container-id-4 div.sk-serial::before {content: \"\";position: absolute;border-left: 1px solid gray;box-sizing: border-box;top: 0;bottom: 0;left: 50%;z-index: 0;}#sk-container-id-4 div.sk-serial {display: flex;flex-direction: column;align-items: center;background-color: white;padding-right: 0.2em;padding-left: 0.2em;position: relative;}#sk-container-id-4 div.sk-item {position: relative;z-index: 1;}#sk-container-id-4 div.sk-parallel {display: flex;align-items: stretch;justify-content: center;background-color: white;position: relative;}#sk-container-id-4 div.sk-item::before, #sk-container-id-4 div.sk-parallel-item::before {content: \"\";position: absolute;border-left: 1px solid gray;box-sizing: border-box;top: 0;bottom: 0;left: 50%;z-index: -1;}#sk-container-id-4 div.sk-parallel-item {display: flex;flex-direction: column;z-index: 1;position: relative;background-color: white;}#sk-container-id-4 div.sk-parallel-item:first-child::after {align-self: flex-end;width: 50%;}#sk-container-id-4 div.sk-parallel-item:last-child::after {align-self: flex-start;width: 50%;}#sk-container-id-4 div.sk-parallel-item:only-child::after {width: 0;}#sk-container-id-4 div.sk-dashed-wrapped {border: 1px dashed gray;margin: 0 0.4em 0.5em 0.4em;box-sizing: border-box;padding-bottom: 0.4em;background-color: white;}#sk-container-id-4 div.sk-label label {font-family: monospace;font-weight: bold;display: inline-block;line-height: 1.2em;}#sk-container-id-4 div.sk-label-container {text-align: center;}#sk-container-id-4 div.sk-container {/* jupyter's `normalize.less` sets `[hidden] { display: none; }` but bootstrap.min.css set `[hidden] { display: none !important; }` so we also need the `!important` here to be able to override the default hidden behavior on the sphinx rendered scikit-learn.org. See: https://github.com/scikit-learn/scikit-learn/issues/21755 */display: inline-block !important;position: relative;}#sk-container-id-4 div.sk-text-repr-fallback {display: none;}</style><div id=\"sk-container-id-4\" class=\"sk-top-container\"><div class=\"sk-text-repr-fallback\"><pre>Pipeline(steps=[(&#x27;columntransformer&#x27;,\n",
       "                 ColumnTransformer(transformers=[(&#x27;numerical_encoder&#x27;,\n",
       "                                                  Pipeline(steps=[(&#x27;knnimputer&#x27;,\n",
       "                                                                   KNNImputer()),\n",
       "                                                                  (&#x27;minmaxscaler&#x27;,\n",
       "                                                                   MinMaxScaler())]),\n",
       "                                                  [&#x27;prcp&#x27;, &#x27;snow&#x27;, &#x27;temp&#x27;,\n",
       "                                                   &#x27;wpgt&#x27;, &#x27;wspd&#x27;]),\n",
       "                                                 (&#x27;ordinal_encoder&#x27;,\n",
       "                                                  Pipeline(steps=[(&#x27;simpleimputer&#x27;,\n",
       "                                                                   SimpleImputer(fill_value=&#x27;missing&#x27;,\n",
       "                                                                                 strategy=&#x27;constant&#x27;)),\n",
       "                                                                  (&#x27;ordinalencoder&#x27;,\n",
       "                                                                   OrdinalEncoder(categories=[[&#x27;good&#x27;,\n",
       "                                                                                               &#x27;medium&#x27;,\n",
       "                                                                                               &#x27;bad&#x27;,\n",
       "                                                                                               &#x27;extreme&#x27;]],\n",
       "                                                                                  handle_unknown=&#x27;use_encoded_value&#x27;,\n",
       "                                                                                  unknown_value=-1)),\n",
       "                                                                  (&#x27;minmaxscaler&#x27;,\n",
       "                                                                   MinMaxScaler())]),\n",
       "                                                  [&#x27;coco&#x27;]),\n",
       "                                                 (&#x27;nominal_encoder&#x27;,\n",
       "                                                  Pipeline(steps=[(&#x27;simpleimputer&#x27;,\n",
       "                                                                   SimpleImputer(strategy=&#x27;most_frequent&#x27;)),\n",
       "                                                                  (&#x27;onehotencoder&#x27;,\n",
       "                                                                   OneHotEncoder(handle_unknown=&#x27;ignore&#x27;))]),\n",
       "                                                  [&#x27;month&#x27;, &#x27;time_of_day&#x27;,\n",
       "                                                   &#x27;trip&#x27;, &#x27;weekday&#x27;])]))])</pre><b>In a Jupyter environment, please rerun this cell to show the HTML representation or trust the notebook. <br />On GitHub, the HTML representation is unable to render, please try loading this page with nbviewer.org.</b></div><div class=\"sk-container\" hidden><div class=\"sk-item sk-dashed-wrapped\"><div class=\"sk-label-container\"><div class=\"sk-label sk-toggleable\"><input class=\"sk-toggleable__control sk-hidden--visually\" id=\"sk-estimator-id-38\" type=\"checkbox\" ><label for=\"sk-estimator-id-38\" class=\"sk-toggleable__label sk-toggleable__label-arrow\">Pipeline</label><div class=\"sk-toggleable__content\"><pre>Pipeline(steps=[(&#x27;columntransformer&#x27;,\n",
       "                 ColumnTransformer(transformers=[(&#x27;numerical_encoder&#x27;,\n",
       "                                                  Pipeline(steps=[(&#x27;knnimputer&#x27;,\n",
       "                                                                   KNNImputer()),\n",
       "                                                                  (&#x27;minmaxscaler&#x27;,\n",
       "                                                                   MinMaxScaler())]),\n",
       "                                                  [&#x27;prcp&#x27;, &#x27;snow&#x27;, &#x27;temp&#x27;,\n",
       "                                                   &#x27;wpgt&#x27;, &#x27;wspd&#x27;]),\n",
       "                                                 (&#x27;ordinal_encoder&#x27;,\n",
       "                                                  Pipeline(steps=[(&#x27;simpleimputer&#x27;,\n",
       "                                                                   SimpleImputer(fill_value=&#x27;missing&#x27;,\n",
       "                                                                                 strategy=&#x27;constant&#x27;)),\n",
       "                                                                  (&#x27;ordinalencoder&#x27;,\n",
       "                                                                   OrdinalEncoder(categories=[[&#x27;good&#x27;,\n",
       "                                                                                               &#x27;medium&#x27;,\n",
       "                                                                                               &#x27;bad&#x27;,\n",
       "                                                                                               &#x27;extreme&#x27;]],\n",
       "                                                                                  handle_unknown=&#x27;use_encoded_value&#x27;,\n",
       "                                                                                  unknown_value=-1)),\n",
       "                                                                  (&#x27;minmaxscaler&#x27;,\n",
       "                                                                   MinMaxScaler())]),\n",
       "                                                  [&#x27;coco&#x27;]),\n",
       "                                                 (&#x27;nominal_encoder&#x27;,\n",
       "                                                  Pipeline(steps=[(&#x27;simpleimputer&#x27;,\n",
       "                                                                   SimpleImputer(strategy=&#x27;most_frequent&#x27;)),\n",
       "                                                                  (&#x27;onehotencoder&#x27;,\n",
       "                                                                   OneHotEncoder(handle_unknown=&#x27;ignore&#x27;))]),\n",
       "                                                  [&#x27;month&#x27;, &#x27;time_of_day&#x27;,\n",
       "                                                   &#x27;trip&#x27;, &#x27;weekday&#x27;])]))])</pre></div></div></div><div class=\"sk-serial\"><div class=\"sk-item sk-dashed-wrapped\"><div class=\"sk-label-container\"><div class=\"sk-label sk-toggleable\"><input class=\"sk-toggleable__control sk-hidden--visually\" id=\"sk-estimator-id-39\" type=\"checkbox\" ><label for=\"sk-estimator-id-39\" class=\"sk-toggleable__label sk-toggleable__label-arrow\">columntransformer: ColumnTransformer</label><div class=\"sk-toggleable__content\"><pre>ColumnTransformer(transformers=[(&#x27;numerical_encoder&#x27;,\n",
       "                                 Pipeline(steps=[(&#x27;knnimputer&#x27;, KNNImputer()),\n",
       "                                                 (&#x27;minmaxscaler&#x27;,\n",
       "                                                  MinMaxScaler())]),\n",
       "                                 [&#x27;prcp&#x27;, &#x27;snow&#x27;, &#x27;temp&#x27;, &#x27;wpgt&#x27;, &#x27;wspd&#x27;]),\n",
       "                                (&#x27;ordinal_encoder&#x27;,\n",
       "                                 Pipeline(steps=[(&#x27;simpleimputer&#x27;,\n",
       "                                                  SimpleImputer(fill_value=&#x27;missing&#x27;,\n",
       "                                                                strategy=&#x27;constant&#x27;)),\n",
       "                                                 (&#x27;ordinalencoder&#x27;,\n",
       "                                                  OrdinalEncoder(categories=[[&#x27;good&#x27;,\n",
       "                                                                              &#x27;medium&#x27;,\n",
       "                                                                              &#x27;bad&#x27;,\n",
       "                                                                              &#x27;extreme&#x27;]],\n",
       "                                                                 handle_unknown=&#x27;use_encoded_value&#x27;,\n",
       "                                                                 unknown_value=-1)),\n",
       "                                                 (&#x27;minmaxscaler&#x27;,\n",
       "                                                  MinMaxScaler())]),\n",
       "                                 [&#x27;coco&#x27;]),\n",
       "                                (&#x27;nominal_encoder&#x27;,\n",
       "                                 Pipeline(steps=[(&#x27;simpleimputer&#x27;,\n",
       "                                                  SimpleImputer(strategy=&#x27;most_frequent&#x27;)),\n",
       "                                                 (&#x27;onehotencoder&#x27;,\n",
       "                                                  OneHotEncoder(handle_unknown=&#x27;ignore&#x27;))]),\n",
       "                                 [&#x27;month&#x27;, &#x27;time_of_day&#x27;, &#x27;trip&#x27;, &#x27;weekday&#x27;])])</pre></div></div></div><div class=\"sk-parallel\"><div class=\"sk-parallel-item\"><div class=\"sk-item\"><div class=\"sk-label-container\"><div class=\"sk-label sk-toggleable\"><input class=\"sk-toggleable__control sk-hidden--visually\" id=\"sk-estimator-id-40\" type=\"checkbox\" ><label for=\"sk-estimator-id-40\" class=\"sk-toggleable__label sk-toggleable__label-arrow\">numerical_encoder</label><div class=\"sk-toggleable__content\"><pre>[&#x27;prcp&#x27;, &#x27;snow&#x27;, &#x27;temp&#x27;, &#x27;wpgt&#x27;, &#x27;wspd&#x27;]</pre></div></div></div><div class=\"sk-serial\"><div class=\"sk-item\"><div class=\"sk-serial\"><div class=\"sk-item\"><div class=\"sk-estimator sk-toggleable\"><input class=\"sk-toggleable__control sk-hidden--visually\" id=\"sk-estimator-id-41\" type=\"checkbox\" ><label for=\"sk-estimator-id-41\" class=\"sk-toggleable__label sk-toggleable__label-arrow\">KNNImputer</label><div class=\"sk-toggleable__content\"><pre>KNNImputer()</pre></div></div></div><div class=\"sk-item\"><div class=\"sk-estimator sk-toggleable\"><input class=\"sk-toggleable__control sk-hidden--visually\" id=\"sk-estimator-id-42\" type=\"checkbox\" ><label for=\"sk-estimator-id-42\" class=\"sk-toggleable__label sk-toggleable__label-arrow\">MinMaxScaler</label><div class=\"sk-toggleable__content\"><pre>MinMaxScaler()</pre></div></div></div></div></div></div></div></div><div class=\"sk-parallel-item\"><div class=\"sk-item\"><div class=\"sk-label-container\"><div class=\"sk-label sk-toggleable\"><input class=\"sk-toggleable__control sk-hidden--visually\" id=\"sk-estimator-id-43\" type=\"checkbox\" ><label for=\"sk-estimator-id-43\" class=\"sk-toggleable__label sk-toggleable__label-arrow\">ordinal_encoder</label><div class=\"sk-toggleable__content\"><pre>[&#x27;coco&#x27;]</pre></div></div></div><div class=\"sk-serial\"><div class=\"sk-item\"><div class=\"sk-serial\"><div class=\"sk-item\"><div class=\"sk-estimator sk-toggleable\"><input class=\"sk-toggleable__control sk-hidden--visually\" id=\"sk-estimator-id-44\" type=\"checkbox\" ><label for=\"sk-estimator-id-44\" class=\"sk-toggleable__label sk-toggleable__label-arrow\">SimpleImputer</label><div class=\"sk-toggleable__content\"><pre>SimpleImputer(fill_value=&#x27;missing&#x27;, strategy=&#x27;constant&#x27;)</pre></div></div></div><div class=\"sk-item\"><div class=\"sk-estimator sk-toggleable\"><input class=\"sk-toggleable__control sk-hidden--visually\" id=\"sk-estimator-id-45\" type=\"checkbox\" ><label for=\"sk-estimator-id-45\" class=\"sk-toggleable__label sk-toggleable__label-arrow\">OrdinalEncoder</label><div class=\"sk-toggleable__content\"><pre>OrdinalEncoder(categories=[[&#x27;good&#x27;, &#x27;medium&#x27;, &#x27;bad&#x27;, &#x27;extreme&#x27;]],\n",
       "               handle_unknown=&#x27;use_encoded_value&#x27;, unknown_value=-1)</pre></div></div></div><div class=\"sk-item\"><div class=\"sk-estimator sk-toggleable\"><input class=\"sk-toggleable__control sk-hidden--visually\" id=\"sk-estimator-id-46\" type=\"checkbox\" ><label for=\"sk-estimator-id-46\" class=\"sk-toggleable__label sk-toggleable__label-arrow\">MinMaxScaler</label><div class=\"sk-toggleable__content\"><pre>MinMaxScaler()</pre></div></div></div></div></div></div></div></div><div class=\"sk-parallel-item\"><div class=\"sk-item\"><div class=\"sk-label-container\"><div class=\"sk-label sk-toggleable\"><input class=\"sk-toggleable__control sk-hidden--visually\" id=\"sk-estimator-id-47\" type=\"checkbox\" ><label for=\"sk-estimator-id-47\" class=\"sk-toggleable__label sk-toggleable__label-arrow\">nominal_encoder</label><div class=\"sk-toggleable__content\"><pre>[&#x27;month&#x27;, &#x27;time_of_day&#x27;, &#x27;trip&#x27;, &#x27;weekday&#x27;]</pre></div></div></div><div class=\"sk-serial\"><div class=\"sk-item\"><div class=\"sk-serial\"><div class=\"sk-item\"><div class=\"sk-estimator sk-toggleable\"><input class=\"sk-toggleable__control sk-hidden--visually\" id=\"sk-estimator-id-48\" type=\"checkbox\" ><label for=\"sk-estimator-id-48\" class=\"sk-toggleable__label sk-toggleable__label-arrow\">SimpleImputer</label><div class=\"sk-toggleable__content\"><pre>SimpleImputer(strategy=&#x27;most_frequent&#x27;)</pre></div></div></div><div class=\"sk-item\"><div class=\"sk-estimator sk-toggleable\"><input class=\"sk-toggleable__control sk-hidden--visually\" id=\"sk-estimator-id-49\" type=\"checkbox\" ><label for=\"sk-estimator-id-49\" class=\"sk-toggleable__label sk-toggleable__label-arrow\">OneHotEncoder</label><div class=\"sk-toggleable__content\"><pre>OneHotEncoder(handle_unknown=&#x27;ignore&#x27;)</pre></div></div></div></div></div></div></div></div></div></div></div></div></div></div>"
      ],
      "text/plain": [
       "Pipeline(steps=[('columntransformer',\n",
       "                 ColumnTransformer(transformers=[('numerical_encoder',\n",
       "                                                  Pipeline(steps=[('knnimputer',\n",
       "                                                                   KNNImputer()),\n",
       "                                                                  ('minmaxscaler',\n",
       "                                                                   MinMaxScaler())]),\n",
       "                                                  ['prcp', 'snow', 'temp',\n",
       "                                                   'wpgt', 'wspd']),\n",
       "                                                 ('ordinal_encoder',\n",
       "                                                  Pipeline(steps=[('simpleimputer',\n",
       "                                                                   SimpleImputer(fill_value='missing',\n",
       "                                                                                 strategy='constant')),\n",
       "                                                                  ('ordinalencoder',\n",
       "                                                                   OrdinalEncoder(categories=[['good',\n",
       "                                                                                               'medium',\n",
       "                                                                                               'bad',\n",
       "                                                                                               'extreme']],\n",
       "                                                                                  handle_unknown='use_encoded_value',\n",
       "                                                                                  unknown_value=-1)),\n",
       "                                                                  ('minmaxscaler',\n",
       "                                                                   MinMaxScaler())]),\n",
       "                                                  ['coco']),\n",
       "                                                 ('nominal_encoder',\n",
       "                                                  Pipeline(steps=[('simpleimputer',\n",
       "                                                                   SimpleImputer(strategy='most_frequent')),\n",
       "                                                                  ('onehotencoder',\n",
       "                                                                   OneHotEncoder(handle_unknown='ignore'))]),\n",
       "                                                  ['month', 'time_of_day',\n",
       "                                                   'trip', 'weekday'])]))])"
      ]
     },
     "execution_count": 30,
     "metadata": {},
     "output_type": "execute_result"
    }
   ],
   "source": [
    "preproc = create_preproc(X_train)\n",
    "preproc"
   ]
  },
  {
   "cell_type": "code",
   "execution_count": 31,
   "metadata": {
    "colab": {
     "base_uri": "https://localhost:8080/",
     "height": 262
    },
    "id": "QDHzU730Qv7I",
    "outputId": "467e0823-994f-4a77-b9ee-f99122110d91"
   },
   "outputs": [
    {
     "data": {
      "text/html": [
       "<style>#sk-container-id-5 {color: black;background-color: white;}#sk-container-id-5 pre{padding: 0;}#sk-container-id-5 div.sk-toggleable {background-color: white;}#sk-container-id-5 label.sk-toggleable__label {cursor: pointer;display: block;width: 100%;margin-bottom: 0;padding: 0.3em;box-sizing: border-box;text-align: center;}#sk-container-id-5 label.sk-toggleable__label-arrow:before {content: \"▸\";float: left;margin-right: 0.25em;color: #696969;}#sk-container-id-5 label.sk-toggleable__label-arrow:hover:before {color: black;}#sk-container-id-5 div.sk-estimator:hover label.sk-toggleable__label-arrow:before {color: black;}#sk-container-id-5 div.sk-toggleable__content {max-height: 0;max-width: 0;overflow: hidden;text-align: left;background-color: #f0f8ff;}#sk-container-id-5 div.sk-toggleable__content pre {margin: 0.2em;color: black;border-radius: 0.25em;background-color: #f0f8ff;}#sk-container-id-5 input.sk-toggleable__control:checked~div.sk-toggleable__content {max-height: 200px;max-width: 100%;overflow: auto;}#sk-container-id-5 input.sk-toggleable__control:checked~label.sk-toggleable__label-arrow:before {content: \"▾\";}#sk-container-id-5 div.sk-estimator input.sk-toggleable__control:checked~label.sk-toggleable__label {background-color: #d4ebff;}#sk-container-id-5 div.sk-label input.sk-toggleable__control:checked~label.sk-toggleable__label {background-color: #d4ebff;}#sk-container-id-5 input.sk-hidden--visually {border: 0;clip: rect(1px 1px 1px 1px);clip: rect(1px, 1px, 1px, 1px);height: 1px;margin: -1px;overflow: hidden;padding: 0;position: absolute;width: 1px;}#sk-container-id-5 div.sk-estimator {font-family: monospace;background-color: #f0f8ff;border: 1px dotted black;border-radius: 0.25em;box-sizing: border-box;margin-bottom: 0.5em;}#sk-container-id-5 div.sk-estimator:hover {background-color: #d4ebff;}#sk-container-id-5 div.sk-parallel-item::after {content: \"\";width: 100%;border-bottom: 1px solid gray;flex-grow: 1;}#sk-container-id-5 div.sk-label:hover label.sk-toggleable__label {background-color: #d4ebff;}#sk-container-id-5 div.sk-serial::before {content: \"\";position: absolute;border-left: 1px solid gray;box-sizing: border-box;top: 0;bottom: 0;left: 50%;z-index: 0;}#sk-container-id-5 div.sk-serial {display: flex;flex-direction: column;align-items: center;background-color: white;padding-right: 0.2em;padding-left: 0.2em;position: relative;}#sk-container-id-5 div.sk-item {position: relative;z-index: 1;}#sk-container-id-5 div.sk-parallel {display: flex;align-items: stretch;justify-content: center;background-color: white;position: relative;}#sk-container-id-5 div.sk-item::before, #sk-container-id-5 div.sk-parallel-item::before {content: \"\";position: absolute;border-left: 1px solid gray;box-sizing: border-box;top: 0;bottom: 0;left: 50%;z-index: -1;}#sk-container-id-5 div.sk-parallel-item {display: flex;flex-direction: column;z-index: 1;position: relative;background-color: white;}#sk-container-id-5 div.sk-parallel-item:first-child::after {align-self: flex-end;width: 50%;}#sk-container-id-5 div.sk-parallel-item:last-child::after {align-self: flex-start;width: 50%;}#sk-container-id-5 div.sk-parallel-item:only-child::after {width: 0;}#sk-container-id-5 div.sk-dashed-wrapped {border: 1px dashed gray;margin: 0 0.4em 0.5em 0.4em;box-sizing: border-box;padding-bottom: 0.4em;background-color: white;}#sk-container-id-5 div.sk-label label {font-family: monospace;font-weight: bold;display: inline-block;line-height: 1.2em;}#sk-container-id-5 div.sk-label-container {text-align: center;}#sk-container-id-5 div.sk-container {/* jupyter's `normalize.less` sets `[hidden] { display: none; }` but bootstrap.min.css set `[hidden] { display: none !important; }` so we also need the `!important` here to be able to override the default hidden behavior on the sphinx rendered scikit-learn.org. See: https://github.com/scikit-learn/scikit-learn/issues/21755 */display: inline-block !important;position: relative;}#sk-container-id-5 div.sk-text-repr-fallback {display: none;}</style><div id=\"sk-container-id-5\" class=\"sk-top-container\"><div class=\"sk-text-repr-fallback\"><pre>Pipeline(steps=[(&#x27;columntransformer&#x27;,\n",
       "                 ColumnTransformer(transformers=[(&#x27;numerical_encoder&#x27;,\n",
       "                                                  Pipeline(steps=[(&#x27;knnimputer&#x27;,\n",
       "                                                                   KNNImputer()),\n",
       "                                                                  (&#x27;minmaxscaler&#x27;,\n",
       "                                                                   MinMaxScaler())]),\n",
       "                                                  [&#x27;prcp&#x27;, &#x27;snow&#x27;, &#x27;temp&#x27;,\n",
       "                                                   &#x27;wpgt&#x27;, &#x27;wspd&#x27;]),\n",
       "                                                 (&#x27;ordinal_encoder&#x27;,\n",
       "                                                  Pipeline(steps=[(&#x27;simpleimputer&#x27;,\n",
       "                                                                   SimpleImputer(fill_value=&#x27;missing&#x27;,\n",
       "                                                                                 strategy=&#x27;constant&#x27;)),\n",
       "                                                                  (&#x27;ordinalencoder&#x27;,\n",
       "                                                                   OrdinalEncoder(categories=[[&#x27;good&#x27;,\n",
       "                                                                                               &#x27;medium&#x27;,\n",
       "                                                                                               &#x27;bad&#x27;,\n",
       "                                                                                               &#x27;extreme&#x27;]],\n",
       "                                                                                  handle_unknown=&#x27;use_encoded_value&#x27;,\n",
       "                                                                                  unknown_value=-1)),\n",
       "                                                                  (&#x27;minmaxscaler&#x27;,\n",
       "                                                                   MinMaxScaler())]),\n",
       "                                                  [&#x27;coco&#x27;]),\n",
       "                                                 (&#x27;nominal_encoder&#x27;,\n",
       "                                                  Pipeline(steps=[(&#x27;simpleimputer&#x27;,\n",
       "                                                                   SimpleImputer(strategy=&#x27;most_frequent&#x27;)),\n",
       "                                                                  (&#x27;onehotencoder&#x27;,\n",
       "                                                                   OneHotEncoder(handle_unknown=&#x27;ignore&#x27;))]),\n",
       "                                                  [&#x27;month&#x27;, &#x27;time_of_day&#x27;,\n",
       "                                                   &#x27;trip&#x27;, &#x27;weekday&#x27;])]))])</pre><b>In a Jupyter environment, please rerun this cell to show the HTML representation or trust the notebook. <br />On GitHub, the HTML representation is unable to render, please try loading this page with nbviewer.org.</b></div><div class=\"sk-container\" hidden><div class=\"sk-item sk-dashed-wrapped\"><div class=\"sk-label-container\"><div class=\"sk-label sk-toggleable\"><input class=\"sk-toggleable__control sk-hidden--visually\" id=\"sk-estimator-id-50\" type=\"checkbox\" ><label for=\"sk-estimator-id-50\" class=\"sk-toggleable__label sk-toggleable__label-arrow\">Pipeline</label><div class=\"sk-toggleable__content\"><pre>Pipeline(steps=[(&#x27;columntransformer&#x27;,\n",
       "                 ColumnTransformer(transformers=[(&#x27;numerical_encoder&#x27;,\n",
       "                                                  Pipeline(steps=[(&#x27;knnimputer&#x27;,\n",
       "                                                                   KNNImputer()),\n",
       "                                                                  (&#x27;minmaxscaler&#x27;,\n",
       "                                                                   MinMaxScaler())]),\n",
       "                                                  [&#x27;prcp&#x27;, &#x27;snow&#x27;, &#x27;temp&#x27;,\n",
       "                                                   &#x27;wpgt&#x27;, &#x27;wspd&#x27;]),\n",
       "                                                 (&#x27;ordinal_encoder&#x27;,\n",
       "                                                  Pipeline(steps=[(&#x27;simpleimputer&#x27;,\n",
       "                                                                   SimpleImputer(fill_value=&#x27;missing&#x27;,\n",
       "                                                                                 strategy=&#x27;constant&#x27;)),\n",
       "                                                                  (&#x27;ordinalencoder&#x27;,\n",
       "                                                                   OrdinalEncoder(categories=[[&#x27;good&#x27;,\n",
       "                                                                                               &#x27;medium&#x27;,\n",
       "                                                                                               &#x27;bad&#x27;,\n",
       "                                                                                               &#x27;extreme&#x27;]],\n",
       "                                                                                  handle_unknown=&#x27;use_encoded_value&#x27;,\n",
       "                                                                                  unknown_value=-1)),\n",
       "                                                                  (&#x27;minmaxscaler&#x27;,\n",
       "                                                                   MinMaxScaler())]),\n",
       "                                                  [&#x27;coco&#x27;]),\n",
       "                                                 (&#x27;nominal_encoder&#x27;,\n",
       "                                                  Pipeline(steps=[(&#x27;simpleimputer&#x27;,\n",
       "                                                                   SimpleImputer(strategy=&#x27;most_frequent&#x27;)),\n",
       "                                                                  (&#x27;onehotencoder&#x27;,\n",
       "                                                                   OneHotEncoder(handle_unknown=&#x27;ignore&#x27;))]),\n",
       "                                                  [&#x27;month&#x27;, &#x27;time_of_day&#x27;,\n",
       "                                                   &#x27;trip&#x27;, &#x27;weekday&#x27;])]))])</pre></div></div></div><div class=\"sk-serial\"><div class=\"sk-item sk-dashed-wrapped\"><div class=\"sk-label-container\"><div class=\"sk-label sk-toggleable\"><input class=\"sk-toggleable__control sk-hidden--visually\" id=\"sk-estimator-id-51\" type=\"checkbox\" ><label for=\"sk-estimator-id-51\" class=\"sk-toggleable__label sk-toggleable__label-arrow\">columntransformer: ColumnTransformer</label><div class=\"sk-toggleable__content\"><pre>ColumnTransformer(transformers=[(&#x27;numerical_encoder&#x27;,\n",
       "                                 Pipeline(steps=[(&#x27;knnimputer&#x27;, KNNImputer()),\n",
       "                                                 (&#x27;minmaxscaler&#x27;,\n",
       "                                                  MinMaxScaler())]),\n",
       "                                 [&#x27;prcp&#x27;, &#x27;snow&#x27;, &#x27;temp&#x27;, &#x27;wpgt&#x27;, &#x27;wspd&#x27;]),\n",
       "                                (&#x27;ordinal_encoder&#x27;,\n",
       "                                 Pipeline(steps=[(&#x27;simpleimputer&#x27;,\n",
       "                                                  SimpleImputer(fill_value=&#x27;missing&#x27;,\n",
       "                                                                strategy=&#x27;constant&#x27;)),\n",
       "                                                 (&#x27;ordinalencoder&#x27;,\n",
       "                                                  OrdinalEncoder(categories=[[&#x27;good&#x27;,\n",
       "                                                                              &#x27;medium&#x27;,\n",
       "                                                                              &#x27;bad&#x27;,\n",
       "                                                                              &#x27;extreme&#x27;]],\n",
       "                                                                 handle_unknown=&#x27;use_encoded_value&#x27;,\n",
       "                                                                 unknown_value=-1)),\n",
       "                                                 (&#x27;minmaxscaler&#x27;,\n",
       "                                                  MinMaxScaler())]),\n",
       "                                 [&#x27;coco&#x27;]),\n",
       "                                (&#x27;nominal_encoder&#x27;,\n",
       "                                 Pipeline(steps=[(&#x27;simpleimputer&#x27;,\n",
       "                                                  SimpleImputer(strategy=&#x27;most_frequent&#x27;)),\n",
       "                                                 (&#x27;onehotencoder&#x27;,\n",
       "                                                  OneHotEncoder(handle_unknown=&#x27;ignore&#x27;))]),\n",
       "                                 [&#x27;month&#x27;, &#x27;time_of_day&#x27;, &#x27;trip&#x27;, &#x27;weekday&#x27;])])</pre></div></div></div><div class=\"sk-parallel\"><div class=\"sk-parallel-item\"><div class=\"sk-item\"><div class=\"sk-label-container\"><div class=\"sk-label sk-toggleable\"><input class=\"sk-toggleable__control sk-hidden--visually\" id=\"sk-estimator-id-52\" type=\"checkbox\" ><label for=\"sk-estimator-id-52\" class=\"sk-toggleable__label sk-toggleable__label-arrow\">numerical_encoder</label><div class=\"sk-toggleable__content\"><pre>[&#x27;prcp&#x27;, &#x27;snow&#x27;, &#x27;temp&#x27;, &#x27;wpgt&#x27;, &#x27;wspd&#x27;]</pre></div></div></div><div class=\"sk-serial\"><div class=\"sk-item\"><div class=\"sk-serial\"><div class=\"sk-item\"><div class=\"sk-estimator sk-toggleable\"><input class=\"sk-toggleable__control sk-hidden--visually\" id=\"sk-estimator-id-53\" type=\"checkbox\" ><label for=\"sk-estimator-id-53\" class=\"sk-toggleable__label sk-toggleable__label-arrow\">KNNImputer</label><div class=\"sk-toggleable__content\"><pre>KNNImputer()</pre></div></div></div><div class=\"sk-item\"><div class=\"sk-estimator sk-toggleable\"><input class=\"sk-toggleable__control sk-hidden--visually\" id=\"sk-estimator-id-54\" type=\"checkbox\" ><label for=\"sk-estimator-id-54\" class=\"sk-toggleable__label sk-toggleable__label-arrow\">MinMaxScaler</label><div class=\"sk-toggleable__content\"><pre>MinMaxScaler()</pre></div></div></div></div></div></div></div></div><div class=\"sk-parallel-item\"><div class=\"sk-item\"><div class=\"sk-label-container\"><div class=\"sk-label sk-toggleable\"><input class=\"sk-toggleable__control sk-hidden--visually\" id=\"sk-estimator-id-55\" type=\"checkbox\" ><label for=\"sk-estimator-id-55\" class=\"sk-toggleable__label sk-toggleable__label-arrow\">ordinal_encoder</label><div class=\"sk-toggleable__content\"><pre>[&#x27;coco&#x27;]</pre></div></div></div><div class=\"sk-serial\"><div class=\"sk-item\"><div class=\"sk-serial\"><div class=\"sk-item\"><div class=\"sk-estimator sk-toggleable\"><input class=\"sk-toggleable__control sk-hidden--visually\" id=\"sk-estimator-id-56\" type=\"checkbox\" ><label for=\"sk-estimator-id-56\" class=\"sk-toggleable__label sk-toggleable__label-arrow\">SimpleImputer</label><div class=\"sk-toggleable__content\"><pre>SimpleImputer(fill_value=&#x27;missing&#x27;, strategy=&#x27;constant&#x27;)</pre></div></div></div><div class=\"sk-item\"><div class=\"sk-estimator sk-toggleable\"><input class=\"sk-toggleable__control sk-hidden--visually\" id=\"sk-estimator-id-57\" type=\"checkbox\" ><label for=\"sk-estimator-id-57\" class=\"sk-toggleable__label sk-toggleable__label-arrow\">OrdinalEncoder</label><div class=\"sk-toggleable__content\"><pre>OrdinalEncoder(categories=[[&#x27;good&#x27;, &#x27;medium&#x27;, &#x27;bad&#x27;, &#x27;extreme&#x27;]],\n",
       "               handle_unknown=&#x27;use_encoded_value&#x27;, unknown_value=-1)</pre></div></div></div><div class=\"sk-item\"><div class=\"sk-estimator sk-toggleable\"><input class=\"sk-toggleable__control sk-hidden--visually\" id=\"sk-estimator-id-58\" type=\"checkbox\" ><label for=\"sk-estimator-id-58\" class=\"sk-toggleable__label sk-toggleable__label-arrow\">MinMaxScaler</label><div class=\"sk-toggleable__content\"><pre>MinMaxScaler()</pre></div></div></div></div></div></div></div></div><div class=\"sk-parallel-item\"><div class=\"sk-item\"><div class=\"sk-label-container\"><div class=\"sk-label sk-toggleable\"><input class=\"sk-toggleable__control sk-hidden--visually\" id=\"sk-estimator-id-59\" type=\"checkbox\" ><label for=\"sk-estimator-id-59\" class=\"sk-toggleable__label sk-toggleable__label-arrow\">nominal_encoder</label><div class=\"sk-toggleable__content\"><pre>[&#x27;month&#x27;, &#x27;time_of_day&#x27;, &#x27;trip&#x27;, &#x27;weekday&#x27;]</pre></div></div></div><div class=\"sk-serial\"><div class=\"sk-item\"><div class=\"sk-serial\"><div class=\"sk-item\"><div class=\"sk-estimator sk-toggleable\"><input class=\"sk-toggleable__control sk-hidden--visually\" id=\"sk-estimator-id-60\" type=\"checkbox\" ><label for=\"sk-estimator-id-60\" class=\"sk-toggleable__label sk-toggleable__label-arrow\">SimpleImputer</label><div class=\"sk-toggleable__content\"><pre>SimpleImputer(strategy=&#x27;most_frequent&#x27;)</pre></div></div></div><div class=\"sk-item\"><div class=\"sk-estimator sk-toggleable\"><input class=\"sk-toggleable__control sk-hidden--visually\" id=\"sk-estimator-id-61\" type=\"checkbox\" ><label for=\"sk-estimator-id-61\" class=\"sk-toggleable__label sk-toggleable__label-arrow\">OneHotEncoder</label><div class=\"sk-toggleable__content\"><pre>OneHotEncoder(handle_unknown=&#x27;ignore&#x27;)</pre></div></div></div></div></div></div></div></div></div></div></div></div></div></div>"
      ],
      "text/plain": [
       "Pipeline(steps=[('columntransformer',\n",
       "                 ColumnTransformer(transformers=[('numerical_encoder',\n",
       "                                                  Pipeline(steps=[('knnimputer',\n",
       "                                                                   KNNImputer()),\n",
       "                                                                  ('minmaxscaler',\n",
       "                                                                   MinMaxScaler())]),\n",
       "                                                  ['prcp', 'snow', 'temp',\n",
       "                                                   'wpgt', 'wspd']),\n",
       "                                                 ('ordinal_encoder',\n",
       "                                                  Pipeline(steps=[('simpleimputer',\n",
       "                                                                   SimpleImputer(fill_value='missing',\n",
       "                                                                                 strategy='constant')),\n",
       "                                                                  ('ordinalencoder',\n",
       "                                                                   OrdinalEncoder(categories=[['good',\n",
       "                                                                                               'medium',\n",
       "                                                                                               'bad',\n",
       "                                                                                               'extreme']],\n",
       "                                                                                  handle_unknown='use_encoded_value',\n",
       "                                                                                  unknown_value=-1)),\n",
       "                                                                  ('minmaxscaler',\n",
       "                                                                   MinMaxScaler())]),\n",
       "                                                  ['coco']),\n",
       "                                                 ('nominal_encoder',\n",
       "                                                  Pipeline(steps=[('simpleimputer',\n",
       "                                                                   SimpleImputer(strategy='most_frequent')),\n",
       "                                                                  ('onehotencoder',\n",
       "                                                                   OneHotEncoder(handle_unknown='ignore'))]),\n",
       "                                                  ['month', 'time_of_day',\n",
       "                                                   'trip', 'weekday'])]))])"
      ]
     },
     "execution_count": 31,
     "metadata": {},
     "output_type": "execute_result"
    }
   ],
   "source": [
    "# Fit the preprocessor on the train set\n",
    "preproc.fit(X_train, y_train)"
   ]
  },
  {
   "cell_type": "code",
   "execution_count": 32,
   "metadata": {
    "id": "yWvQFoyvQv7K"
   },
   "outputs": [],
   "source": [
    "# Create the preprocessed versions of X_train and X_val\n",
    "X_train_preproc = preproc.transform(X_train)\n",
    "X_val_preproc = preproc.transform(X_val)\n",
    "\n",
    "# Let's also already create the preprocessed version of X_test for our future predictions\n",
    "X_test_preproc = preproc.transform(X_test)"
   ]
  },
  {
   "cell_type": "code",
   "execution_count": 33,
   "metadata": {
    "colab": {
     "base_uri": "https://localhost:8080/"
    },
    "id": "PYXFgN1kQv7M",
    "outputId": "227e2817-2b84-43b4-fb81-9419ed281d27"
   },
   "outputs": [
    {
     "data": {
      "text/plain": [
       "((84634, 10), (16927, 10))"
      ]
     },
     "execution_count": 33,
     "metadata": {},
     "output_type": "execute_result"
    }
   ],
   "source": [
    "# Shapes before preprocessing\n",
    "X_train.shape, X_val.shape #X_test.shape"
   ]
  },
  {
   "cell_type": "code",
   "execution_count": 34,
   "metadata": {
    "colab": {
     "base_uri": "https://localhost:8080/"
    },
    "id": "WAYemBKtQv7O",
    "outputId": "7d1fdce0-c515-4f82-be44-d549163d9430"
   },
   "outputs": [
    {
     "data": {
      "text/plain": [
       "((84634, 49), (16927, 49))"
      ]
     },
     "execution_count": 34,
     "metadata": {},
     "output_type": "execute_result"
    }
   ],
   "source": [
    "# Shapes after preprocessing\n",
    "X_train_preproc.shape, X_val_preproc.shape #,X_test_preproc.shape"
   ]
  },
  {
   "cell_type": "markdown",
   "metadata": {
    "id": "TvlR4Sd3huF8"
   },
   "source": [
    "# KNN REGRESSOR"
   ]
  },
  {
   "cell_type": "code",
   "execution_count": null,
   "metadata": {
    "colab": {
     "base_uri": "https://localhost:8080/",
     "height": 283
    },
    "id": "ItuubsDFkKEU",
    "outputId": "e422fecd-0927-45d5-e4da-b8942c1c6139"
   },
   "outputs": [],
   "source": [
    "# Run a search with cross_validate to find the optimal\n",
    "from sklearn.neighbors import KNeighborsRegressor\n",
    "\n",
    "k_range = [180, 190, 200, 210, 220, 230, 240, 250] # Totally arbitrary, but previous testing suggests it's best to use at least 180\n",
    "\n",
    "scores = []\n",
    "\n",
    "# We append the scores in the dictionary\n",
    "for k in k_range:\n",
    "    neigh = KNeighborsRegressor(n_neighbors=k)\n",
    "    cv_results = cross_validate(neigh, X_train_preproc, y_train, cv=5, \n",
    "                            scoring=['max_error',\n",
    "                                     'r2', \n",
    "                                     'neg_mean_absolute_error',\n",
    "                                     'neg_mean_squared_error']\n",
    "                           )\n",
    "    cv_results = pd.DataFrame(cv_results)\n",
    "    scores.append(cv_results['test_r2'].mean())\n",
    "       \n",
    "plt.plot(k_range, scores, label = 'Training score')\n",
    "#plt.plot(scores_, test_scores_mean, label = 'Test score')"
   ]
  },
  {
   "cell_type": "code",
   "execution_count": 180,
   "metadata": {
    "colab": {
     "base_uri": "https://localhost:8080/"
    },
    "id": "gkZ5DVQxjtvB",
    "outputId": "8ca0ae72-183c-4fc3-b047-09d1dea3c6ac"
   },
   "outputs": [
    {
     "data": {
      "text/plain": [
       "0.011849267168280785"
      ]
     },
     "execution_count": 180,
     "metadata": {},
     "output_type": "execute_result"
    }
   ],
   "source": [
    "# Use the optimal K and cross  validate more times to find a stable test result\n",
    "from sklearn.neighbors import KNeighborsRegressor\n",
    "\n",
    "neigh = KNeighborsRegressor(n_neighbors=200)\n",
    "\n",
    "cv_results = cross_validate(neigh, X_train_preproc, y_train, cv=15, \n",
    "                            scoring=['max_error',\n",
    "                                     'r2', \n",
    "                                     'neg_mean_absolute_error',\n",
    "                                     'neg_mean_squared_error']\n",
    "                           )\n",
    "cv_results = pd.DataFrame(cv_results)\n",
    "score = cv_results['test_r2'].mean()\n",
    "score"
   ]
  },
  {
   "cell_type": "code",
   "execution_count": 174,
   "metadata": {
    "colab": {
     "base_uri": "https://localhost:8080/",
     "height": 520
    },
    "id": "OtUH85Pljei5",
    "outputId": "4fe7704d-f3db-428e-a935-3ece26e1ae1e"
   },
   "outputs": [
    {
     "data": {
      "text/html": [
       "\n",
       "  <div id=\"df-145aaa13-fdd1-4e76-b6e3-05ecabde3018\">\n",
       "    <div class=\"colab-df-container\">\n",
       "      <div>\n",
       "<style scoped>\n",
       "    .dataframe tbody tr th:only-of-type {\n",
       "        vertical-align: middle;\n",
       "    }\n",
       "\n",
       "    .dataframe tbody tr th {\n",
       "        vertical-align: top;\n",
       "    }\n",
       "\n",
       "    .dataframe thead th {\n",
       "        text-align: right;\n",
       "    }\n",
       "</style>\n",
       "<table border=\"1\" class=\"dataframe\">\n",
       "  <thead>\n",
       "    <tr style=\"text-align: right;\">\n",
       "      <th></th>\n",
       "      <th>fit_time</th>\n",
       "      <th>score_time</th>\n",
       "      <th>test_max_error</th>\n",
       "      <th>test_r2</th>\n",
       "      <th>test_neg_mean_absolute_error</th>\n",
       "      <th>test_neg_mean_squared_error</th>\n",
       "    </tr>\n",
       "  </thead>\n",
       "  <tbody>\n",
       "    <tr>\n",
       "      <th>0</th>\n",
       "      <td>0.007167</td>\n",
       "      <td>0.856559</td>\n",
       "      <td>-120.0</td>\n",
       "      <td>-0.356778</td>\n",
       "      <td>-18.347056</td>\n",
       "      <td>-1063.695734</td>\n",
       "    </tr>\n",
       "    <tr>\n",
       "      <th>1</th>\n",
       "      <td>0.009172</td>\n",
       "      <td>0.894309</td>\n",
       "      <td>-120.0</td>\n",
       "      <td>-0.345745</td>\n",
       "      <td>-17.872505</td>\n",
       "      <td>-1002.411302</td>\n",
       "    </tr>\n",
       "    <tr>\n",
       "      <th>2</th>\n",
       "      <td>0.006938</td>\n",
       "      <td>0.981503</td>\n",
       "      <td>-120.0</td>\n",
       "      <td>-0.372852</td>\n",
       "      <td>-17.111028</td>\n",
       "      <td>-933.304017</td>\n",
       "    </tr>\n",
       "    <tr>\n",
       "      <th>3</th>\n",
       "      <td>0.004471</td>\n",
       "      <td>0.897237</td>\n",
       "      <td>-120.0</td>\n",
       "      <td>-0.405196</td>\n",
       "      <td>-18.849301</td>\n",
       "      <td>-1107.093812</td>\n",
       "    </tr>\n",
       "    <tr>\n",
       "      <th>4</th>\n",
       "      <td>0.004414</td>\n",
       "      <td>0.750898</td>\n",
       "      <td>-120.0</td>\n",
       "      <td>-0.334492</td>\n",
       "      <td>-17.778443</td>\n",
       "      <td>-1049.307884</td>\n",
       "    </tr>\n",
       "    <tr>\n",
       "      <th>5</th>\n",
       "      <td>0.003303</td>\n",
       "      <td>0.592639</td>\n",
       "      <td>-120.0</td>\n",
       "      <td>-0.344676</td>\n",
       "      <td>-17.788922</td>\n",
       "      <td>-1004.054391</td>\n",
       "    </tr>\n",
       "    <tr>\n",
       "      <th>6</th>\n",
       "      <td>0.003719</td>\n",
       "      <td>0.592508</td>\n",
       "      <td>-120.0</td>\n",
       "      <td>-0.345293</td>\n",
       "      <td>-18.832585</td>\n",
       "      <td>-1118.199227</td>\n",
       "    </tr>\n",
       "    <tr>\n",
       "      <th>7</th>\n",
       "      <td>0.003502</td>\n",
       "      <td>0.577999</td>\n",
       "      <td>-120.0</td>\n",
       "      <td>-0.301239</td>\n",
       "      <td>-16.966567</td>\n",
       "      <td>-950.511228</td>\n",
       "    </tr>\n",
       "    <tr>\n",
       "      <th>8</th>\n",
       "      <td>0.003281</td>\n",
       "      <td>0.568158</td>\n",
       "      <td>-120.0</td>\n",
       "      <td>-0.321321</td>\n",
       "      <td>-17.701846</td>\n",
       "      <td>-1018.100424</td>\n",
       "    </tr>\n",
       "    <tr>\n",
       "      <th>9</th>\n",
       "      <td>0.003340</td>\n",
       "      <td>0.577582</td>\n",
       "      <td>-120.0</td>\n",
       "      <td>-0.364601</td>\n",
       "      <td>-18.031437</td>\n",
       "      <td>-1050.286926</td>\n",
       "    </tr>\n",
       "    <tr>\n",
       "      <th>10</th>\n",
       "      <td>0.003405</td>\n",
       "      <td>0.608049</td>\n",
       "      <td>-120.0</td>\n",
       "      <td>-0.381535</td>\n",
       "      <td>-17.915170</td>\n",
       "      <td>-1016.654940</td>\n",
       "    </tr>\n",
       "    <tr>\n",
       "      <th>11</th>\n",
       "      <td>0.003532</td>\n",
       "      <td>0.576132</td>\n",
       "      <td>-120.0</td>\n",
       "      <td>-0.344618</td>\n",
       "      <td>-18.389222</td>\n",
       "      <td>-1072.343064</td>\n",
       "    </tr>\n",
       "    <tr>\n",
       "      <th>12</th>\n",
       "      <td>0.003276</td>\n",
       "      <td>0.601424</td>\n",
       "      <td>-120.0</td>\n",
       "      <td>-0.324860</td>\n",
       "      <td>-18.319611</td>\n",
       "      <td>-1056.369636</td>\n",
       "    </tr>\n",
       "    <tr>\n",
       "      <th>13</th>\n",
       "      <td>0.003395</td>\n",
       "      <td>0.644790</td>\n",
       "      <td>-120.0</td>\n",
       "      <td>-0.449266</td>\n",
       "      <td>-19.293164</td>\n",
       "      <td>-1156.783558</td>\n",
       "    </tr>\n",
       "    <tr>\n",
       "      <th>14</th>\n",
       "      <td>0.003390</td>\n",
       "      <td>0.612133</td>\n",
       "      <td>-120.0</td>\n",
       "      <td>-0.390466</td>\n",
       "      <td>-17.596605</td>\n",
       "      <td>-993.917624</td>\n",
       "    </tr>\n",
       "  </tbody>\n",
       "</table>\n",
       "</div>\n",
       "      <button class=\"colab-df-convert\" onclick=\"convertToInteractive('df-145aaa13-fdd1-4e76-b6e3-05ecabde3018')\"\n",
       "              title=\"Convert this dataframe to an interactive table.\"\n",
       "              style=\"display:none;\">\n",
       "        \n",
       "  <svg xmlns=\"http://www.w3.org/2000/svg\" height=\"24px\"viewBox=\"0 0 24 24\"\n",
       "       width=\"24px\">\n",
       "    <path d=\"M0 0h24v24H0V0z\" fill=\"none\"/>\n",
       "    <path d=\"M18.56 5.44l.94 2.06.94-2.06 2.06-.94-2.06-.94-.94-2.06-.94 2.06-2.06.94zm-11 1L8.5 8.5l.94-2.06 2.06-.94-2.06-.94L8.5 2.5l-.94 2.06-2.06.94zm10 10l.94 2.06.94-2.06 2.06-.94-2.06-.94-.94-2.06-.94 2.06-2.06.94z\"/><path d=\"M17.41 7.96l-1.37-1.37c-.4-.4-.92-.59-1.43-.59-.52 0-1.04.2-1.43.59L10.3 9.45l-7.72 7.72c-.78.78-.78 2.05 0 2.83L4 21.41c.39.39.9.59 1.41.59.51 0 1.02-.2 1.41-.59l7.78-7.78 2.81-2.81c.8-.78.8-2.07 0-2.86zM5.41 20L4 18.59l7.72-7.72 1.47 1.35L5.41 20z\"/>\n",
       "  </svg>\n",
       "      </button>\n",
       "      \n",
       "  <style>\n",
       "    .colab-df-container {\n",
       "      display:flex;\n",
       "      flex-wrap:wrap;\n",
       "      gap: 12px;\n",
       "    }\n",
       "\n",
       "    .colab-df-convert {\n",
       "      background-color: #E8F0FE;\n",
       "      border: none;\n",
       "      border-radius: 50%;\n",
       "      cursor: pointer;\n",
       "      display: none;\n",
       "      fill: #1967D2;\n",
       "      height: 32px;\n",
       "      padding: 0 0 0 0;\n",
       "      width: 32px;\n",
       "    }\n",
       "\n",
       "    .colab-df-convert:hover {\n",
       "      background-color: #E2EBFA;\n",
       "      box-shadow: 0px 1px 2px rgba(60, 64, 67, 0.3), 0px 1px 3px 1px rgba(60, 64, 67, 0.15);\n",
       "      fill: #174EA6;\n",
       "    }\n",
       "\n",
       "    [theme=dark] .colab-df-convert {\n",
       "      background-color: #3B4455;\n",
       "      fill: #D2E3FC;\n",
       "    }\n",
       "\n",
       "    [theme=dark] .colab-df-convert:hover {\n",
       "      background-color: #434B5C;\n",
       "      box-shadow: 0px 1px 3px 1px rgba(0, 0, 0, 0.15);\n",
       "      filter: drop-shadow(0px 1px 2px rgba(0, 0, 0, 0.3));\n",
       "      fill: #FFFFFF;\n",
       "    }\n",
       "  </style>\n",
       "\n",
       "      <script>\n",
       "        const buttonEl =\n",
       "          document.querySelector('#df-145aaa13-fdd1-4e76-b6e3-05ecabde3018 button.colab-df-convert');\n",
       "        buttonEl.style.display =\n",
       "          google.colab.kernel.accessAllowed ? 'block' : 'none';\n",
       "\n",
       "        async function convertToInteractive(key) {\n",
       "          const element = document.querySelector('#df-145aaa13-fdd1-4e76-b6e3-05ecabde3018');\n",
       "          const dataTable =\n",
       "            await google.colab.kernel.invokeFunction('convertToInteractive',\n",
       "                                                     [key], {});\n",
       "          if (!dataTable) return;\n",
       "\n",
       "          const docLinkHtml = 'Like what you see? Visit the ' +\n",
       "            '<a target=\"_blank\" href=https://colab.research.google.com/notebooks/data_table.ipynb>data table notebook</a>'\n",
       "            + ' to learn more about interactive tables.';\n",
       "          element.innerHTML = '';\n",
       "          dataTable['output_type'] = 'display_data';\n",
       "          await google.colab.output.renderOutput(dataTable, element);\n",
       "          const docLink = document.createElement('div');\n",
       "          docLink.innerHTML = docLinkHtml;\n",
       "          element.appendChild(docLink);\n",
       "        }\n",
       "      </script>\n",
       "    </div>\n",
       "  </div>\n",
       "  "
      ],
      "text/plain": [
       "    fit_time  score_time  test_max_error   test_r2  \\\n",
       "0   0.007167    0.856559          -120.0 -0.356778   \n",
       "1   0.009172    0.894309          -120.0 -0.345745   \n",
       "2   0.006938    0.981503          -120.0 -0.372852   \n",
       "3   0.004471    0.897237          -120.0 -0.405196   \n",
       "4   0.004414    0.750898          -120.0 -0.334492   \n",
       "5   0.003303    0.592639          -120.0 -0.344676   \n",
       "6   0.003719    0.592508          -120.0 -0.345293   \n",
       "7   0.003502    0.577999          -120.0 -0.301239   \n",
       "8   0.003281    0.568158          -120.0 -0.321321   \n",
       "9   0.003340    0.577582          -120.0 -0.364601   \n",
       "10  0.003405    0.608049          -120.0 -0.381535   \n",
       "11  0.003532    0.576132          -120.0 -0.344618   \n",
       "12  0.003276    0.601424          -120.0 -0.324860   \n",
       "13  0.003395    0.644790          -120.0 -0.449266   \n",
       "14  0.003390    0.612133          -120.0 -0.390466   \n",
       "\n",
       "    test_neg_mean_absolute_error  test_neg_mean_squared_error  \n",
       "0                     -18.347056                 -1063.695734  \n",
       "1                     -17.872505                 -1002.411302  \n",
       "2                     -17.111028                  -933.304017  \n",
       "3                     -18.849301                 -1107.093812  \n",
       "4                     -17.778443                 -1049.307884  \n",
       "5                     -17.788922                 -1004.054391  \n",
       "6                     -18.832585                 -1118.199227  \n",
       "7                     -16.966567                  -950.511228  \n",
       "8                     -17.701846                 -1018.100424  \n",
       "9                     -18.031437                 -1050.286926  \n",
       "10                    -17.915170                 -1016.654940  \n",
       "11                    -18.389222                 -1072.343064  \n",
       "12                    -18.319611                 -1056.369636  \n",
       "13                    -19.293164                 -1156.783558  \n",
       "14                    -17.596605                  -993.917624  "
      ]
     },
     "execution_count": 174,
     "metadata": {},
     "output_type": "execute_result"
    }
   ],
   "source": [
    "cv_results"
   ]
  },
  {
   "cell_type": "markdown",
   "metadata": {},
   "source": [
    "# XGBoost"
   ]
  },
  {
   "cell_type": "code",
   "execution_count": 22,
   "metadata": {},
   "outputs": [
    {
     "data": {
      "text/plain": [
       "-0.060746482788637125"
      ]
     },
     "execution_count": 22,
     "metadata": {},
     "output_type": "execute_result"
    }
   ],
   "source": [
    "from sklearn.ensemble import GradientBoostingRegressor\n",
    "from sklearn.model_selection import cross_validate\n",
    "\n",
    "xgb = GradientBoostingRegressor(max_depth=10, n_estimators=100, learning_rate=0.1)\n",
    "#xgb = XGBRegressor(max_depth=5, n_estimators=60, learning_rate=0.5) ### standard from lecture\n",
    "#xgb = XGBRegressor(learning_rate=0.05, max_depth = 1, n_estimators = 50) \n",
    "#(max_depth=10, n_estimators=100, learning_rate=0.1) \n",
    "\n",
    "cv_results = cross_validate(xgb, X_train_preproc, y_train, cv=15, \n",
    "                            scoring=['max_error',\n",
    "                                     'r2', \n",
    "                                     'neg_mean_absolute_error',\n",
    "                                     'neg_mean_squared_error'])\n",
    "\n",
    "#xgb.fit(transformed,y)\n",
    "cv_results = pd.DataFrame(cv_results)\n",
    "score = cv_results['test_r2'].mean()\n",
    "score"
   ]
  },
  {
   "cell_type": "markdown",
   "metadata": {
    "id": "OMtk0eYrpols"
   },
   "source": [
    "# CNN Regressor"
   ]
  },
  {
   "cell_type": "code",
   "execution_count": 194,
   "metadata": {
    "id": "AWPUN7WKQv7Q"
   },
   "outputs": [],
   "source": [
    "from tensorflow.keras import Sequential, layers\n",
    "from keras.layers import Dropout\n",
    "from tensorflow import keras\n",
    "\n",
    "def initialize_model(X):\n",
    "\n",
    "    #################################\n",
    "    #  1 - Model architecture       #\n",
    "    #################################\n",
    "    \n",
    "    model = Sequential()\n",
    "    \n",
    "    # Input Layer\n",
    "    model.add(layers.Dense(50, activation='relu', input_dim = X.shape[-1]))\n",
    "    \n",
    "    # Hidden Layers\n",
    "    model.add(layers.Dense(30, activation='relu'))\n",
    "    model.add(layers.Dense(15, activation='relu'))\n",
    "    model.add(Dropout(0.1))\n",
    "    model.add(layers.Dense(15, activation='relu'))\n",
    "    model.add(Dropout(0.15))   \n",
    "    model.add(layers.Dense(10, activation='relu'))\n",
    "    model.add(Dropout(0.2))\n",
    "    \n",
    "    # Predictive Layer\n",
    "    model.add(layers.Dense(1, activation='linear'))\n",
    "    \n",
    "    ##################################\n",
    "    #  2 - Our recommended compiler  #\n",
    "    ##################################\n",
    "    #optm = Adam(learning_rate=0.001, beta_1=0.9, beta_2=0.999, amsgrad=False)\n",
    "    opt = keras.optimizers.Adam(learning_rate=0.0005)\n",
    "\n",
    "\n",
    "    model.compile(optimizer=opt,\n",
    "                  #loss='msle')      # directly optimize for the squared log error!\n",
    "                  loss='mean_squared_error')\n",
    "    \n",
    "    return model"
   ]
  },
  {
   "cell_type": "code",
   "execution_count": null,
   "metadata": {
    "colab": {
     "base_uri": "https://localhost:8080/"
    },
    "id": "IZwiMu94Qv7R",
    "outputId": "fd8c6f3c-e42d-4aa5-c644-bf5e6929a073"
   },
   "outputs": [
    {
     "name": "stdout",
     "output_type": "stream",
     "text": [
      "Model: \"sequential_15\"\n",
      "_________________________________________________________________\n",
      " Layer (type)                Output Shape              Param #   \n",
      "=================================================================\n",
      " dense_79 (Dense)            (None, 50)                1200      \n",
      "                                                                 \n",
      " dense_80 (Dense)            (None, 30)                1530      \n",
      "                                                                 \n",
      " dense_81 (Dense)            (None, 15)                465       \n",
      "                                                                 \n",
      " dropout_30 (Dropout)        (None, 15)                0         \n",
      "                                                                 \n",
      " dense_82 (Dense)            (None, 15)                240       \n",
      "                                                                 \n",
      " dropout_31 (Dropout)        (None, 15)                0         \n",
      "                                                                 \n",
      " dense_83 (Dense)            (None, 10)                160       \n",
      "                                                                 \n",
      " dropout_32 (Dropout)        (None, 10)                0         \n",
      "                                                                 \n",
      " dense_84 (Dense)            (None, 1)                 11        \n",
      "                                                                 \n",
      "=================================================================\n",
      "Total params: 3,606\n",
      "Trainable params: 3,606\n",
      "Non-trainable params: 0\n",
      "_________________________________________________________________\n",
      "Epoch 1/150\n",
      "  4/940 [..............................] - ETA: 15s - loss: 703.9769 "
     ]
    },
    {
     "name": "stderr",
     "output_type": "stream",
     "text": [
      "/usr/local/lib/python3.7/dist-packages/tensorflow/python/data/ops/structured_function.py:265: UserWarning: Even though the `tf.config.experimental_run_functions_eagerly` option is set, this option does not apply to tf.data functions. To force eager execution of tf.data functions, please use `tf.data.experimental.enable_debug_mode()`.\n",
      "  \"Even though the `tf.config.experimental_run_functions_eagerly` \"\n"
     ]
    },
    {
     "name": "stdout",
     "output_type": "stream",
     "text": [
      "940/940 [==============================] - 19s 20ms/step - loss: 798.8979 - val_loss: 802.1256\n",
      "Epoch 2/150\n",
      "940/940 [==============================] - 17s 18ms/step - loss: 774.8044 - val_loss: 799.2811\n",
      "Epoch 3/150\n",
      "940/940 [==============================] - 18s 19ms/step - loss: 769.5433 - val_loss: 801.8110\n",
      "Epoch 4/150\n",
      "940/940 [==============================] - 19s 20ms/step - loss: 769.1176 - val_loss: 797.8961\n",
      "Epoch 5/150\n",
      "940/940 [==============================] - 19s 20ms/step - loss: 767.3867 - val_loss: 795.4204\n",
      "Epoch 6/150\n",
      "940/940 [==============================] - 19s 20ms/step - loss: 766.2794 - val_loss: 794.1146\n",
      "Epoch 7/150\n",
      "940/940 [==============================] - 17s 18ms/step - loss: 766.0490 - val_loss: 794.9700\n",
      "Epoch 8/150\n",
      "940/940 [==============================] - 19s 20ms/step - loss: 764.8331 - val_loss: 800.6851\n",
      "Epoch 9/150\n",
      "940/940 [==============================] - 17s 19ms/step - loss: 762.5292 - val_loss: 792.2918\n",
      "Epoch 10/150\n",
      "940/940 [==============================] - 17s 18ms/step - loss: 762.3535 - val_loss: 793.8771\n",
      "Epoch 11/150\n",
      "940/940 [==============================] - 17s 18ms/step - loss: 762.1686 - val_loss: 792.8128\n",
      "Epoch 12/150\n",
      "940/940 [==============================] - ETA: 0s - loss: 758.3757"
     ]
    }
   ],
   "source": [
    "import tensorflow as tf\n",
    "from tensorflow.keras.callbacks import EarlyStopping\n",
    "tf.config.run_functions_eagerly(True)\n",
    "\n",
    "es = EarlyStopping(patience=5, restore_best_weights=True)\n",
    "\n",
    "model = initialize_model(X_train_preproc)\n",
    "model.summary()\n",
    "\n",
    "# Training the model\n",
    "epochs = 150\n",
    "batch_size = 32\n",
    "\n",
    "history = model.fit(X_train_preproc, \n",
    "                    y_train,\n",
    "                    validation_data = (X_val_preproc, y_val),\n",
    "                    epochs = epochs,         \n",
    "                    batch_size = batch_size, \n",
    "                    callbacks=[es],\n",
    "                    verbose = 1)\n",
    "\n",
    "# 3. Evaluating the model\n",
    "res = model.evaluate(X_val_preproc, y_val, verbose = 0)\n",
    "print(f\"RMLSE achieved after {epochs} epochs = {round(res**0.5,3)}\")\n",
    "\n",
    "# 4. Looking at the lowest loss\n",
    "minimium_rmlse_val = min(history.history['val_loss'])**0.5\n",
    "optimal_momentum = np.argmin(history.history['val_loss'])\n",
    "\n",
    "print(f\"Lowest RMLSE achieved = {round(minimium_rmlse_val,3)}\")\n",
    "print(f\"This was achieved at the epoch number {optimal_momentum}\") "
   ]
  },
  {
   "cell_type": "code",
   "execution_count": 189,
   "metadata": {
    "colab": {
     "base_uri": "https://localhost:8080/"
    },
    "id": "Xmr4mFN5u0yW",
    "outputId": "44f05529-aae5-4c9e-f5f3-f4f9bc471d4d"
   },
   "outputs": [
    {
     "data": {
      "text/plain": [
       "38861    18\n",
       "20935     1\n",
       "16228     0\n",
       "33441     0\n",
       "33173     0\n",
       "         ..\n",
       "19106    21\n",
       "12882     0\n",
       "10488     3\n",
       "21925     0\n",
       "26760     0\n",
       "Name: target_numeric, Length: 30059, dtype: int64"
      ]
     },
     "execution_count": 189,
     "metadata": {},
     "output_type": "execute_result"
    }
   ],
   "source": [
    "y_train"
   ]
  },
  {
   "cell_type": "markdown",
   "metadata": {
    "id": "n3pq_etOQv7S"
   },
   "source": [
    "# SCORING"
   ]
  },
  {
   "cell_type": "code",
   "execution_count": 184,
   "metadata": {
    "colab": {
     "base_uri": "https://localhost:8080/",
     "height": 295
    },
    "id": "AiSoVXwvQv7Y",
    "outputId": "ad7b56c8-b45f-4aa6-8eec-fcc9ea67ae3c"
   },
   "outputs": [
    {
     "data": {
      "image/png": "[encoded data removed]",
      "text/plain": [
       "<Figure size 432x288 with 1 Axes>"
      ]
     },
     "metadata": {
      "needs_background": "light"
     },
     "output_type": "display_data"
    }
   ],
   "source": [
    "def plot_history(history):\n",
    "    plt.plot(np.sqrt(history.history['loss']))\n",
    "    plt.plot(np.sqrt(history.history['val_loss']))\n",
    "    plt.title('Model Loss')\n",
    "    plt.ylabel('RMSLE')\n",
    "    plt.xlabel('Epoch')\n",
    "    plt.legend(['Train', 'Val'], loc='best')\n",
    "    plt.show()\n",
    "  \n",
    "plot_history(history)"
   ]
  },
  {
   "cell_type": "markdown",
   "metadata": {
    "id": "6CO0jBktQv7e"
   },
   "source": [
    "# PREDICTION"
   ]
  },
  {
   "cell_type": "code",
   "execution_count": null,
   "metadata": {
    "id": "h4koCCfnQv7f"
   },
   "outputs": [],
   "source": [
    "X_test_preproc = preproc.transform(X_test)\n",
    "predictions = model.predict(X_test_preproc)"
   ]
  },
  {
   "cell_type": "code",
   "execution_count": null,
   "metadata": {
    "colab": {
     "base_uri": "https://localhost:8080/",
     "height": 298
    },
    "id": "NBweufNPQv7g",
    "outputId": "53e7c945-1f28-45d7-9333-2e9cd7cd018b"
   },
   "outputs": [
    {
     "data": {
      "text/plain": [
       "<matplotlib.axes._subplots.AxesSubplot at 0x7f317c44f2d0>"
      ]
     },
     "execution_count": 50,
     "metadata": {},
     "output_type": "execute_result"
    },
    {
     "data": {
      "image/png": "[encoded data removed]",
      "text/plain": [
       "<Figure size 432x288 with 1 Axes>"
      ]
     },
     "metadata": {
      "needs_background": "light"
     },
     "output_type": "display_data"
    }
   ],
   "source": [
    "sns.histplot(y_train)"
   ]
  },
  {
   "cell_type": "code",
   "execution_count": null,
   "metadata": {
    "colab": {
     "base_uri": "https://localhost:8080/",
     "height": 283
    },
    "id": "EnQkEzyZQv7i",
    "outputId": "0175f7db-df0d-4639-ee82-73e959a340f4"
   },
   "outputs": [
    {
     "data": {
      "text/plain": [
       "<matplotlib.axes._subplots.AxesSubplot at 0x7f317ca76d50>"
      ]
     },
     "execution_count": 54,
     "metadata": {},
     "output_type": "execute_result"
    },
    {
     "data": {
      "image/png": "[encoded data removed]",
      "text/plain": [
       "<Figure size 432x288 with 1 Axes>"
      ]
     },
     "metadata": {
      "needs_background": "light"
     },
     "output_type": "display_data"
    }
   ],
   "source": [
    "sns.histplot(predictions,bins=100)"
   ]
  },
  {
   "cell_type": "code",
   "execution_count": null,
   "metadata": {
    "colab": {
     "base_uri": "https://localhost:8080/"
    },
    "id": "KhuFE32-Qv7j",
    "outputId": "f9b11008-d10e-4295-c09b-ecbc502fd915"
   },
   "outputs": [
    {
     "data": {
      "text/plain": [
       "-0.1388238702116713"
      ]
     },
     "execution_count": 55,
     "metadata": {},
     "output_type": "execute_result"
    }
   ],
   "source": [
    "#calculate error of test (unfinished)\n",
    "errordf = pd.DataFrame(predictions, np.array(y_test)).reset_index()\n",
    "errordf.columns = ['actual','predicted']\n",
    "np.log(np.exp(errordf['predicted'] - errordf['actual'])).mean()\n",
    "\n",
    "\n"
   ]
  },
  {
   "cell_type": "markdown",
   "metadata": {
    "colab": {
     "base_uri": "https://localhost:8080/",
     "height": 424
    },
    "id": "7DPQ8oIzSQpV",
    "outputId": "ea9230d3-2900-4896-f605-d8c39f0ddf69"
   },
   "source": [
    "# SAVING"
   ]
  },
  {
   "cell_type": "code",
   "execution_count": null,
   "metadata": {},
   "outputs": [],
   "source": [
    "from sklearn.pipeline import Pipeline\n",
    "import joblib\n",
    "\n",
    "model_name = model\n",
    "\n",
    "pipeline = Pipeline([\n",
    "      ('pipeline', create_preproc(X_train)),\n",
    "      ('model', model_name)\n",
    "    ])\n",
    "pipeline.fit(X_train, y_train)\n",
    "\n",
    "joblib.dump(pipeline, 'model.joblib')"
   ]
  },
  {
   "cell_type": "code",
   "execution_count": null,
   "metadata": {},
   "outputs": [],
   "source": [
    "# This is for loading an existing model\n",
    "\n",
    "model_api = joblib.load('model.joblib')\n",
    "print(model_api.predict(X_test)) # X_test here is in the same format as preprocessed data, pipeline is included in the model\n",
    "print(model_api.predict_proba(X_test))"
   ]
  }
 ],
 "metadata": {
  "accelerator": "GPU",
  "colab": {
   "collapsed_sections": [],
   "name": "Models_Regression.ipynb",
   "provenance": [],
   "toc_visible": true
  },
  "interpreter": {
   "hash": "1fec01d925059a361c1e9f9aa6fb98d44a04ad369f384098a87eb49d1ad96cd7"
  },
  "kernelspec": {
   "display_name": "Python 3 (ipykernel)",
   "language": "python",
   "name": "python3"
  },
  "language_info": {
   "codemirror_mode": {
    "name": "ipython",
    "version": 3
   },
   "file_extension": ".py",
   "mimetype": "text/x-python",
   "name": "python",
   "nbconvert_exporter": "python",
   "pygments_lexer": "ipython3",
   "version": "3.8.12"
  }
 },
 "nbformat": 4,
 "nbformat_minor": 4
}
