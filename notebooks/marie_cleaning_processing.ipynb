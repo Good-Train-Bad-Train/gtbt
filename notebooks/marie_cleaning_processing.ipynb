{
 "cells": [
  {
   "cell_type": "markdown",
   "metadata": {},
   "source": [
    "## PACKAGES"
   ]
  },
  {
   "cell_type": "code",
   "execution_count": 151,
   "metadata": {},
   "outputs": [],
   "source": [
    "# packages\n",
    "import pandas as pd\n",
    "import numpy as np\n",
    "import seaborn as sns"
   ]
  },
  {
   "cell_type": "markdown",
   "metadata": {},
   "source": [
    "## DATA"
   ]
  },
  {
   "cell_type": "code",
   "execution_count": 152,
   "metadata": {},
   "outputs": [],
   "source": [
    "df1 = pd.read_csv('../goodtrainbadtrain/data/select_2020.csv',encoding='iso-8859-2',sep=';')\n",
    "df2 = pd.read_csv('../goodtrainbadtrain/data/select_2021.csv',encoding='iso-8859-2',sep=';')\n",
    "df3 = pd.read_csv('../goodtrainbadtrain/data/select_2022.csv',encoding='iso-8859-2',sep=';')\n",
    "\n",
    "df = pd.concat([df1, df2, df3])\n"
   ]
  },
  {
   "cell_type": "markdown",
   "metadata": {},
   "source": [
    "## FILTER"
   ]
  },
  {
   "cell_type": "code",
   "execution_count": 153,
   "metadata": {},
   "outputs": [],
   "source": [
    "#filter for München and Köln\n",
    "df = df.query(\"bhf in ('München Hbf', 'Köln Hbf', 'Köln Messe/Deutz Gl.11-12')\")"
   ]
  },
  {
   "cell_type": "markdown",
   "metadata": {},
   "source": [
    "## PROCESS AND CLEAN"
   ]
  },
  {
   "cell_type": "code",
   "execution_count": 154,
   "metadata": {},
   "outputs": [],
   "source": [
    "#1) cleaning of train names \n",
    "#some letters of 'zugnr' are not capitalized\n",
    "df['zugnr'] = df['zugnr'].str.upper()\n",
    "\n",
    "#2)process of 9999 in arrTime and depTime: add new column with info \n",
    "df['start_or_endpoint'] = 'nan'\n",
    "df.loc[df['arrTime'] == 9999, 'start_or_endpoint'] = 'start'\n",
    "df.loc[df['depTime'] == 9999, 'start_or_endpoint'] = 'end'\n",
    "#overwrite 9999 with respective arr/dep time of same observation (in new clean columns)\n",
    "df['arrTime_clean'] = np.where(df['arrTime'] == 9999, df['depTime'], df['arrTime'])\n",
    "df['depTime_clean'] = np.where(df['depTime'] == 9999, df['arrTime'], df['depTime'])\n",
    "\n",
    "#3)some times need to be filled up with 0's. eg. '5' -> 00:05\n",
    "df['arrTime_clean'] = df['arrTime_clean'].astype(str)\n",
    "df['arrTime_clean'] = df['arrTime_clean'].map(lambda a: a.zfill(4))\n",
    "df['depTime_clean'] = df['depTime_clean'].astype(str)\n",
    "df['depTime_clean'] = df['depTime_clean'].map(lambda a: a.zfill(4))"
   ]
  },
  {
   "cell_type": "markdown",
   "metadata": {},
   "source": [
    "## FEATURE ENGENEERING"
   ]
  },
  {
   "cell_type": "code",
   "execution_count": 155,
   "metadata": {},
   "outputs": [
    {
     "name": "stderr",
     "output_type": "stream",
     "text": [
      "/var/folders/0v/92j280qj2j971syqfbthtx0r0000gn/T/ipykernel_97742/2198015154.py:3: FutureWarning: The default value of regex will change from True to False in a future version.\n",
      "  df['city'] = df['city'].str.replace('Köln Messe/Deutz Gl.11-12','Köln')\n"
     ]
    }
   ],
   "source": [
    "#1)add city feature (merged Köln Hbf/ Messe Deutz)\n",
    "df['city'] = df.bhf\n",
    "df['city'] = df['city'].str.replace('Köln Messe/Deutz Gl.11-12','Köln')\n",
    "df['city'] = df['city'].str.replace('Köln Hbf','Köln')\n",
    "df['city'] = df['city'].str.replace('München Hbf','München')\n",
    "\n",
    "#2) add date column\n",
    "df['date'] = df['datum'] + ' ' + df['arrTime_clean']\n",
    "df['date'] = pd.to_datetime(df['date'], format='%Y-%m-%d %H%M')\n",
    "#3) add month of the year \n",
    "df['weekday'] = df['date'].dt.day_name()\n",
    "#4) add month of the year \n",
    "df['month'] = df['date'].dt.month_name()\n",
    "\n",
    "#todo\n",
    "#3) add public holiday\n",
    "#4) add covid lockdown?\n",
    "#5) add weather variables"
   ]
  },
  {
   "cell_type": "markdown",
   "metadata": {},
   "source": [
    "# TARGET PROCESSING"
   ]
  },
  {
   "cell_type": "code",
   "execution_count": 156,
   "metadata": {},
   "outputs": [],
   "source": [
    "#1) into several categories\n",
    "# adelay-> into categories: no delay, small delay, medium delay, (big delay/cancellation)\n",
    "max = df.adelay.max()\n",
    "bins = [-2, -0.1, 0, 5, 30, max]\n",
    "group_names = ['large delay/cancelled','on time','small delay', 'medium delay', 'large delay/cancelled']\n",
    "df['target'] = pd.cut(df['adelay'], bins, labels=group_names, ordered=False)\n",
    "\n",
    "#value counts of target:\n",
    "#on time                  67336\n",
    "#small delay              28649\n",
    "#medium delay             23617\n",
    "#large delay/cancelled    10677\n",
    "\n",
    "#2) binary target (on time - or not)\n",
    "df['target_binary'] =  (df['adelay'] == 0)*1\n",
    "\n",
    "#3) numeric target (cancelled and extreme values = 120 Min)\n",
    "df['target_numeric'] = df['adelay']\n",
    "df['target_numeric'] = np.where(df['target_numeric'] == -1, 120, df['target_numeric'])\n",
    "df['target_numeric'] = np.where(df['target_numeric'] > 120, 120, df['target_numeric'])\n",
    "#sns.boxplot(df['target_numeric'])"
   ]
  },
  {
   "cell_type": "markdown",
   "metadata": {},
   "source": [
    "# CORRELATION / TARGET VISUALIZATION"
   ]
  },
  {
   "cell_type": "code",
   "execution_count": 161,
   "metadata": {},
   "outputs": [
    {
     "data": {
      "text/plain": [
       "<AxesSubplot:xlabel='weekday', ylabel='target_numeric'>"
      ]
     },
     "execution_count": 161,
     "metadata": {},
     "output_type": "execute_result"
    },
    {
     "data": {
      "image/png": "[encoded data removed]",
      "text/plain": [
       "<Figure size 432x288 with 1 Axes>"
      ]
     },
     "metadata": {
      "needs_background": "light"
     },
     "output_type": "display_data"
    }
   ],
   "source": [
    "sns.barplot(x= df.weekday, y=df.target_numeric)"
   ]
  },
  {
   "cell_type": "code",
   "execution_count": 164,
   "metadata": {},
   "outputs": [
    {
     "data": {
      "text/plain": [
       "<AxesSubplot:xlabel='month', ylabel='target_numeric'>"
      ]
     },
     "execution_count": 164,
     "metadata": {},
     "output_type": "execute_result"
    },
    {
     "data": {
      "image/png": "[encoded data removed]",
      "text/plain": [
       "<Figure size 432x288 with 1 Axes>"
      ]
     },
     "metadata": {
      "needs_background": "light"
     },
     "output_type": "display_data"
    }
   ],
   "source": [
    "sns.barplot(x= df.month, y=df.target_numeric)"
   ]
  },
  {
   "cell_type": "code",
   "execution_count": null,
   "metadata": {},
   "outputs": [],
   "source": []
  },
  {
   "cell_type": "code",
   "execution_count": null,
   "metadata": {},
   "outputs": [],
   "source": []
  },
  {
   "cell_type": "code",
   "execution_count": null,
   "metadata": {},
   "outputs": [],
   "source": []
  },
  {
   "cell_type": "code",
   "execution_count": null,
   "metadata": {},
   "outputs": [],
   "source": []
  },
  {
   "cell_type": "code",
   "execution_count": null,
   "metadata": {},
   "outputs": [],
   "source": []
  }
 ],
 "metadata": {
  "interpreter": {
   "hash": "1fec01d925059a361c1e9f9aa6fb98d44a04ad369f384098a87eb49d1ad96cd7"
  },
  "kernelspec": {
   "display_name": "Python 3.8.13 ('shims': virtualenv)",
   "language": "python",
   "name": "python3"
  },
  "language_info": {
   "codemirror_mode": {
    "name": "ipython",
    "version": 3
   },
   "file_extension": ".py",
   "mimetype": "text/x-python",
   "name": "python",
   "nbconvert_exporter": "python",
   "pygments_lexer": "ipython3",
   "version": "3.8.13"
  },
  "orig_nbformat": 4
 },
 "nbformat": 4,
 "nbformat_minor": 2
}
