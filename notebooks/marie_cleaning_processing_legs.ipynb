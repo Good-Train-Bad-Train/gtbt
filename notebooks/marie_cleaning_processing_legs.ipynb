{
 "cells": [
  {
   "cell_type": "markdown",
   "metadata": {},
   "source": [
    "# PACKAGES"
   ]
  },
  {
   "cell_type": "code",
   "execution_count": 1,
   "metadata": {},
   "outputs": [],
   "source": [
    "# packages\n",
    "import pandas as pd\n",
    "import numpy as np\n",
    "import seaborn as sns\n",
    "from datetime import datetime as dt\n",
    "from datetime import timedelta"
   ]
  },
  {
   "cell_type": "markdown",
   "metadata": {},
   "source": [
    "# DATA"
   ]
  },
  {
   "cell_type": "code",
   "execution_count": 2,
   "metadata": {},
   "outputs": [],
   "source": [
    "df1 = pd.read_csv('../goodtrainbadtrain/data/select2_2020.csv',sep=',')\n",
    "df2 = pd.read_csv('../goodtrainbadtrain/data/select2_2021.csv',sep=',')\n",
    "df3 = pd.read_csv('../goodtrainbadtrain/data/select2_2022.csv',sep=',')\n",
    "\n",
    "df = pd.concat([df1, df2, df3])"
   ]
  },
  {
   "cell_type": "markdown",
   "metadata": {},
   "source": [
    "# FILTER"
   ]
  },
  {
   "cell_type": "code",
   "execution_count": 3,
   "metadata": {},
   "outputs": [],
   "source": [
    "#filter for München and Köln\n",
    "df = df.query(\"bhf in ('München Hbf', 'Köln Hbf',  'Köln Messe/Deutz Gl.11-12',  'Frankfurt(M) Flughafen Fernbf', 'Mannheim Hbf',  'Stuttgart Hbf','Würzburg Hbf', 'Frankfurt(Main) Hbf','Nürnberg Hbf','Berlin Hbf', 'Berlin Hbf (tief)','Hamburg Hbf','Essen Hbf','Hagen(Westf) Bahnhof','Hagen Hbf','Hannover Hbf','Erfurt Hbf','Göttingen')\")"
   ]
  },
  {
   "cell_type": "markdown",
   "metadata": {},
   "source": [
    "# PROCESS AND CLEAN"
   ]
  },
  {
   "cell_type": "code",
   "execution_count": 4,
   "metadata": {},
   "outputs": [],
   "source": [
    "#1) cleaning of train names \n",
    "#some letters of 'zugnr' are not capitalized\n",
    "df['zugnr'] = df['zugnr'].str.upper()\n",
    "\n",
    "#2)process of 9999 in arrTime and depTime: add new column with info \n",
    "df['start_or_endpoint'] = 'nan'\n",
    "df.loc[df['arrTime'] == 9999, 'start_or_endpoint'] = 'start'\n",
    "df.loc[df['depTime'] == 9999, 'start_or_endpoint'] = 'end'\n",
    "#overwrite 9999 with respective arr/dep time of same observation (in new clean columns)\n",
    "df['arrTime_clean'] = np.where(df['arrTime'] == 9999, df['depTime'], df['arrTime'])\n",
    "df['depTime_clean'] = np.where(df['depTime'] == 9999, df['arrTime'], df['depTime'])\n",
    "\n",
    "#3)some times need to be filled up with 0's. eg. '5' -> 00:05\n",
    "df['arrTime_clean'] = df['arrTime_clean'].astype(str)\n",
    "df['arrTime_clean'] = df['arrTime_clean'].map(lambda a: a.zfill(4))\n",
    "df['depTime_clean'] = df['depTime_clean'].astype(str)\n",
    "df['depTime_clean'] = df['depTime_clean'].map(lambda a: a.zfill(4))"
   ]
  },
  {
   "cell_type": "markdown",
   "metadata": {},
   "source": [
    "# FEATURE ENGENEERING"
   ]
  },
  {
   "cell_type": "code",
   "execution_count": 6,
   "metadata": {},
   "outputs": [
    {
     "name": "stderr",
     "output_type": "stream",
     "text": [
      "/var/folders/qr/sbnhxw8x63b6sw4qtnjdcnb00000gn/T/ipykernel_2289/681295108.py:24: FutureWarning: The default value of regex will change from True to False in a future version.\n",
      "  df['city'] = df['city'].str.replace(key, city_dictionary[key])\n"
     ]
    }
   ],
   "source": [
    "#1)add city feature (merged Köln Hbf/ Messe Deutz)\n",
    "df['city'] = df.bhf\n",
    "\n",
    "city_dictionary = {'Köln Messe/Deutz Gl.11-12':'Köln',\n",
    "              'Köln Hbf':'Köln',\n",
    "              'München Hbf':'München',\n",
    "              'Frankfurt(M) Flughafen Fernbf':'Frankfurt',\n",
    "              'Frankfurt(Main) Hbf':'Frankfurt',\n",
    "              'Nürnberg Hbf':'Nürnberg',\n",
    "              'Stuttgart Hbf':'Stuttgart',\n",
    "              'Würzburg Hbf':'Würzburg',\n",
    "              'Mannheim Hbf':'Mannheim',\n",
    "              'Essen Hbf':'Essen',\n",
    "              'Hamburg Hbf':'Hamburg',\n",
    "              'Berlin Hbf':'Berlin',\n",
    "              'Berlin (tief)':'Berlin',\n",
    "              'Hannover Hbf':'Hannover',\n",
    "              'Berlin Hbf (tief)':'Berlin',\n",
    "              'Hagen Hbf':'Hagen',\n",
    "              'Erfurt Hbf':'Erfurt', \n",
    "              'Göttingen':'Göttingen'} \n",
    "\n",
    "for key in city_dictionary.keys():\n",
    "    df['city'] = df['city'].str.replace(key, city_dictionary[key])\n",
    "     \n",
    "#code above does not work for berlin and frankfurt; workaround:\n",
    "df['city'] = df['city'].apply(lambda x: x.replace('Frankfurt(M) Flughafen Fernbf','Frankfurt'))\n",
    "df['city'] = df['city'].apply(lambda x: x.replace('Berlin (tief)','Berlin'))\n",
    "\n",
    "#2) add date column\n",
    "df['date'] = df['datum'] + ' ' + df['arrTime_clean']\n",
    "df['date'] = pd.to_datetime(df['date'], format='%Y-%m-%d %H%M')\n",
    "\n",
    "#3a) add weekday \n",
    "df['weekday'] = df['date'].dt.day_name()\n",
    "\n",
    "#3a) add binary weekend-week \n",
    "df['weekend'] = (df['weekday'] == 'Sunday') | (df['weekday'] == 'Saturday')\n",
    "\n",
    "#4) add month of the year \n",
    "df['month'] = df['date'].dt.month_name()\n",
    "\n",
    "#time of the day\n",
    "df['time_of_day'] = pd.cut(pd.to_datetime(df.date).dt.hour,\n",
    "       bins=[0, 6, 12, 18, 24],\n",
    "       labels=['night', 'morning', 'afternoon', 'evening'],\n",
    "       right=False,\n",
    "       include_lowest=True)\n",
    "\n",
    "#5 time of day in circular \n",
    "seconds_in_day = 24*60*60\n",
    "df['seconds'] = pd.to_datetime(df.date).dt.time.astype(str)\n",
    "df['seconds'] = df['seconds'].map(lambda a: sum(x * int(t) for x, t in zip([3600, 60, 1], a.split(\":\"))))\n",
    "df['sin_time'] = np.sin(2*np.pi*df.seconds/seconds_in_day)\n",
    "df['cos_time'] = np.cos(2*np.pi*df.seconds/seconds_in_day)\n",
    "df.drop('seconds', axis=1, inplace=True)\n",
    "\n",
    "#6 circular day of the year\n",
    "from datetime import date\n",
    "days_in_year = 366\n",
    "df['day_of_year'] = df.date.map(lambda x: x.strftime('%j')).astype(int)\n",
    "df['sin_day'] = np.sin(2*np.pi*df.day_of_year/days_in_year)\n",
    "df['cos_day'] = np.cos(2*np.pi*df.day_of_year/days_in_year)\n",
    "df.drop('day_of_year', axis=1, inplace=True)\n",
    "\n",
    "#todo\n",
    "#7) add public holiday\n",
    "holidays = pd.read_csv('../goodtrainbadtrain/data/holidays.csv',sep=',')\n",
    "holidays = holidays['date'].to_list()\n",
    "\n",
    "def check_holiday(date):\n",
    "    if date in holidays:\n",
    "        return True\n",
    "    else:\n",
    "        return False\n",
    "\n",
    "df['public_holiday'] =  df.datum.map(lambda x: check_holiday(x))\n",
    "\n",
    "#8) add covid lockdown\n",
    "def process_time(intime, start, end):\n",
    "    if start <= intime <= end:\n",
    "        return True\n",
    "    else:\n",
    "        return False\n",
    "\n",
    "start1 = dt.fromisoformat('2020-03-15'); end1 = dt.fromisoformat('2020-06-23')\n",
    "start2 = dt.fromisoformat('2021-01-10'); end2 = dt.fromisoformat('2021-05-24')\n",
    "\n",
    "df['covid_lockdown1'] = df['date'].map(lambda x: process_time(x, start1, end1))\n",
    "df['covid_lockdown2'] = df['date'].map(lambda x: process_time(x, start2, end2))\n",
    "\n",
    "df['covid_lockdown'] = df['covid_lockdown1'] | df['covid_lockdown2']\n",
    "df.drop('covid_lockdown1',axis=1, inplace=True)\n",
    "df.drop('covid_lockdown2',axis=1, inplace=True)"
   ]
  },
  {
   "cell_type": "markdown",
   "metadata": {},
   "source": [
    "# ADD DIRECTON INFO"
   ]
  },
  {
   "cell_type": "code",
   "execution_count": 7,
   "metadata": {},
   "outputs": [
    {
     "name": "stderr",
     "output_type": "stream",
     "text": [
      "/var/folders/qr/sbnhxw8x63b6sw4qtnjdcnb00000gn/T/ipykernel_2289/4022885334.py:52: FutureWarning: The default value of regex will change from True to False in a future version.\n",
      "  journeys_long['origin_city'] = journeys_long['origin_city'].str.replace(key, city_dictionary[key])\n",
      "/var/folders/qr/sbnhxw8x63b6sw4qtnjdcnb00000gn/T/ipykernel_2289/4022885334.py:53: FutureWarning: The default value of regex will change from True to False in a future version.\n",
      "  journeys_long['destination_city'] = journeys_long['destination_city'].str.replace(key, city_dictionary[key])\n"
     ]
    }
   ],
   "source": [
    "journeys = pd.read_csv('../goodtrainbadtrain/data/journeylist_withberlin.csv')\n",
    "\n",
    "#processing\n",
    "journeys = journeys[journeys.leg1_train.notna()] #delete duplicated trips that once go to köln hbf and once to deutz\n",
    "journeys = journeys[journeys.leg2_train.notna()] \n",
    "journeys = journeys[journeys.leg3_train.notna()] \n",
    "\n",
    "journeys = journeys.drop(['Unnamed: 0'],axis=1) \n",
    "journeys['key_ID'] = list(range(journeys.shape[0]))\n",
    "\n",
    "#rename columns (necessary for wide_to_long function)\n",
    "journeys.columns = [ 'date', 'weekday', 'month', 'journey_origin',\n",
    "       'journey_destination', 'journey_start', 'journey_end',\n",
    "       'journey_duration', 'journey_numberlegs', \n",
    "       'train_leg1', 'origin_leg1','destination_leg1', 'start_leg1', 'end_leg1', 'duration_leg1',\n",
    "       'train_leg2', 'origin_leg2', 'destination_leg2', 'start_leg2','end_leg2', 'duration_leg2', \n",
    "       'train_leg3', 'origin_leg3','destination_leg3', 'start_leg3', 'end_leg3', 'duration_leg3', \n",
    "       'key_ID']\n",
    "\n",
    "journeys_long = pd.wide_to_long(df = journeys,\n",
    "                                stubnames=['train', 'origin','destination', 'start', 'end', 'duration'],\n",
    "                                i=['key_ID'],\n",
    "                                j='leg',\n",
    "                                sep = '_',\n",
    "                                suffix='.+').reset_index()\n",
    "\n",
    "#delete empty legs\n",
    "journeys_long = journeys_long[journeys_long.train != '-1']\n",
    "journeys_long = journeys_long[journeys_long.origin != '-1']\n",
    "\n",
    "#reorder columns\n",
    "journeys_long = journeys_long[['key_ID', \n",
    " 'journey_origin', 'journey_destination','journey_start','journey_end','journey_duration', 'journey_numberlegs',\n",
    " 'leg', 'train', 'origin', 'destination', 'start', 'end','duration',\n",
    " 'date', 'month','weekday']]\n",
    "\n",
    "def date_transformation(df, columns):\n",
    "    for col in columns:\n",
    "        df[col] = df[col].str.split('+', expand=True)[[0]]\n",
    "        df[col] = pd.to_datetime(df[col])\n",
    "    return df\n",
    "\n",
    "journeys_long = date_transformation(journeys_long, ['journey_start', 'journey_end']) #, 'start', 'end'])\n",
    "journeys_long['month'] = journeys_long['journey_start'].dt.month_name()\n",
    "journeys_long['weekday'] = journeys_long['journey_start'].dt.day_name()\n",
    "\n",
    "#add columns with city name\n",
    "journeys_long['origin_city'] = journeys_long.origin\n",
    "journeys_long['destination_city'] = journeys_long.destination\n",
    "\n",
    "for key in city_dictionary.keys():\n",
    "    journeys_long['origin_city'] = journeys_long['origin_city'].str.replace(key, city_dictionary[key])\n",
    "    journeys_long['destination_city'] = journeys_long['destination_city'].str.replace(key, city_dictionary[key])\n",
    "    \n",
    "#code above does not work for berlin and frankfurt; workaround:\n",
    "journeys_long['origin_city'] = journeys_long['origin_city'].apply(lambda x: x.replace('Frankfurt(M) Flughafen Fernbf','Frankfurt'))\n",
    "journeys_long['origin_city'] = journeys_long['origin_city'].apply(lambda x: x.replace('Frankfurt(M) Flughafen Fernbf','Frankfurt'))\n",
    "journeys_long['destination_city'] = journeys_long['destination_city'].apply(lambda x: x.replace('Berlin (tief)','Berlin'))\n",
    "journeys_long['destination_city'] = journeys_long['destination_city'].apply(lambda x: x.replace('Berlin (tief)','Berlin'))\n",
    "\n",
    "\n",
    "#add column trip (eg. Berlin-Köln)\n",
    "journeys_long['trip'] = journeys_long['origin_city'] + '-' + journeys_long['destination_city']\n",
    "\n",
    "ice_df = journeys_long[['origin_city','destination_city','trip','train']].groupby(['origin_city','destination_city','trip'])['train'].apply(','.join).reset_index()\n",
    "\n",
    "df_list = []\n",
    "\n",
    "for index, row in ice_df.iterrows():\n",
    "    data = df[df.city == row.destination_city]\n",
    "    data = data[data['zugnr'].isin(row.train.split(','))]\n",
    "    data['trip'] = row.trip\n",
    "    data['origin_city'] = row.origin_city\n",
    "    data['destination_city'] = row.destination_city\n",
    "    df_list.append(data) \n",
    "\n",
    "df = pd.concat(df_list, ignore_index = True)"
   ]
  },
  {
   "cell_type": "markdown",
   "metadata": {},
   "source": [
    "# ADD WEATHER"
   ]
  },
  {
   "cell_type": "code",
   "execution_count": 8,
   "metadata": {},
   "outputs": [],
   "source": [
    "#5) add weather variables\n",
    "df['sharp_date'] = df['date'].dt.round('H')\n",
    "#df['sharp_date']  = df.sharp_date.astype('str')\n",
    "\n",
    "cgn_data = pd.read_csv('../goodtrainbadtrain/data/koln.csv', parse_dates=['time'])\n",
    "muc_data = pd.read_csv('../goodtrainbadtrain/data/munchen.csv', parse_dates=['time'])\n",
    "\n",
    "fra_data = pd.read_csv('../goodtrainbadtrain/data/frankfurt.csv', parse_dates=['time'])\n",
    "man_data = pd.read_csv('../goodtrainbadtrain/data/mannheim.csv', parse_dates=['time'])\n",
    "nur_data = pd.read_csv('../goodtrainbadtrain/data/nurnberg.csv', parse_dates=['time'])\n",
    "stu_data = pd.read_csv('../goodtrainbadtrain/data/stuttgart.csv', parse_dates=['time'])\n",
    "wur_data = pd.read_csv('../goodtrainbadtrain/data/wurzburg.csv', parse_dates=['time'])\n",
    "ber_data = pd.read_csv('../goodtrainbadtrain/data/berlin.csv', parse_dates=['time'])\n",
    "erf_data = pd.read_csv('../goodtrainbadtrain/data/erfurt.csv', parse_dates=['time'])\n",
    "ess_data = pd.read_csv('../goodtrainbadtrain/data/essen.csv', parse_dates=['time'])\n",
    "got_data = pd.read_csv('../goodtrainbadtrain/data/gottingen.csv', parse_dates=['time'])\n",
    "hag_data = pd.read_csv('../goodtrainbadtrain/data/hagen.csv', parse_dates=['time'])\n",
    "ham_data = pd.read_csv('../goodtrainbadtrain/data/hamburg.csv', parse_dates=['time'])\n",
    "han_data = pd.read_csv('../goodtrainbadtrain/data/hannover.csv', parse_dates=['time'])\n",
    "\n",
    "\n",
    "weather = {\"Köln\": cgn_data, \n",
    "           \"München\": muc_data, \n",
    "           \"Frankfurt\": fra_data, \n",
    "           \"Mannheim\": man_data, \n",
    "           \"Nürnberg\": nur_data, \n",
    "           \"Stuttgart\": stu_data,\n",
    "           \"Würzburg\": wur_data,\n",
    "           \"Berlin\": ber_data,\n",
    "           \"Erfurt\" :erf_data,\n",
    "            \"Essen\": ess_data,\n",
    "            \"Göttingen\":got_data,\n",
    "            \"Hagen\":hag_data,\n",
    "            \"Hamburg\":ham_data,\n",
    "            \"Hannover\":han_data\n",
    "           }\n",
    "\n",
    "# Load coco file\n",
    "coco = pd.read_csv('../goodtrainbadtrain/data/weather_coco.csv', sep=';')\n",
    "coco.set_index('Code', inplace=True)\n",
    "coco = coco.to_dict()['Weather Condition']\n",
    "\n",
    "# Define new classification for coco\n",
    "new_classes = {\n",
    "    '1': [1, 2],\n",
    "    '2': [3, 4, 7, 14],\n",
    "    '3': [5, 8, 10, 12, 15, 17, 19, 21, 23, 24, 25],\n",
    "    '4': [6, 9, 11, 13, 16, 18, 20, 22, 26, 27]\n",
    "}\n",
    "\n",
    "# Apply new classification for coco\n",
    "reclass = {}\n",
    "for k, values in new_classes.items():\n",
    "    for v in values:\n",
    "        for c in range(1, 28):\n",
    "            if v == c:\n",
    "                reclass[v] = k\n",
    "\n",
    "for k, w_df in weather.items():\n",
    "    w_df['snow'] = w_df['snow'].replace(np.nan, 0)\n",
    "    reclass = dict(sorted(reclass.items()))\n",
    "    w_df['coco'] = w_df['coco'].map(reclass)"
   ]
  },
  {
   "cell_type": "code",
   "execution_count": 9,
   "metadata": {},
   "outputs": [],
   "source": [
    "df['sharp_date'] = df['date'].dt.round('H')\n",
    "c_hours = [6, 12]\n",
    "c_cities = ['oc', 'dc'] # oc: origin city, dc: destination city\n",
    "c_variables = ['temp', 'prcp', 'snow', 'wspd', 'wpgt', 'coco']\n",
    "cases = [v + '_' + c + '_' + str(h) for h in c_hours for c in c_cities for v in c_variables] #list of origin and time combination\n",
    "df[cases] = np.nan"
   ]
  },
  {
   "cell_type": "code",
   "execution_count": 10,
   "metadata": {},
   "outputs": [],
   "source": [
    "cities = list(weather.keys())\n",
    "cases = ['origin_city', 'destination_city']\n",
    "hours = [6, 12]\n",
    "for c in cities:\n",
    "    for i in cases:\n",
    "        weather_df = weather[c].drop(columns=['dwpt', 'rhum', 'wdir', 'pres', 'tsun'])\n",
    "        if i == 'origin_city':\n",
    "            ii = 'oc'\n",
    "        elif i == 'destination_city':\n",
    "            ii = 'dc'\n",
    "        for h in hours:\n",
    "            df['time -' + str(h) + 'H'] = df['sharp_date'] - timedelta(hours=h)\n",
    "            weather_df_dummy = weather_df.rename(columns={'temp': 'temp_' + ii + '_' + str(h),\n",
    "                            'prcp': 'prcp_' + ii + '_' + str(h),\n",
    "                            'snow': 'snow_' + ii + '_' + str(h),\n",
    "                            'wspd': 'wspd_' + ii + '_' + str(h),\n",
    "                            'wpgt': 'wpgt_' + ii + '_' + str(h),\n",
    "                            'coco': 'coco_' + ii + '_' + str(h)})\n",
    "            weather_df_dummy['city'] = c\n",
    "\n",
    "            df.set_index([i,'sharp_date'], inplace=True)\n",
    "            df.update(weather_df_dummy.set_index(['city', 'time']))\n",
    "            df.reset_index(inplace=True)\n"
   ]
  },
  {
   "cell_type": "markdown",
   "metadata": {},
   "source": [
    "# TARGET PROCESSING"
   ]
  },
  {
   "cell_type": "code",
   "execution_count": 12,
   "metadata": {},
   "outputs": [],
   "source": [
    "#1a) into several categories\n",
    "# adelay-> into categories: no delay, small delay, medium delay, (big delay/cancellation)\n",
    "max = df.adelay.max()\n",
    "bins = [-2, -0.1, 0, 5, 30, max]\n",
    "group_names = ['large delay/cancelled','on time','small delay', 'medium delay', 'large delay/cancelled']\n",
    "df['target'] = pd.cut(df['adelay'], bins, labels=group_names, ordered=False)\n",
    "\n",
    "#1b) into two categories: good - bad train\n",
    "df['target_good_bad'] = df['target'].str.replace('large delay/cancelled','bad train')\n",
    "df['target_good_bad'] = df['target_good_bad'].str.replace('medium delay','bad train')\n",
    "\n",
    "df['target_good_bad'] = df['target_good_bad'].str.replace('on time','good train')\n",
    "df['target_good_bad'] = df['target_good_bad'].str.replace('small delay','good train')\n",
    "\n",
    "df['target_good_bad'] = df['target_good_bad'] == 'good train'\n",
    "\n",
    "#value counts of target:\n",
    "#on time                  67336\n",
    "#small delay              28649\n",
    "#medium delay             23617\n",
    "#large delay/cancelled    10677\n",
    "\n",
    "#2) binary target (on time - or not)\n",
    "df['target_binary'] =  (df['adelay'] == 0)*1\n",
    "\n",
    "#3) numeric target (cancelled and extreme values = 120 Min)\n",
    "df['target_numeric'] = df['adelay']\n",
    "df['target_numeric'] = np.where(df['target_numeric'] == -1, 120, df['target_numeric'])\n",
    "df['target_numeric'] = np.where(df['target_numeric'] > 120, 120, df['target_numeric'])\n",
    "#sns.boxplot(df['target_numeric'])\n",
    "\n",
    "##Add summarized delay of each train number\n",
    "df['target_numeric'] = df['adelay']\n",
    "df['target_numeric'] = np.where(df['target_numeric'] == -1, 120, df['target_numeric'])\n",
    "df['target_numeric'] = np.where(df['target_numeric'] > 120, 120, df['target_numeric'])"
   ]
  },
  {
   "cell_type": "code",
   "execution_count": 13,
   "metadata": {},
   "outputs": [],
   "source": [
    "mean_delay_ices = df[['zugnr','target_numeric']].groupby('zugnr').mean('target_numeric').reset_index()\n",
    "mean_delay_ices.columns = ['zugnr', 'mean_delay']\n",
    "median_delay_ices = df[['zugnr','target_numeric']].groupby('zugnr').median('target_numeric').reset_index()\n",
    "median_delay_ices.columns = ['zugnr', 'median_delay']\n",
    "\n",
    "df = df.merge(mean_delay_ices, how='left', left_on='zugnr', right_on='zugnr')\n",
    "df = df.merge(median_delay_ices, how='left', left_on='zugnr', right_on='zugnr')"
   ]
  },
  {
   "cell_type": "code",
   "execution_count": 14,
   "metadata": {},
   "outputs": [
    {
     "data": {
      "text/html": [
       "<div>\n",
       "<style scoped>\n",
       "    .dataframe tbody tr th:only-of-type {\n",
       "        vertical-align: middle;\n",
       "    }\n",
       "\n",
       "    .dataframe tbody tr th {\n",
       "        vertical-align: top;\n",
       "    }\n",
       "\n",
       "    .dataframe thead th {\n",
       "        text-align: right;\n",
       "    }\n",
       "</style>\n",
       "<table border=\"1\" class=\"dataframe\">\n",
       "  <thead>\n",
       "    <tr style=\"text-align: right;\">\n",
       "      <th></th>\n",
       "      <th>target_good_bad</th>\n",
       "      <th>mean_delay</th>\n",
       "      <th>median_delay</th>\n",
       "    </tr>\n",
       "  </thead>\n",
       "  <tbody>\n",
       "    <tr>\n",
       "      <th>target_good_bad</th>\n",
       "      <td>1.000000</td>\n",
       "      <td>-0.208787</td>\n",
       "      <td>-0.210951</td>\n",
       "    </tr>\n",
       "    <tr>\n",
       "      <th>mean_delay</th>\n",
       "      <td>-0.208787</td>\n",
       "      <td>1.000000</td>\n",
       "      <td>0.792923</td>\n",
       "    </tr>\n",
       "    <tr>\n",
       "      <th>median_delay</th>\n",
       "      <td>-0.210951</td>\n",
       "      <td>0.792923</td>\n",
       "      <td>1.000000</td>\n",
       "    </tr>\n",
       "  </tbody>\n",
       "</table>\n",
       "</div>"
      ],
      "text/plain": [
       "                 target_good_bad  mean_delay  median_delay\n",
       "target_good_bad         1.000000   -0.208787     -0.210951\n",
       "mean_delay             -0.208787    1.000000      0.792923\n",
       "median_delay           -0.210951    0.792923      1.000000"
      ]
     },
     "execution_count": 14,
     "metadata": {},
     "output_type": "execute_result"
    }
   ],
   "source": [
    "df[['target_good_bad',  'mean_delay', 'median_delay']].corr()"
   ]
  },
  {
   "cell_type": "markdown",
   "metadata": {},
   "source": [
    "# CORRELATION / TARGET VISUALIZATION"
   ]
  },
  {
   "cell_type": "code",
   "execution_count": 13,
   "metadata": {},
   "outputs": [
    {
     "data": {
      "text/plain": [
       "<AxesSubplot:xlabel='weekday', ylabel='target_numeric'>"
      ]
     },
     "execution_count": 13,
     "metadata": {},
     "output_type": "execute_result"
    },
    {
     "data": {
      "image/png": "[encoded data removed]",
      "text/plain": [
       "<Figure size 432x288 with 1 Axes>"
      ]
     },
     "metadata": {
      "needs_background": "light"
     },
     "output_type": "display_data"
    }
   ],
   "source": [
    "sns.barplot(x= df.weekday, y=df.target_numeric)"
   ]
  },
  {
   "cell_type": "code",
   "execution_count": 114,
   "metadata": {},
   "outputs": [
    {
     "data": {
      "text/plain": [
       "<AxesSubplot:xlabel='public_holiday', ylabel='target_good_bad'>"
      ]
     },
     "execution_count": 114,
     "metadata": {},
     "output_type": "execute_result"
    },
    {
     "data": {
      "image/png": "[encoded data removed]",
      "text/plain": [
       "<Figure size 432x288 with 1 Axes>"
      ]
     },
     "metadata": {
      "needs_background": "light"
     },
     "output_type": "display_data"
    }
   ],
   "source": [
    "sns.barplot(x= df.public_holiday, y=df.target_good_bad)"
   ]
  },
  {
   "cell_type": "code",
   "execution_count": 57,
   "metadata": {},
   "outputs": [
    {
     "data": {
      "text/plain": [
       "<AxesSubplot:xlabel='weekday', ylabel='target_good_bad'>"
      ]
     },
     "execution_count": 57,
     "metadata": {},
     "output_type": "execute_result"
    },
    {
     "data": {
      "image/png": "[encoded data removed]",
      "text/plain": [
       "<Figure size 432x288 with 1 Axes>"
      ]
     },
     "metadata": {
      "needs_background": "light"
     },
     "output_type": "display_data"
    }
   ],
   "source": [
    "sns.barplot(x= df.weekday, y=df.target_good_bad)"
   ]
  },
  {
   "cell_type": "code",
   "execution_count": 56,
   "metadata": {},
   "outputs": [
    {
     "data": {
      "text/plain": [
       "<AxesSubplot:xlabel='weekend', ylabel='target_good_bad'>"
      ]
     },
     "execution_count": 56,
     "metadata": {},
     "output_type": "execute_result"
    },
    {
     "data": {
      "image/png": "[encoded data removed]",
      "text/plain": [
       "<Figure size 432x288 with 1 Axes>"
      ]
     },
     "metadata": {
      "needs_background": "light"
     },
     "output_type": "display_data"
    }
   ],
   "source": [
    "sns.barplot(x= df.weekend, y=df.target_good_bad)"
   ]
  },
  {
   "cell_type": "code",
   "execution_count": 58,
   "metadata": {},
   "outputs": [
    {
     "data": {
      "text/plain": [
       "<AxesSubplot:xlabel='covid_lockdown', ylabel='target_good_bad'>"
      ]
     },
     "execution_count": 58,
     "metadata": {},
     "output_type": "execute_result"
    },
    {
     "data": {
      "image/png": "[encoded data removed]",
      "text/plain": [
       "<Figure size 432x288 with 1 Axes>"
      ]
     },
     "metadata": {
      "needs_background": "light"
     },
     "output_type": "display_data"
    }
   ],
   "source": [
    "sns.barplot(x= df.covid_lockdown, y=df.target_good_bad)"
   ]
  },
  {
   "cell_type": "code",
   "execution_count": 55,
   "metadata": {},
   "outputs": [
    {
     "data": {
      "text/plain": [
       "<AxesSubplot:xlabel='month', ylabel='target_good_bad'>"
      ]
     },
     "execution_count": 55,
     "metadata": {},
     "output_type": "execute_result"
    },
    {
     "data": {
      "image/png": "[encoded data removed]",
      "text/plain": [
       "<Figure size 432x288 with 1 Axes>"
      ]
     },
     "metadata": {
      "needs_background": "light"
     },
     "output_type": "display_data"
    }
   ],
   "source": [
    "sns.barplot(x= df.month, y=df.target_good_bad)"
   ]
  },
  {
   "cell_type": "code",
   "execution_count": 64,
   "metadata": {},
   "outputs": [
    {
     "data": {
      "text/plain": [
       "<AxesSubplot:xlabel='target_good_bad', ylabel='sin_time'>"
      ]
     },
     "execution_count": 64,
     "metadata": {},
     "output_type": "execute_result"
    },
    {
     "data": {
      "image/png": "[encoded data removed]",
      "text/plain": [
       "<Figure size 432x288 with 1 Axes>"
      ]
     },
     "metadata": {
      "needs_background": "light"
     },
     "output_type": "display_data"
    }
   ],
   "source": [
    "binary= df.target_good_bad == True\n",
    "sns.barplot( x=binary, y= df.sin_time)\n"
   ]
  },
  {
   "cell_type": "code",
   "execution_count": 65,
   "metadata": {},
   "outputs": [
    {
     "data": {
      "text/plain": [
       "<AxesSubplot:xlabel='target_good_bad', ylabel='cos_time'>"
      ]
     },
     "execution_count": 65,
     "metadata": {},
     "output_type": "execute_result"
    },
    {
     "data": {
      "image/png": "[encoded data removed]",
      "text/plain": [
       "<Figure size 432x288 with 1 Axes>"
      ]
     },
     "metadata": {
      "needs_background": "light"
     },
     "output_type": "display_data"
    }
   ],
   "source": [
    "binary= df.target_good_bad == True\n",
    "sns.barplot( x=binary, y= df.cos_time)"
   ]
  },
  {
   "cell_type": "code",
   "execution_count": 67,
   "metadata": {},
   "outputs": [
    {
     "data": {
      "text/plain": [
       "<AxesSubplot:xlabel='sin_time', ylabel='cos_time'>"
      ]
     },
     "execution_count": 67,
     "metadata": {},
     "output_type": "execute_result"
    },
    {
     "data": {
      "image/png": "[encoded data removed]",
      "text/plain": [
       "<Figure size 432x288 with 1 Axes>"
      ]
     },
     "metadata": {
      "needs_background": "light"
     },
     "output_type": "display_data"
    }
   ],
   "source": [
    "sns.scatterplot(x= df.sin_time, y=df.cos_time)"
   ]
  },
  {
   "cell_type": "markdown",
   "metadata": {},
   "source": [
    "# SAVE DATA"
   ]
  },
  {
   "cell_type": "code",
   "execution_count": 15,
   "metadata": {},
   "outputs": [
    {
     "data": {
      "text/plain": [
       "Index(['destination_city', 'sharp_date', 'origin_city', 'zugnr', 'datum',\n",
       "       'bhf', 'arrTime', 'adelay', 'depTime', 'ddelay', 'start_or_endpoint',\n",
       "       'arrTime_clean', 'depTime_clean', 'city', 'date', 'weekday', 'weekend',\n",
       "       'month', 'time_of_day', 'sin_time', 'cos_time', 'sin_day', 'cos_day',\n",
       "       'public_holiday', 'covid_lockdown', 'trip', 'temp_oc_6', 'prcp_oc_6',\n",
       "       'snow_oc_6', 'wspd_oc_6', 'wpgt_oc_6', 'coco_oc_6', 'temp_dc_6',\n",
       "       'prcp_dc_6', 'snow_dc_6', 'wspd_dc_6', 'wpgt_dc_6', 'coco_dc_6',\n",
       "       'temp_oc_12', 'prcp_oc_12', 'snow_oc_12', 'wspd_oc_12', 'wpgt_oc_12',\n",
       "       'coco_oc_12', 'temp_dc_12', 'prcp_dc_12', 'snow_dc_12', 'wspd_dc_12',\n",
       "       'wpgt_dc_12', 'coco_dc_12', 'time -6H', 'time -12H', 'target',\n",
       "       'target_good_bad', 'target_binary', 'target_numeric', 'mean_delay',\n",
       "       'median_delay'],\n",
       "      dtype='object')"
      ]
     },
     "execution_count": 15,
     "metadata": {},
     "output_type": "execute_result"
    }
   ],
   "source": [
    "df.columns"
   ]
  },
  {
   "cell_type": "code",
   "execution_count": 16,
   "metadata": {},
   "outputs": [],
   "source": [
    "df = df[['zugnr', 'trip', 'city',  'bhf', 'origin_city', 'destination_city',\n",
    "    'date', 'datum', 'sharp_date', 'weekday', 'weekend', 'month', 'time_of_day','sin_time','cos_time','sin_day','cos_day',\n",
    "    'arrTime_clean','adelay','target', 'target_binary','target_numeric','target_good_bad',\n",
    "    'temp_oc_6', 'prcp_oc_6',\n",
    "       'snow_oc_6', 'wspd_oc_6', 'wpgt_oc_6', 'coco_oc_6', 'temp_dc_6',\n",
    "       'prcp_dc_6', 'snow_dc_6', 'wspd_dc_6', 'wpgt_dc_6', 'coco_dc_6',\n",
    "       'temp_oc_12', 'prcp_oc_12', 'snow_oc_12', 'wspd_oc_12', 'wpgt_oc_12',\n",
    "       'coco_oc_12', 'temp_dc_12', 'prcp_dc_12', 'snow_dc_12', 'wspd_dc_12',\n",
    "       'wpgt_dc_12', 'coco_dc_12',\n",
    "    'covid_lockdown', 'public_holiday']]"
   ]
  },
  {
   "cell_type": "code",
   "execution_count": 17,
   "metadata": {},
   "outputs": [],
   "source": [
    "df.to_csv('../goodtrainbadtrain/data/data_for_model_legs.csv')"
   ]
  },
  {
   "cell_type": "code",
   "execution_count": null,
   "metadata": {},
   "outputs": [],
   "source": []
  }
 ],
 "metadata": {
  "interpreter": {
   "hash": "6399be11364a6cb6a0c6ff7c8d07942c7c341f551218ac7c514ba1a0e828f38a"
  },
  "kernelspec": {
   "display_name": "Python 3.8.13 64-bit ('goodtrainbadtrain')",
   "language": "python",
   "name": "python3"
  },
  "language_info": {
   "codemirror_mode": {
    "name": "ipython",
    "version": 3
   },
   "file_extension": ".py",
   "mimetype": "text/x-python",
   "name": "python",
   "nbconvert_exporter": "python",
   "pygments_lexer": "ipython3",
   "version": "3.8.13"
  }
 },
 "nbformat": 4,
 "nbformat_minor": 4
}
