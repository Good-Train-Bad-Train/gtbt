{
 "cells": [
  {
   "cell_type": "code",
   "execution_count": 38,
   "metadata": {},
   "outputs": [],
   "source": [
    "# packages\n",
    "import pandas as pd\n",
    "import numpy as np\n",
    "import seaborn as sns"
   ]
  },
  {
   "cell_type": "code",
   "execution_count": 6,
   "metadata": {},
   "outputs": [
    {
     "name": "stdout",
     "output_type": "stream",
     "text": [
      "\u001b[01;34m.\u001b[0m\r\n",
      "└── \u001b[00mmarie_dataexploration.ipynb\u001b[0m\r\n",
      "\r\n",
      "0 directories, 1 file\r\n"
     ]
    }
   ],
   "source": [
    "! tree"
   ]
  },
  {
   "cell_type": "code",
   "execution_count": null,
   "metadata": {},
   "outputs": [],
   "source": []
  },
  {
   "cell_type": "code",
   "execution_count": 9,
   "metadata": {},
   "outputs": [],
   "source": [
    "## data exploration\n",
    "# load data\n",
    "\n",
    "df1 = pd.read_csv('../goodtrainbadtrain/data/select_2020.csv',encoding='iso-8859-2',sep=';')\n",
    "df2 = pd.read_csv('../goodtrainbadtrain/data/select_2021.csv',encoding='iso-8859-2',sep=';')\n",
    "df3 = pd.read_csv('../goodtrainbadtrain/data/select_2022.csv',encoding='iso-8859-2',sep=';')"
   ]
  },
  {
   "cell_type": "code",
   "execution_count": 10,
   "metadata": {},
   "outputs": [
    {
     "data": {
      "text/html": [
       "<div>\n",
       "<style scoped>\n",
       "    .dataframe tbody tr th:only-of-type {\n",
       "        vertical-align: middle;\n",
       "    }\n",
       "\n",
       "    .dataframe tbody tr th {\n",
       "        vertical-align: top;\n",
       "    }\n",
       "\n",
       "    .dataframe thead th {\n",
       "        text-align: right;\n",
       "    }\n",
       "</style>\n",
       "<table border=\"1\" class=\"dataframe\">\n",
       "  <thead>\n",
       "    <tr style=\"text-align: right;\">\n",
       "      <th></th>\n",
       "      <th>zugnr</th>\n",
       "      <th>datum</th>\n",
       "      <th>bhf</th>\n",
       "      <th>arrTime</th>\n",
       "      <th>adelay</th>\n",
       "      <th>depTime</th>\n",
       "      <th>ddelay</th>\n",
       "    </tr>\n",
       "  </thead>\n",
       "  <tbody>\n",
       "    <tr>\n",
       "      <th>0</th>\n",
       "      <td>EC 6</td>\n",
       "      <td>2019-12-15</td>\n",
       "      <td>Basel Bad Bf</td>\n",
       "      <td>1433</td>\n",
       "      <td>0</td>\n",
       "      <td>1434</td>\n",
       "      <td>0</td>\n",
       "    </tr>\n",
       "    <tr>\n",
       "      <th>1</th>\n",
       "      <td>EC 6</td>\n",
       "      <td>2019-12-15</td>\n",
       "      <td>Basel SBB</td>\n",
       "      <td>9999</td>\n",
       "      <td>0</td>\n",
       "      <td>1426</td>\n",
       "      <td>0</td>\n",
       "    </tr>\n",
       "    <tr>\n",
       "      <th>2</th>\n",
       "      <td>EC 6</td>\n",
       "      <td>2019-12-15</td>\n",
       "      <td>Bonn Hbf</td>\n",
       "      <td>1844</td>\n",
       "      <td>0</td>\n",
       "      <td>1845</td>\n",
       "      <td>0</td>\n",
       "    </tr>\n",
       "    <tr>\n",
       "      <th>3</th>\n",
       "      <td>EC 6</td>\n",
       "      <td>2019-12-15</td>\n",
       "      <td>Bremen Hbf</td>\n",
       "      <td>2217</td>\n",
       "      <td>2</td>\n",
       "      <td>2219</td>\n",
       "      <td>2</td>\n",
       "    </tr>\n",
       "    <tr>\n",
       "      <th>4</th>\n",
       "      <td>EC 6</td>\n",
       "      <td>2019-12-15</td>\n",
       "      <td>Duisburg Hbf</td>\n",
       "      <td>1945</td>\n",
       "      <td>6</td>\n",
       "      <td>1946</td>\n",
       "      <td>6</td>\n",
       "    </tr>\n",
       "  </tbody>\n",
       "</table>\n",
       "</div>"
      ],
      "text/plain": [
       "  zugnr       datum           bhf  arrTime  adelay  depTime  ddelay\n",
       "0  EC 6  2019-12-15  Basel Bad Bf     1433       0     1434       0\n",
       "1  EC 6  2019-12-15     Basel SBB     9999       0     1426       0\n",
       "2  EC 6  2019-12-15      Bonn Hbf     1844       0     1845       0\n",
       "3  EC 6  2019-12-15    Bremen Hbf     2217       2     2219       2\n",
       "4  EC 6  2019-12-15  Duisburg Hbf     1945       6     1946       6"
      ]
     },
     "execution_count": 10,
     "metadata": {},
     "output_type": "execute_result"
    }
   ],
   "source": []
  },
  {
   "cell_type": "code",
   "execution_count": 13,
   "metadata": {},
   "outputs": [],
   "source": [
    "#add data together\n",
    "df = pd.concat([df1, df2, df3])"
   ]
  },
  {
   "cell_type": "code",
   "execution_count": 27,
   "metadata": {},
   "outputs": [
    {
     "data": {
      "text/plain": [
       "IC 2216     20581\n",
       "EC 6        20048\n",
       "ICE 619     19544\n",
       "ICE 1020    17818\n",
       "ICE 929     17637\n",
       "            ...  \n",
       "ice 726         1\n",
       "ice 206         1\n",
       "ICe 614         1\n",
       "ICe 598         1\n",
       "ICe 26          1\n",
       "Name: zugnr, Length: 156, dtype: int64"
      ]
     },
     "execution_count": 27,
     "metadata": {},
     "output_type": "execute_result"
    }
   ],
   "source": [
    "unique_train_num = df.zugnr.value_counts()\n",
    "unique_train_num #data cleaning needed, some ICE just mentioned once"
   ]
  },
  {
   "cell_type": "code",
   "execution_count": 28,
   "metadata": {},
   "outputs": [
    {
     "name": "stdout",
     "output_type": "stream",
     "text": [
      "Frankfurt(M) Flughafen Fernbf    66571\n",
      "München Hbf                      61736\n",
      "Frankfurt(Main)Hbf               55379\n",
      "Mannheim Hbf                     49640\n",
      "Nürnberg Hbf                     46341\n",
      "                                 ...  \n",
      "Hohenems                           144\n",
      "Götzis                             143\n",
      "Rankweil                           143\n",
      "Köln Süd                            33\n",
      "Wanne-Eickel Hbf                     1\n",
      "Name: bhf, Length: 134, dtype: int64\n"
     ]
    }
   ],
   "source": [
    "print(df.bhf.value_counts())"
   ]
  },
  {
   "cell_type": "code",
   "execution_count": 29,
   "metadata": {},
   "outputs": [],
   "source": [
    "df_filtered = df.query(\"bhf in ('München Hbf', 'Köln Hbf', 'Köln Süd', 'Köln Messe/Deutz Gl.11-12')\")"
   ]
  },
  {
   "cell_type": "code",
   "execution_count": 31,
   "metadata": {},
   "outputs": [
    {
     "data": {
      "text/plain": [
       "München Hbf                  61736\n",
       "Köln Hbf                     41165\n",
       "Köln Messe/Deutz Gl.11-12    27378\n",
       "Köln Süd                        33\n",
       "Name: bhf, dtype: int64"
      ]
     },
     "execution_count": 31,
     "metadata": {},
     "output_type": "execute_result"
    }
   ],
   "source": [
    "df_filtered.bhf.value_counts() \n",
    "#should we delete Köln Süd? \n",
    "#more Köln trains-> maybe trains are duplicated if they stop in both stations"
   ]
  },
  {
   "cell_type": "code",
   "execution_count": 34,
   "metadata": {},
   "outputs": [
    {
     "data": {
      "text/html": [
       "<div>\n",
       "<style scoped>\n",
       "    .dataframe tbody tr th:only-of-type {\n",
       "        vertical-align: middle;\n",
       "    }\n",
       "\n",
       "    .dataframe tbody tr th {\n",
       "        vertical-align: top;\n",
       "    }\n",
       "\n",
       "    .dataframe thead th {\n",
       "        text-align: right;\n",
       "    }\n",
       "</style>\n",
       "<table border=\"1\" class=\"dataframe\">\n",
       "  <thead>\n",
       "    <tr style=\"text-align: right;\">\n",
       "      <th></th>\n",
       "      <th>zugnr</th>\n",
       "      <th>datum</th>\n",
       "      <th>bhf</th>\n",
       "      <th>arrTime</th>\n",
       "      <th>adelay</th>\n",
       "      <th>depTime</th>\n",
       "      <th>ddelay</th>\n",
       "    </tr>\n",
       "  </thead>\n",
       "  <tbody>\n",
       "    <tr>\n",
       "      <th>15</th>\n",
       "      <td>EC 6</td>\n",
       "      <td>2019-12-15</td>\n",
       "      <td>Köln Hbf</td>\n",
       "      <td>1906</td>\n",
       "      <td>0</td>\n",
       "      <td>1908</td>\n",
       "      <td>0</td>\n",
       "    </tr>\n",
       "    <tr>\n",
       "      <th>36</th>\n",
       "      <td>EC 6</td>\n",
       "      <td>2019-12-16</td>\n",
       "      <td>Köln Hbf</td>\n",
       "      <td>1906</td>\n",
       "      <td>10</td>\n",
       "      <td>1909</td>\n",
       "      <td>8</td>\n",
       "    </tr>\n",
       "    <tr>\n",
       "      <th>56</th>\n",
       "      <td>EC 6</td>\n",
       "      <td>2019-12-17</td>\n",
       "      <td>Köln Hbf</td>\n",
       "      <td>1906</td>\n",
       "      <td>47</td>\n",
       "      <td>1909</td>\n",
       "      <td>47</td>\n",
       "    </tr>\n",
       "    <tr>\n",
       "      <th>79</th>\n",
       "      <td>EC 6</td>\n",
       "      <td>2019-12-18</td>\n",
       "      <td>Köln Hbf</td>\n",
       "      <td>1906</td>\n",
       "      <td>-1</td>\n",
       "      <td>1909</td>\n",
       "      <td>-1</td>\n",
       "    </tr>\n",
       "    <tr>\n",
       "      <th>80</th>\n",
       "      <td>EC 6</td>\n",
       "      <td>2019-12-18</td>\n",
       "      <td>Köln Messe/Deutz Gl.11-12</td>\n",
       "      <td>1906</td>\n",
       "      <td>29</td>\n",
       "      <td>1909</td>\n",
       "      <td>30</td>\n",
       "    </tr>\n",
       "    <tr>\n",
       "      <th>...</th>\n",
       "      <td>...</td>\n",
       "      <td>...</td>\n",
       "      <td>...</td>\n",
       "      <td>...</td>\n",
       "      <td>...</td>\n",
       "      <td>...</td>\n",
       "      <td>...</td>\n",
       "    </tr>\n",
       "    <tr>\n",
       "      <th>2187</th>\n",
       "      <td>EC 6</td>\n",
       "      <td>2020-03-18</td>\n",
       "      <td>Köln Hbf</td>\n",
       "      <td>1906</td>\n",
       "      <td>-1</td>\n",
       "      <td>1909</td>\n",
       "      <td>-1</td>\n",
       "    </tr>\n",
       "    <tr>\n",
       "      <th>2211</th>\n",
       "      <td>EC 6</td>\n",
       "      <td>2020-03-19</td>\n",
       "      <td>Köln Hbf</td>\n",
       "      <td>1906</td>\n",
       "      <td>-1</td>\n",
       "      <td>1909</td>\n",
       "      <td>-1</td>\n",
       "    </tr>\n",
       "    <tr>\n",
       "      <th>2233</th>\n",
       "      <td>EC 6</td>\n",
       "      <td>2020-03-20</td>\n",
       "      <td>Köln Hbf</td>\n",
       "      <td>1906</td>\n",
       "      <td>0</td>\n",
       "      <td>1908</td>\n",
       "      <td>0</td>\n",
       "    </tr>\n",
       "    <tr>\n",
       "      <th>2257</th>\n",
       "      <td>EC 6</td>\n",
       "      <td>2020-03-22</td>\n",
       "      <td>Köln Hbf</td>\n",
       "      <td>1909</td>\n",
       "      <td>-1</td>\n",
       "      <td>1912</td>\n",
       "      <td>-1</td>\n",
       "    </tr>\n",
       "    <tr>\n",
       "      <th>2413</th>\n",
       "      <td>EC 6</td>\n",
       "      <td>2020-05-25</td>\n",
       "      <td>Köln Hbf</td>\n",
       "      <td>1933</td>\n",
       "      <td>0</td>\n",
       "      <td>1936</td>\n",
       "      <td>0</td>\n",
       "    </tr>\n",
       "  </tbody>\n",
       "</table>\n",
       "<p>100 rows × 7 columns</p>\n",
       "</div>"
      ],
      "text/plain": [
       "     zugnr       datum                        bhf  arrTime  adelay  depTime  \\\n",
       "15    EC 6  2019-12-15                   Köln Hbf     1906       0     1908   \n",
       "36    EC 6  2019-12-16                   Köln Hbf     1906      10     1909   \n",
       "56    EC 6  2019-12-17                   Köln Hbf     1906      47     1909   \n",
       "79    EC 6  2019-12-18                   Köln Hbf     1906      -1     1909   \n",
       "80    EC 6  2019-12-18  Köln Messe/Deutz Gl.11-12     1906      29     1909   \n",
       "...    ...         ...                        ...      ...     ...      ...   \n",
       "2187  EC 6  2020-03-18                   Köln Hbf     1906      -1     1909   \n",
       "2211  EC 6  2020-03-19                   Köln Hbf     1906      -1     1909   \n",
       "2233  EC 6  2020-03-20                   Köln Hbf     1906       0     1908   \n",
       "2257  EC 6  2020-03-22                   Köln Hbf     1909      -1     1912   \n",
       "2413  EC 6  2020-05-25                   Köln Hbf     1933       0     1936   \n",
       "\n",
       "      ddelay  \n",
       "15         0  \n",
       "36         8  \n",
       "56        47  \n",
       "79        -1  \n",
       "80        30  \n",
       "...      ...  \n",
       "2187      -1  \n",
       "2211      -1  \n",
       "2233       0  \n",
       "2257      -1  \n",
       "2413       0  \n",
       "\n",
       "[100 rows x 7 columns]"
      ]
     },
     "execution_count": 34,
     "metadata": {},
     "output_type": "execute_result"
    }
   ],
   "source": [
    "df_filtered.head(100)"
   ]
  },
  {
   "cell_type": "code",
   "execution_count": 35,
   "metadata": {},
   "outputs": [
    {
     "data": {
      "text/plain": [
       "9999    34059\n",
       "1905     1387\n",
       "1105     1342\n",
       "1205     1284\n",
       "1505     1157\n",
       "        ...  \n",
       "1418        1\n",
       "1449        1\n",
       "1820        1\n",
       "1800        1\n",
       "2249        1\n",
       "Name: arrTime, Length: 1036, dtype: int64"
      ]
     },
     "execution_count": 35,
     "metadata": {},
     "output_type": "execute_result"
    }
   ],
   "source": [
    "df_filtered.arrTime.value_counts()"
   ]
  },
  {
   "cell_type": "code",
   "execution_count": 36,
   "metadata": {},
   "outputs": [
    {
     "data": {
      "text/html": [
       "<div>\n",
       "<style scoped>\n",
       "    .dataframe tbody tr th:only-of-type {\n",
       "        vertical-align: middle;\n",
       "    }\n",
       "\n",
       "    .dataframe tbody tr th {\n",
       "        vertical-align: top;\n",
       "    }\n",
       "\n",
       "    .dataframe thead th {\n",
       "        text-align: right;\n",
       "    }\n",
       "</style>\n",
       "<table border=\"1\" class=\"dataframe\">\n",
       "  <thead>\n",
       "    <tr style=\"text-align: right;\">\n",
       "      <th></th>\n",
       "      <th>zugnr</th>\n",
       "      <th>datum</th>\n",
       "      <th>bhf</th>\n",
       "      <th>arrTime</th>\n",
       "      <th>adelay</th>\n",
       "      <th>depTime</th>\n",
       "      <th>ddelay</th>\n",
       "    </tr>\n",
       "  </thead>\n",
       "  <tbody>\n",
       "    <tr>\n",
       "      <th>15</th>\n",
       "      <td>EC 6</td>\n",
       "      <td>2019-12-15</td>\n",
       "      <td>Köln Hbf</td>\n",
       "      <td>1906</td>\n",
       "      <td>0</td>\n",
       "      <td>1908</td>\n",
       "      <td>0</td>\n",
       "    </tr>\n",
       "    <tr>\n",
       "      <th>36</th>\n",
       "      <td>EC 6</td>\n",
       "      <td>2019-12-16</td>\n",
       "      <td>Köln Hbf</td>\n",
       "      <td>1906</td>\n",
       "      <td>10</td>\n",
       "      <td>1909</td>\n",
       "      <td>8</td>\n",
       "    </tr>\n",
       "    <tr>\n",
       "      <th>56</th>\n",
       "      <td>EC 6</td>\n",
       "      <td>2019-12-17</td>\n",
       "      <td>Köln Hbf</td>\n",
       "      <td>1906</td>\n",
       "      <td>47</td>\n",
       "      <td>1909</td>\n",
       "      <td>47</td>\n",
       "    </tr>\n",
       "    <tr>\n",
       "      <th>79</th>\n",
       "      <td>EC 6</td>\n",
       "      <td>2019-12-18</td>\n",
       "      <td>Köln Hbf</td>\n",
       "      <td>1906</td>\n",
       "      <td>-1</td>\n",
       "      <td>1909</td>\n",
       "      <td>-1</td>\n",
       "    </tr>\n",
       "    <tr>\n",
       "      <th>80</th>\n",
       "      <td>EC 6</td>\n",
       "      <td>2019-12-18</td>\n",
       "      <td>Köln Messe/Deutz Gl.11-12</td>\n",
       "      <td>1906</td>\n",
       "      <td>29</td>\n",
       "      <td>1909</td>\n",
       "      <td>30</td>\n",
       "    </tr>\n",
       "    <tr>\n",
       "      <th>...</th>\n",
       "      <td>...</td>\n",
       "      <td>...</td>\n",
       "      <td>...</td>\n",
       "      <td>...</td>\n",
       "      <td>...</td>\n",
       "      <td>...</td>\n",
       "      <td>...</td>\n",
       "    </tr>\n",
       "    <tr>\n",
       "      <th>289452</th>\n",
       "      <td>NJ 421</td>\n",
       "      <td>2022-05-13</td>\n",
       "      <td>München Hbf</td>\n",
       "      <td>711</td>\n",
       "      <td>0</td>\n",
       "      <td>728</td>\n",
       "      <td>5</td>\n",
       "    </tr>\n",
       "    <tr>\n",
       "      <th>289468</th>\n",
       "      <td>NJ 421</td>\n",
       "      <td>2022-05-14</td>\n",
       "      <td>Köln Hbf</td>\n",
       "      <td>2212</td>\n",
       "      <td>2</td>\n",
       "      <td>2216</td>\n",
       "      <td>1</td>\n",
       "    </tr>\n",
       "    <tr>\n",
       "      <th>289471</th>\n",
       "      <td>NJ 421</td>\n",
       "      <td>2022-05-14</td>\n",
       "      <td>München Hbf</td>\n",
       "      <td>711</td>\n",
       "      <td>0</td>\n",
       "      <td>728</td>\n",
       "      <td>0</td>\n",
       "    </tr>\n",
       "    <tr>\n",
       "      <th>289487</th>\n",
       "      <td>NJ 421</td>\n",
       "      <td>2022-05-15</td>\n",
       "      <td>Köln Hbf</td>\n",
       "      <td>2212</td>\n",
       "      <td>2</td>\n",
       "      <td>2216</td>\n",
       "      <td>1</td>\n",
       "    </tr>\n",
       "    <tr>\n",
       "      <th>289490</th>\n",
       "      <td>NJ 421</td>\n",
       "      <td>2022-05-15</td>\n",
       "      <td>München Hbf</td>\n",
       "      <td>711</td>\n",
       "      <td>61</td>\n",
       "      <td>728</td>\n",
       "      <td>49</td>\n",
       "    </tr>\n",
       "  </tbody>\n",
       "</table>\n",
       "<p>130312 rows × 7 columns</p>\n",
       "</div>"
      ],
      "text/plain": [
       "         zugnr       datum                        bhf  arrTime  adelay  \\\n",
       "15        EC 6  2019-12-15                   Köln Hbf     1906       0   \n",
       "36        EC 6  2019-12-16                   Köln Hbf     1906      10   \n",
       "56        EC 6  2019-12-17                   Köln Hbf     1906      47   \n",
       "79        EC 6  2019-12-18                   Köln Hbf     1906      -1   \n",
       "80        EC 6  2019-12-18  Köln Messe/Deutz Gl.11-12     1906      29   \n",
       "...        ...         ...                        ...      ...     ...   \n",
       "289452  NJ 421  2022-05-13                München Hbf      711       0   \n",
       "289468  NJ 421  2022-05-14                   Köln Hbf     2212       2   \n",
       "289471  NJ 421  2022-05-14                München Hbf      711       0   \n",
       "289487  NJ 421  2022-05-15                   Köln Hbf     2212       2   \n",
       "289490  NJ 421  2022-05-15                München Hbf      711      61   \n",
       "\n",
       "        depTime  ddelay  \n",
       "15         1908       0  \n",
       "36         1909       8  \n",
       "56         1909      47  \n",
       "79         1909      -1  \n",
       "80         1909      30  \n",
       "...         ...     ...  \n",
       "289452      728       5  \n",
       "289468     2216       1  \n",
       "289471      728       0  \n",
       "289487     2216       1  \n",
       "289490      728      49  \n",
       "\n",
       "[130312 rows x 7 columns]"
      ]
     },
     "execution_count": 36,
     "metadata": {},
     "output_type": "execute_result"
    }
   ],
   "source": [
    "df_filtered"
   ]
  },
  {
   "cell_type": "code",
   "execution_count": 33,
   "metadata": {},
   "outputs": [],
   "source": [
    "#how do we want to code cancelled trains\n",
    "#"
   ]
  },
  {
   "cell_type": "code",
   "execution_count": 37,
   "metadata": {},
   "outputs": [],
   "source": [
    "#Some important notes according to the data formats:\n",
    "#- arrTime/depTime: arrival/departure times\n",
    "#- adelay/ddelay: arrival/departure delay\n",
    "\n",
    "#If arrTime/depTime == 9999, this information is not available, in >99% of cases, \n",
    "#that should be the first/last stop of the train or a stop where entering/leaving \n",
    "#is not allowed (in the few rest of cases, it may be possible that the data is simply missing)\n",
    "\n",
    "#If adelay/ddelay == -1, this means cancelled\n",
    "\n",
    "#The date is always connected to the start date of the train, so if a train starts \n",
    "#at 2200 on 2022-05-01 and you see that date with 100, it is exactly the same train, \n",
    "#and not the train from the day before. So, train+date = one train"
   ]
  },
  {
   "cell_type": "code",
   "execution_count": 67,
   "metadata": {},
   "outputs": [
    {
     "data": {
      "text/plain": [
       "count    130312.000000\n",
       "mean          5.931526\n",
       "std          16.192979\n",
       "min          -1.000000\n",
       "25%           0.000000\n",
       "50%           0.000000\n",
       "75%           5.000000\n",
       "max        1100.000000\n",
       "Name: adelay, dtype: float64"
      ]
     },
     "execution_count": 67,
     "metadata": {},
     "output_type": "execute_result"
    }
   ],
   "source": [
    "#sns.histplot(df_filtered.adelay)\n",
    "\n",
    "df_filtered.adelay.describe()"
   ]
  },
  {
   "cell_type": "code",
   "execution_count": 68,
   "metadata": {},
   "outputs": [
    {
     "name": "stderr",
     "output_type": "stream",
     "text": [
      "/Users/mariegramm/.pyenv/versions/3.8.13/envs/lewagon/lib/python3.8/site-packages/seaborn/_decorators.py:36: FutureWarning: Pass the following variable as a keyword arg: x. From version 0.12, the only valid positional argument will be `data`, and passing other arguments without an explicit keyword will result in an error or misinterpretation.\n",
      "  warnings.warn(\n"
     ]
    },
    {
     "data": {
      "text/plain": [
       "<AxesSubplot:xlabel='adelay'>"
      ]
     },
     "execution_count": 68,
     "metadata": {},
     "output_type": "execute_result"
    },
    {
     "data": {
      "image/png": "[encoded data removed]",
      "text/plain": [
       "<Figure size 432x288 with 1 Axes>"
      ]
     },
     "metadata": {
      "needs_background": "light"
     },
     "output_type": "display_data"
    }
   ],
   "source": [
    "sns.boxplot(df_filtered.adelay)"
   ]
  },
  {
   "cell_type": "code",
   "execution_count": null,
   "metadata": {},
   "outputs": [],
   "source": [
    "#adelay\n",
    "\n",
    "#min: -1 (cancelled), 3986 trains\n",
    "#no delay = 67343 trips\n",
    "#30332 trips > 5 mins\n",
    "#1892 trips > 60 mins\n",
    "#37 trips > 200 mins\n",
    "#13 trips > 250 mins\n",
    "#max: 1100 (\n",
    "\n",
    "#half of the trips have no adelay\n",
    "\n",
    "#--> we could group the target in categories: cancelled, no delay, small delay, big delay\n",
    "# or for simplicity merge cancelled with big delay?"
   ]
  },
  {
   "cell_type": "code",
   "execution_count": null,
   "metadata": {},
   "outputs": [],
   "source": [
    "#we need to annotate direction"
   ]
  },
  {
   "cell_type": "code",
   "execution_count": 71,
   "metadata": {},
   "outputs": [
    {
     "data": {
      "text/plain": [
       "13"
      ]
     },
     "execution_count": 71,
     "metadata": {},
     "output_type": "execute_result"
    }
   ],
   "source": [
    "canc = df_filtered.adelay > 250\n",
    "canc.sum()"
   ]
  },
  {
   "cell_type": "code",
   "execution_count": 74,
   "metadata": {},
   "outputs": [
    {
     "ename": "AttributeError",
     "evalue": "'Series' object has no attribute 'to_datetime'",
     "output_type": "error",
     "traceback": [
      "\u001b[0;31m---------------------------------------------------------------------------\u001b[0m",
      "\u001b[0;31mAttributeError\u001b[0m                            Traceback (most recent call last)",
      "\u001b[0;32m/var/folders/0v/92j280qj2j971syqfbthtx0r0000gn/T/ipykernel_82767/1188877092.py\u001b[0m in \u001b[0;36m<module>\u001b[0;34m\u001b[0m\n\u001b[0;32m----> 1\u001b[0;31m \u001b[0mdf_filtered\u001b[0m\u001b[0;34m.\u001b[0m\u001b[0marrTime\u001b[0m\u001b[0;34m.\u001b[0m\u001b[0mto_datetime\u001b[0m\u001b[0;34m(\u001b[0m\u001b[0;34m)\u001b[0m\u001b[0;34m\u001b[0m\u001b[0;34m\u001b[0m\u001b[0m\n\u001b[0m",
      "\u001b[0;32m~/.pyenv/versions/3.8.13/envs/lewagon/lib/python3.8/site-packages/pandas/core/generic.py\u001b[0m in \u001b[0;36m__getattr__\u001b[0;34m(self, name)\u001b[0m\n\u001b[1;32m   5485\u001b[0m         ):\n\u001b[1;32m   5486\u001b[0m             \u001b[0;32mreturn\u001b[0m \u001b[0mself\u001b[0m\u001b[0;34m[\u001b[0m\u001b[0mname\u001b[0m\u001b[0;34m]\u001b[0m\u001b[0;34m\u001b[0m\u001b[0;34m\u001b[0m\u001b[0m\n\u001b[0;32m-> 5487\u001b[0;31m         \u001b[0;32mreturn\u001b[0m \u001b[0mobject\u001b[0m\u001b[0;34m.\u001b[0m\u001b[0m__getattribute__\u001b[0m\u001b[0;34m(\u001b[0m\u001b[0mself\u001b[0m\u001b[0;34m,\u001b[0m \u001b[0mname\u001b[0m\u001b[0;34m)\u001b[0m\u001b[0;34m\u001b[0m\u001b[0;34m\u001b[0m\u001b[0m\n\u001b[0m\u001b[1;32m   5488\u001b[0m \u001b[0;34m\u001b[0m\u001b[0m\n\u001b[1;32m   5489\u001b[0m     \u001b[0;32mdef\u001b[0m \u001b[0m__setattr__\u001b[0m\u001b[0;34m(\u001b[0m\u001b[0mself\u001b[0m\u001b[0;34m,\u001b[0m \u001b[0mname\u001b[0m\u001b[0;34m:\u001b[0m \u001b[0mstr\u001b[0m\u001b[0;34m,\u001b[0m \u001b[0mvalue\u001b[0m\u001b[0;34m)\u001b[0m \u001b[0;34m->\u001b[0m \u001b[0;32mNone\u001b[0m\u001b[0;34m:\u001b[0m\u001b[0;34m\u001b[0m\u001b[0;34m\u001b[0m\u001b[0m\n",
      "\u001b[0;31mAttributeError\u001b[0m: 'Series' object has no attribute 'to_datetime'"
     ]
    }
   ],
   "source": [
    "df_filtered.arrTime.to_datetime()"
   ]
  },
  {
   "cell_type": "code",
   "execution_count": 85,
   "metadata": {},
   "outputs": [
    {
     "data": {
      "text/plain": [
       "15       1970-01-01 00:00:00.000001906\n",
       "36       1970-01-01 00:00:00.000001906\n",
       "56       1970-01-01 00:00:00.000001906\n",
       "79       1970-01-01 00:00:00.000001906\n",
       "80       1970-01-01 00:00:00.000001906\n",
       "                      ...             \n",
       "289452   1970-01-01 00:00:00.000000711\n",
       "289468   1970-01-01 00:00:00.000002212\n",
       "289471   1970-01-01 00:00:00.000000711\n",
       "289487   1970-01-01 00:00:00.000002212\n",
       "289490   1970-01-01 00:00:00.000000711\n",
       "Name: arrTime, Length: 130312, dtype: datetime64[ns]"
      ]
     },
     "execution_count": 85,
     "metadata": {},
     "output_type": "execute_result"
    }
   ],
   "source": [
    "#pd.to_datetime(df_filtered['arrTime'], format='%H%M')\n",
    "\n",
    "pd.to_datetime(df_filtered['arrTime'], infer_datetime_format=True)"
   ]
  },
  {
   "cell_type": "code",
   "execution_count": 79,
   "metadata": {},
   "outputs": [
    {
     "data": {
      "text/plain": [
       "15         0\n",
       "36        10\n",
       "56        47\n",
       "79        -1\n",
       "80        29\n",
       "          ..\n",
       "289452     0\n",
       "289468     2\n",
       "289471     0\n",
       "289487     2\n",
       "289490    61\n",
       "Name: adelay, Length: 130312, dtype: int64"
      ]
     },
     "execution_count": 79,
     "metadata": {},
     "output_type": "execute_result"
    }
   ],
   "source": [
    "df_filtered['adelay']"
   ]
  }
 ],
 "metadata": {
  "kernelspec": {
   "display_name": "Python 3 (ipykernel)",
   "language": "python",
   "name": "python3"
  },
  "language_info": {
   "codemirror_mode": {
    "name": "ipython",
    "version": 3
   },
   "file_extension": ".py",
   "mimetype": "text/x-python",
   "name": "python",
   "nbconvert_exporter": "python",
   "pygments_lexer": "ipython3",
   "version": "3.8.13"
  },
  "toc": {
   "base_numbering": 1,
   "nav_menu": {},
   "number_sections": true,
   "sideBar": true,
   "skip_h1_title": false,
   "title_cell": "Table of Contents",
   "title_sidebar": "Contents",
   "toc_cell": false,
   "toc_position": {},
   "toc_section_display": true,
   "toc_window_display": false
  }
 },
 "nbformat": 4,
 "nbformat_minor": 2
}
