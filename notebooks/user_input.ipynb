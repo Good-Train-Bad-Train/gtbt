{
 "cells": [
  {
   "cell_type": "code",
   "execution_count": 2,
   "metadata": {},
   "outputs": [],
   "source": [
    "import numpy as np\n",
    "import pandas as pd\n",
    "\n",
    "from datetime import datetime"
   ]
  },
  {
   "cell_type": "code",
   "execution_count": 5,
   "metadata": {},
   "outputs": [
    {
     "name": "stdout",
     "output_type": "stream",
     "text": [
      "2 6 05:00:00\n"
     ]
    }
   ],
   "source": [
    "# city: input(Where are you going?) ---> Drop down list (Köln, München)\n",
    "city = 'Köln'\n",
    "# weekday: input(When are you going?) ---> Calendar menu (no more than 8 days (?))\n",
    "date = datetime(2022, 6, 8, 5)\n",
    "weekday = date.weekday()\n",
    "month = date.month\n",
    "time_of_day = date.time()\n",
    "# print(weekday, month, time_of_day)\n",
    "\n",
    "\n"
   ]
  },
  {
   "cell_type": "code",
   "execution_count": null,
   "metadata": {},
   "outputs": [],
   "source": [
    "X = data[['city', 'temp', 'prcp', 'wspd', 'wpgt', 'snow', 'coco', 'weekday', 'month', 'time_of_day']]"
   ]
  }
 ],
 "metadata": {
  "interpreter": {
   "hash": "6399be11364a6cb6a0c6ff7c8d07942c7c341f551218ac7c514ba1a0e828f38a"
  },
  "kernelspec": {
   "display_name": "Python 3.8.13 64-bit ('goodtrainbadtrain')",
   "language": "python",
   "name": "python3"
  },
  "language_info": {
   "codemirror_mode": {
    "name": "ipython",
    "version": 3
   },
   "file_extension": ".py",
   "mimetype": "text/x-python",
   "name": "python",
   "nbconvert_exporter": "python",
   "pygments_lexer": "ipython3",
   "version": "3.8.13"
  },
  "orig_nbformat": 4
 },
 "nbformat": 4,
 "nbformat_minor": 2
}
