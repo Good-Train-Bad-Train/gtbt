{
 "cells": [
  {
   "cell_type": "code",
   "execution_count": 108,
   "id": "93b60cc0-778b-4421-adfb-c112855c15c1",
   "metadata": {},
   "outputs": [
    {
     "name": "stdout",
     "output_type": "stream",
     "text": [
      "Journey 1 - direct Munich to Cologne\n",
      "ICE 616\n",
      "München Hbf\n",
      "Köln Hbf\n",
      "\n",
      "\n",
      "Journey 2 - Munich to Cologne with stop in Mannheim and Frankfurt Flughafen\n",
      "ICE 692\n",
      "München Hbf\n",
      "Mannheim Hbf\n",
      "ICE 202\n",
      "Mannheim Hbf\n",
      "Frankfurt(Main) Flughafen Fernbf\n",
      "ICE 728\n",
      "Frankfurt(Main) Flughafen Fernbf\n",
      "Köln Messe/Deutz Gl.11-12\n"
     ]
    }
   ],
   "source": [
    "import pandas as pd\n",
    "import pyhafas\n",
    "import datetime\n",
    "\n",
    "from pyhafas.profile import VSNProfile\n",
    "from pyhafas.types.fptf import Leg\n",
    "from datetime import datetime\n",
    "from typing import List\n",
    "from pyhafas.profile import DBProfile\n",
    "from pyhafas.types.fptf import Leg\n",
    "\n",
    "client = HafasClient(VSNProfile())\n",
    "\n",
    "date_time_str = '18/09/22 01:55:19' # you can play around with date and time, but looks like it only looks into the future\n",
    "date_time_obj = datetime.strptime(date_time_str, '%d/%m/%y %H:%M:%S')\n",
    "    \n",
    "origin = client.locations(\"München Hbf\")[0]\n",
    "connections = client.locations(\"Mannheim\")[0] # can specify here whether you want a connection \n",
    "destination = client.locations(\"Köln Messe\")[0]\n",
    "\n",
    "\n",
    "journeys = client.journeys(\n",
    "    origin=origin,\n",
    "    via=[connections],\n",
    "    destination=destination,\n",
    "    date=date_time_obj,#datetime.datetime.now(),\n",
    "    max_changes=2,\n",
    "    min_change_time=1,\n",
    "    max_journeys=-1,\n",
    "        products={\n",
    "        'long_distance_express': True,\n",
    "        'regional_express': False,\n",
    "        'regional': False,\n",
    "        'suburban': False,\n",
    "        'bus': False,\n",
    "        'ferry': False,\n",
    "        'subway': False,\n",
    "        'tram': False,\n",
    "        'taxi': False\n",
    "    }\n",
    "\n",
    ")\n",
    "    \n",
    "#journey = client.journey(journeys[0].id)\n",
    "\n",
    "print('Journey 1 - direct Munich to Cologne')\n",
    "print(journeys[0].legs[0].name)\n",
    "print(journeys[0].legs[0].origin.name)\n",
    "print(journeys[0].legs[0].destination.name)\n",
    "print('\\n')\n",
    "print('Journey 2 - Munich to Cologne with stop in Mannheim and Frankfurt Flughafen')\n",
    "print(journeys[2].legs[0].name)\n",
    "print(journeys[2].legs[0].origin.name)\n",
    "print(journeys[2].legs[0].destination.name)\n",
    "print(journeys[2].legs[1].name)\n",
    "print(journeys[2].legs[1].origin.name)\n",
    "print(journeys[2].legs[1].destination.name)\n",
    "print(journeys[2].legs[2].name)\n",
    "print(journeys[2].legs[2].origin.name)\n",
    "print(journeys[2].legs[2].destination.name)"
   ]
  },
  {
   "cell_type": "markdown",
   "id": "787b2a63-852b-4eda-acd6-8612261f1855",
   "metadata": {},
   "source": [
    "### Extra information\n",
    "\n",
    "The \"legs\" class also has some extra info like expected arrival time and coordinates. Particularly the latter could be useful for plotting"
   ]
  },
  {
   "cell_type": "code",
   "execution_count": 137,
   "id": "9c3fc283-2f57-4963-a066-f828bf914ae9",
   "metadata": {},
   "outputs": [
    {
     "name": "stdout",
     "output_type": "stream",
     "text": [
      "Station 1\n",
      "München Hbf\n",
      "48.140229\n",
      "11.558339\n",
      "\n",
      "Station 2\n",
      "Mannheim Hbf\n",
      "49.479352\n",
      "8.468917\n",
      "\n",
      "Station 3\n",
      "Frankfurt(Main) Flughafen Fernbf\n",
      "50.053169\n",
      "8.570181\n",
      "\n",
      "Station 4\n",
      "Köln Messe/Deutz Gl.11-12\n",
      "50.941717\n",
      "6.974065\n"
     ]
    }
   ],
   "source": [
    "print('Station 1')\n",
    "print(journeys[2].legs[0].origin.name)\n",
    "print(journeys[2].legs[0].origin.latitude)\n",
    "print(journeys[2].legs[0].origin.longitude)\n",
    "\n",
    "print('\\nStation 2')\n",
    "print(journeys[2].legs[1].origin.name)\n",
    "print(journeys[2].legs[1].origin.latitude)\n",
    "print(journeys[2].legs[1].origin.longitude)\n",
    "\n",
    "print('\\nStation 3')\n",
    "print(journeys[2].legs[2].origin.name)\n",
    "print(journeys[2].legs[2].origin.latitude)\n",
    "print(journeys[2].legs[2].origin.longitude)\n",
    "\n",
    "print('\\nStation 4')\n",
    "print(journeys[2].legs[2].destination.name)\n",
    "print(journeys[2].legs[2].destination.latitude)\n",
    "print(journeys[2].legs[2].destination.longitude)\n"
   ]
  },
  {
   "cell_type": "markdown",
   "id": "5ed34ed2-3a70-4752-84a5-c153df75702c",
   "metadata": {
    "tags": []
   },
   "source": [
    "### Basic plotting"
   ]
  },
  {
   "cell_type": "code",
   "execution_count": 139,
   "id": "7d2a5118-e1e6-4092-b0a8-35623dd302d1",
   "metadata": {},
   "outputs": [
    {
     "ename": "ModuleNotFoundError",
     "evalue": "No module named 'folium'",
     "output_type": "error",
     "traceback": [
      "\u001b[0;31m---------------------------------------------------------------------------\u001b[0m",
      "\u001b[0;31mModuleNotFoundError\u001b[0m                       Traceback (most recent call last)",
      "Input \u001b[0;32mIn [139]\u001b[0m, in \u001b[0;36m<cell line: 1>\u001b[0;34m()\u001b[0m\n\u001b[0;32m----> 1\u001b[0m \u001b[38;5;28;01mimport\u001b[39;00m \u001b[38;5;21;01mfolium\u001b[39;00m\n\u001b[1;32m      3\u001b[0m idf_map \u001b[38;5;241m=\u001b[39m folium\u001b[38;5;241m.\u001b[39mMap(location\u001b[38;5;241m=\u001b[39m[\u001b[38;5;241m48.868\u001b[39m, \u001b[38;5;241m2.365\u001b[39m], zoom_start\u001b[38;5;241m=\u001b[39m\u001b[38;5;241m8\u001b[39m, tiles\u001b[38;5;241m=\u001b[39m\u001b[38;5;124m'\u001b[39m\u001b[38;5;124mCartodb dark_matter\u001b[39m\u001b[38;5;124m'\u001b[39m)\n\u001b[1;32m      4\u001b[0m \u001b[38;5;28;01mfor\u001b[39;00m line_segment \u001b[38;5;129;01min\u001b[39;00m idf_transport_geo[\u001b[38;5;124m'\u001b[39m\u001b[38;5;124mfeatures\u001b[39m\u001b[38;5;124m'\u001b[39m]:\n",
      "\u001b[0;31mModuleNotFoundError\u001b[0m: No module named 'folium'"
     ]
    }
   ],
   "source": [
    "import folium\n",
    "\n",
    "idf_map = folium.Map(location=[48.868, 2.365], zoom_start=8, tiles='Cartodb dark_matter')\n",
    "for line_segment in idf_transport_geo['features']:\n",
    "    gjson = folium.features.GeoJson(line_segment['geometry'],\n",
    "                                    style_function = lambda x: {'color': '#00C4B3',\n",
    "                                                                'weight': 1.5})\n",
    "    idf_map.add_child(gjson)\n",
    "\n",
    "for i, v in idf_station_df.iterrows():\n",
    "    folium.CircleMarker(location=[v['lat'], v['lng']],\n",
    "                        radius=1.2,\n",
    "                        color='#00C4B3',\n",
    "                        fill_color='#00C4B3',\n",
    "                        fill=True).add_to(idf_map)\n",
    "\n",
    "idf_map"
   ]
  },
  {
   "cell_type": "markdown",
   "id": "cb132a49-0f9c-43fd-9267-ab3e89acb514",
   "metadata": {},
   "source": [
    "#### BASIC INFO/DOCUMENTATION FOR EACH CLASS IN API\n",
    "  \n",
    "    def __init__(\n",
    "            self,\n",
    "            id: str,\n",
    "            origin: Station,\n",
    "            destination: Station,\n",
    "            departure: datetime.datetime,\n",
    "            arrival: datetime.datetime,\n",
    "            mode: Mode = Mode.TRAIN,\n",
    "            name: Optional[str] = None,\n",
    "            cancelled: bool = False,\n",
    "            distance: Optional[int] = None,\n",
    "            departure_delay: Optional[datetime.timedelta] = None,\n",
    "            departure_platform: Optional[str] = None,\n",
    "            arrival_delay: Optional[datetime.timedelta] = None,\n",
    "            arrival_platform: Optional[str] = None,\n",
    "            stopovers: Optional[List[Stopover]] = None\n",
    "    ):\n",
    "        \"\"\"\n",
    "        FPTF `Leg` object\n",
    "\n",
    "        :param id: Internal ID of the station\n",
    "        :param origin: FPTF `Station` object of the origin station\n",
    "        :param destination: FPTF `Station` object of the destination station\n",
    "        :param departure: Planned date and Time of the departure\n",
    "        :param arrival: Planned date and Time of the arrival\n",
    "        :param mode: (optional) Type of transport vehicle - Must be a part of the FPTF `Mode` enum. Defaults to `Mode.TRAIN`\n",
    "        :param name: (optional) Name of the trip (e.g. ICE 123). Defaults to None\n",
    "        :param cancelled: (optional) Whether the trip is cancelled. Defaults to False\n",
    "        :param distance: (optional) Distance of the walk trip in meters. Defaults to None\n",
    "        :param departure_delay: (optional) Delay at the departure station. Defaults to None\n",
    "        :param departure_platform: (optional) Real-time platform at the departure station. Defaults to None\n",
    "        :param arrival_delay: (optional) Delay at the arrival station. Defaults to None\n",
    "        :param arrival_platform: (optional) Platform at the arrival station. Defaults to None\n",
    "        :param stopovers: (optional) List of FPTF `Stopover` objects. Defaults to None\n",
    "        \"\"\""
   ]
  }
 ],
 "metadata": {
  "kernelspec": {
   "display_name": "Python 3 (ipykernel)",
   "language": "python",
   "name": "python3"
  },
  "language_info": {
   "codemirror_mode": {
    "name": "ipython",
    "version": 3
   },
   "file_extension": ".py",
   "mimetype": "text/x-python",
   "name": "python",
   "nbconvert_exporter": "python",
   "pygments_lexer": "ipython3",
   "version": "3.8.12"
  }
 },
 "nbformat": 4,
 "nbformat_minor": 5
}
